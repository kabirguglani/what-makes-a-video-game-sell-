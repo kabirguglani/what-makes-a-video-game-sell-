{
 "cells": [
  {
   "cell_type": "markdown",
   "metadata": {},
   "source": [
    "## **Purpose**\n",
    " In this notebook we will add a is_series column to our VGchartz/MetaCritic dataset that says whether a video game is part of a series or not. We will also create the dataset that we will use to answer research question 'Do video game series get worse'.\n",
    "\n",
    "## **Datasets**\n",
    "300.csv, 400.csv\n"
   ]
  },
  {
   "cell_type": "code",
   "execution_count": 1,
   "metadata": {},
   "outputs": [
    {
     "name": "stderr",
     "output_type": "stream",
     "text": [
      "C:\\Users\\Sean Harkin\\Anaconda3\\lib\\site-packages\\fuzzywuzzy\\fuzz.py:11: UserWarning: Using slow pure-python SequenceMatcher. Install python-Levenshtein to remove this warning\n",
      "  warnings.warn('Using slow pure-python SequenceMatcher. Install python-Levenshtein to remove this warning')\n"
     ]
    }
   ],
   "source": [
    "from bs4 import BeautifulSoup\n",
    "import requests\n",
    "import pandas as pd\n",
    "import numpy as np\n",
    "import os\n",
    "from fuzzywuzzy import fuzz "
   ]
  },
  {
   "cell_type": "code",
   "execution_count": 2,
   "metadata": {},
   "outputs": [
    {
     "name": "stdout",
     "output_type": "stream",
     "text": [
      "Success!\n"
     ]
    }
   ],
   "source": [
    "if not os.path.exists(\"../data/prep/400.csv\"):\n",
    "    print(\"Missing dataset file\")\n",
    "else:\n",
    "    print(\"Success!\")"
   ]
  },
  {
   "cell_type": "code",
   "execution_count": 24,
   "metadata": {},
   "outputs": [],
   "source": [
    "df = pd.read_csv(\"../data/prep/400.csv\")\n",
    "df1 = pd.read_csv(\"../data/prep/300.csv\")"
   ]
  },
  {
   "cell_type": "code",
   "execution_count": 4,
   "metadata": {},
   "outputs": [
    {
     "name": "stdout",
     "output_type": "stream",
     "text": [
      "<class 'pandas.core.frame.DataFrame'>\n",
      "RangeIndex: 4571 entries, 0 to 4570\n",
      "Data columns (total 9 columns):\n",
      "name                 4571 non-null object\n",
      "global_sales         4571 non-null float64\n",
      "na_sales             4571 non-null float64\n",
      "eu_sales             4571 non-null float64\n",
      "jp_sales             4571 non-null float64\n",
      "other_sales          4571 non-null float64\n",
      "meta_critic_score    4571 non-null float64\n",
      "meta_user_score      4571 non-null float64\n",
      "release_date         4571 non-null object\n",
      "dtypes: float64(7), object(2)\n",
      "memory usage: 321.5+ KB\n"
     ]
    }
   ],
   "source": [
    "df.info()"
   ]
  },
  {
   "cell_type": "markdown",
   "metadata": {},
   "source": [
    "## **Adding is_series Column**"
   ]
  },
  {
   "cell_type": "markdown",
   "metadata": {},
   "source": [
    "In order to determine if a game is part of a series I can use a number of different methods. The following example is done using the fuzzywuzzy library."
   ]
  },
  {
   "cell_type": "code",
   "execution_count": 5,
   "metadata": {},
   "outputs": [],
   "source": [
    "from fuzzywuzzy import fuzz \n",
    "Str1 = \"Grand Theft Auto V\"\n",
    "Str2 = \"Grand Theft Auto III\"\n",
    "Ratio = fuzz.ratio(Str1.lower(),Str2.lower())\n",
    "Partial_Ratio = fuzz.partial_ratio(Str1.lower(),Str2.lower())\n",
    "Token_Sort_Ratio = fuzz.token_sort_ratio(Str1,Str2)"
   ]
  },
  {
   "cell_type": "code",
   "execution_count": 6,
   "metadata": {},
   "outputs": [
    {
     "name": "stdout",
     "output_type": "stream",
     "text": [
      "89\n",
      "94\n",
      "84\n"
     ]
    }
   ],
   "source": [
    "print(Ratio)\n",
    "print(Partial_Ratio)\n",
    "print(Token_Sort_Ratio)"
   ]
  },
  {
   "cell_type": "markdown",
   "metadata": {},
   "source": [
    "As you can see both games matched pretty well which means they are part of the same series.\n",
    "\n",
    "Although fuzzy matching worked good, I am going to use the get_close_matches() function as its compile time is much better for this task. I am going to use the dataset we created in the previous notebook (400.csv) as I dont want, for example grand theft auto V for ps3 matching with grand theft auto V for ps4. I will join my resulting dataframe to the 300.csv."
   ]
  },
  {
   "cell_type": "code",
   "execution_count": 7,
   "metadata": {},
   "outputs": [],
   "source": [
    "import difflib\n",
    "def find_it(w):\n",
    "    return difflib.get_close_matches(w, df.name, n=100000, cutoff=.72)"
   ]
  },
  {
   "cell_type": "markdown",
   "metadata": {},
   "source": [
    "I iteratively run the get_close_matches() function for every game name in my dataframe"
   ]
  },
  {
   "cell_type": "code",
   "execution_count": 8,
   "metadata": {},
   "outputs": [],
   "source": [
    "name_list=df.name.tolist()\n",
    "l=[]\n",
    "for i in name_list:\n",
    "    l.append( find_it(i))"
   ]
  },
  {
   "cell_type": "code",
   "execution_count": 9,
   "metadata": {},
   "outputs": [],
   "source": [
    "tem_df = pd.DataFrame()\n",
    "column_values = pd.Series(name_list)\n",
    "tem_df.insert(loc=0, column='name', value=column_values)"
   ]
  },
  {
   "cell_type": "code",
   "execution_count": 10,
   "metadata": {},
   "outputs": [],
   "source": [
    "column_values = pd.Series(l)\n",
    "tem_df.insert(loc=0, column='Matched_Name', value=column_values)"
   ]
  },
  {
   "cell_type": "code",
   "execution_count": 11,
   "metadata": {},
   "outputs": [],
   "source": [
    "tem_df.insert(loc=0, column='is_series', value='yes')"
   ]
  },
  {
   "cell_type": "code",
   "execution_count": 12,
   "metadata": {},
   "outputs": [],
   "source": [
    "mention_list=[]\n",
    "for index, row in tem_df.iterrows():\n",
    "    str1 = \" \".join(str(x) for x in row['Matched_Name'])\n",
    "    mention_list.append(str1)"
   ]
  },
  {
   "cell_type": "code",
   "execution_count": 22,
   "metadata": {},
   "outputs": [
    {
     "data": {
      "text/html": [
       "<div>\n",
       "<style scoped>\n",
       "    .dataframe tbody tr th:only-of-type {\n",
       "        vertical-align: middle;\n",
       "    }\n",
       "\n",
       "    .dataframe tbody tr th {\n",
       "        vertical-align: top;\n",
       "    }\n",
       "\n",
       "    .dataframe thead th {\n",
       "        text-align: right;\n",
       "    }\n",
       "</style>\n",
       "<table border=\"1\" class=\"dataframe\">\n",
       "  <thead>\n",
       "    <tr style=\"text-align: right;\">\n",
       "      <th></th>\n",
       "      <th>is_series</th>\n",
       "      <th>Matched_Name</th>\n",
       "      <th>name</th>\n",
       "    </tr>\n",
       "  </thead>\n",
       "  <tbody>\n",
       "    <tr>\n",
       "      <th>0</th>\n",
       "      <td>yes</td>\n",
       "      <td>.hack//G.U. Last Recode</td>\n",
       "      <td>.hack//G.U. Last Recode</td>\n",
       "    </tr>\n",
       "    <tr>\n",
       "      <th>1</th>\n",
       "      <td>yes</td>\n",
       "      <td>.hack//Infection Part 1</td>\n",
       "      <td>.hack//Infection Part 1</td>\n",
       "    </tr>\n",
       "    <tr>\n",
       "      <th>2</th>\n",
       "      <td>yes</td>\n",
       "      <td>007 Legends GT Legends</td>\n",
       "      <td>007 Legends</td>\n",
       "    </tr>\n",
       "    <tr>\n",
       "      <th>3</th>\n",
       "      <td>yes</td>\n",
       "      <td>007 Racing</td>\n",
       "      <td>007 Racing</td>\n",
       "    </tr>\n",
       "    <tr>\n",
       "      <th>4</th>\n",
       "      <td>yes</td>\n",
       "      <td>007: Quantum of Solace</td>\n",
       "      <td>007: Quantum of Solace</td>\n",
       "    </tr>\n",
       "  </tbody>\n",
       "</table>\n",
       "</div>"
      ],
      "text/plain": [
       "  is_series             Matched_Name                     name\n",
       "0       yes  .hack//G.U. Last Recode  .hack//G.U. Last Recode\n",
       "1       yes  .hack//Infection Part 1  .hack//Infection Part 1\n",
       "2       yes   007 Legends GT Legends              007 Legends\n",
       "3       yes               007 Racing               007 Racing\n",
       "4       yes   007: Quantum of Solace   007: Quantum of Solace"
      ]
     },
     "execution_count": 22,
     "metadata": {},
     "output_type": "execute_result"
    }
   ],
   "source": [
    "tem_df['Matched_Name'] = mention_list\n",
    "#temp_df.set_index('Name')\n",
    "tem_df.head()"
   ]
  },
  {
   "cell_type": "markdown",
   "metadata": {},
   "source": [
    "I remove the games that only matched with themselves as they are not part of a series. I now have a dataframe contain only the game sthat a part of a series."
   ]
  },
  {
   "cell_type": "code",
   "execution_count": 14,
   "metadata": {},
   "outputs": [],
   "source": [
    "newdf = pd.DataFrame() \n",
    "newdf=tem_df[tem_df['Matched_Name'] != tem_df['name']]"
   ]
  },
  {
   "cell_type": "markdown",
   "metadata": {},
   "source": [
    "I then join it back to the original dataframe"
   ]
  },
  {
   "cell_type": "code",
   "execution_count": 15,
   "metadata": {},
   "outputs": [],
   "source": [
    "final_df=df1.merge(newdf, on=['name'], how='left')"
   ]
  },
  {
   "cell_type": "markdown",
   "metadata": {},
   "source": [
    "Finally I change the is_series value of the games that arent part of a series from nan to no."
   ]
  },
  {
   "cell_type": "code",
   "execution_count": 16,
   "metadata": {},
   "outputs": [],
   "source": [
    "final_df['is_series'] = final_df['is_series'].replace(np.nan,'no')\n",
    "final_df=final_df.set_index('name')"
   ]
  },
  {
   "cell_type": "code",
   "execution_count": 17,
   "metadata": {},
   "outputs": [
    {
     "data": {
      "text/html": [
       "<div>\n",
       "<style scoped>\n",
       "    .dataframe tbody tr th:only-of-type {\n",
       "        vertical-align: middle;\n",
       "    }\n",
       "\n",
       "    .dataframe tbody tr th {\n",
       "        vertical-align: top;\n",
       "    }\n",
       "\n",
       "    .dataframe thead th {\n",
       "        text-align: right;\n",
       "    }\n",
       "</style>\n",
       "<table border=\"1\" class=\"dataframe\">\n",
       "  <thead>\n",
       "    <tr style=\"text-align: right;\">\n",
       "      <th></th>\n",
       "      <th>developer</th>\n",
       "      <th>rank</th>\n",
       "      <th>platform</th>\n",
       "      <th>release_date</th>\n",
       "      <th>publisher</th>\n",
       "      <th>na_sales</th>\n",
       "      <th>eu_sales</th>\n",
       "      <th>jp_sales</th>\n",
       "      <th>other_sales</th>\n",
       "      <th>global_sales</th>\n",
       "      <th>...</th>\n",
       "      <th>meta_critic_count</th>\n",
       "      <th>meta_user_score</th>\n",
       "      <th>meta_user_count</th>\n",
       "      <th>meta_esrb</th>\n",
       "      <th>meta_genre</th>\n",
       "      <th>meta_multiplayer</th>\n",
       "      <th>meta_full_url</th>\n",
       "      <th>release_year</th>\n",
       "      <th>is_series</th>\n",
       "      <th>Matched_Name</th>\n",
       "    </tr>\n",
       "    <tr>\n",
       "      <th>name</th>\n",
       "      <th></th>\n",
       "      <th></th>\n",
       "      <th></th>\n",
       "      <th></th>\n",
       "      <th></th>\n",
       "      <th></th>\n",
       "      <th></th>\n",
       "      <th></th>\n",
       "      <th></th>\n",
       "      <th></th>\n",
       "      <th></th>\n",
       "      <th></th>\n",
       "      <th></th>\n",
       "      <th></th>\n",
       "      <th></th>\n",
       "      <th></th>\n",
       "      <th></th>\n",
       "      <th></th>\n",
       "      <th></th>\n",
       "      <th></th>\n",
       "      <th></th>\n",
       "    </tr>\n",
       "  </thead>\n",
       "  <tbody>\n",
       "    <tr>\n",
       "      <th>BioShock 2</th>\n",
       "      <td>2K Marin</td>\n",
       "      <td>228</td>\n",
       "      <td>PS3</td>\n",
       "      <td>2010-02-09</td>\n",
       "      <td>2K Games</td>\n",
       "      <td>850000</td>\n",
       "      <td>460000</td>\n",
       "      <td>20000</td>\n",
       "      <td>220000</td>\n",
       "      <td>1550000.0</td>\n",
       "      <td>...</td>\n",
       "      <td>62.0</td>\n",
       "      <td>8.2</td>\n",
       "      <td>585</td>\n",
       "      <td>M</td>\n",
       "      <td>Action</td>\n",
       "      <td>yes</td>\n",
       "      <td>https://www.metacritic.com/game/playstation-3/...</td>\n",
       "      <td>2010</td>\n",
       "      <td>yes</td>\n",
       "      <td>BioShock 2 BioShock</td>\n",
       "    </tr>\n",
       "  </tbody>\n",
       "</table>\n",
       "<p>1 rows × 25 columns</p>\n",
       "</div>"
      ],
      "text/plain": [
       "             developer  rank platform release_date   publisher  na_sales  \\\n",
       "name                                                                       \n",
       "BioShock 2  2K Marin     228      PS3   2010-02-09  2K Games      850000   \n",
       "\n",
       "            eu_sales  jp_sales  other_sales  global_sales  ...  \\\n",
       "name                                                       ...   \n",
       "BioShock 2    460000     20000       220000     1550000.0  ...   \n",
       "\n",
       "           meta_critic_count meta_user_score meta_user_count meta_esrb  \\\n",
       "name                                                                     \n",
       "BioShock 2              62.0             8.2             585         M   \n",
       "\n",
       "            meta_genre  meta_multiplayer  \\\n",
       "name                                       \n",
       "BioShock 2      Action               yes   \n",
       "\n",
       "                                                meta_full_url  release_year  \\\n",
       "name                                                                          \n",
       "BioShock 2  https://www.metacritic.com/game/playstation-3/...          2010   \n",
       "\n",
       "           is_series         Matched_Name  \n",
       "name                                       \n",
       "BioShock 2       yes  BioShock 2 BioShock  \n",
       "\n",
       "[1 rows x 25 columns]"
      ]
     },
     "execution_count": 17,
     "metadata": {},
     "output_type": "execute_result"
    }
   ],
   "source": [
    "final_df.sample()"
   ]
  },
  {
   "cell_type": "code",
   "execution_count": 18,
   "metadata": {},
   "outputs": [],
   "source": [
    "final_df['Matched_Name']=final_df['Matched_Name'].replace(np.nan,'none')"
   ]
  },
  {
   "cell_type": "code",
   "execution_count": 19,
   "metadata": {},
   "outputs": [
    {
     "name": "stdout",
     "output_type": "stream",
     "text": [
      "(7374, 25)\n"
     ]
    }
   ],
   "source": [
    "print(final_df.shape)"
   ]
  },
  {
   "cell_type": "code",
   "execution_count": 20,
   "metadata": {},
   "outputs": [],
   "source": [
    "final_df.to_csv(\"../data/prep/500.csv\",sep=\",\",encoding='utf-8')"
   ]
  },
  {
   "cell_type": "markdown",
   "metadata": {},
   "source": [
    "## **Creating dataset for research question 3**"
   ]
  },
  {
   "cell_type": "markdown",
   "metadata": {},
   "source": [
    "I am also interested at comparing different series and seeing if video games series get worse as the series goes on. To do this, this time I am going to use fuzzy matching.\n",
    "\n",
    "I have created a list of video game series. I have picked thses games at random in order to avoid bias and i fell they represent a large number of genres, developers etc."
   ]
  },
  {
   "cell_type": "code",
   "execution_count": 76,
   "metadata": {},
   "outputs": [],
   "source": [
    "series_list=['grand theft auto', 'assassin creed', 'fifa','red dead redemption','metal gear solid','resident evil','star wars','angry birds',\n",
    "             'tomb raider', 'spider-man','hitman', 'dishonored','far cry','just cause','saints row','harry potter','tom clancys',\n",
    "             'wwe 2k','ape escape','arcana heart','army men','asphalt','sims','mafia','pac-man','dragon ball z','madden nfl','nba 2k','darksiders'\n",
    "             ,'dead or alive','dead space','disgaea','fallout','way of the samurai','transformers','tenchu','teenage mutant ninja turtles',\n",
    "             'ninja gaiden','atv offroad fury','all star baseball','armored core','battlefield','bioshock','breath of fire','burnout','call of duty',\n",
    "             'crazy taxi','dance revolution','dragon age','donkey kong','f1','farming simulator','fight night','final fantasy','Football Manager',\n",
    "             'forza','god eater','grandia','guilt gear','guitar hero','halo','motogp','nhl 2k','naruto','need for speed','pro evolution soccer',]"
   ]
  },
  {
   "cell_type": "markdown",
   "metadata": {},
   "source": [
    "I will iteratively create a dataframe for each series containing all the games that are in that series."
   ]
  },
  {
   "cell_type": "code",
   "execution_count": 77,
   "metadata": {},
   "outputs": [
    {
     "name": "stderr",
     "output_type": "stream",
     "text": [
      "C:\\Users\\Sean Harkin\\Anaconda3\\lib\\site-packages\\ipykernel_launcher.py:4: SettingWithCopyWarning: \n",
      "A value is trying to be set on a copy of a slice from a DataFrame.\n",
      "Try using .loc[row_indexer,col_indexer] = value instead\n",
      "\n",
      "See the caveats in the documentation: http://pandas.pydata.org/pandas-docs/stable/indexing.html#indexing-view-versus-copy\n",
      "  after removing the cwd from sys.path.\n"
     ]
    }
   ],
   "source": [
    " d = {}\n",
    "for name in series_list:\n",
    "    d[name] = df[df.apply(lambda row: fuzz.partial_ratio(row['name'].lower(),name.lower()), axis=1) > 90]\n",
    "    d[name]['series_name']=name"
   ]
  },
  {
   "cell_type": "code",
   "execution_count": 78,
   "metadata": {},
   "outputs": [
    {
     "data": {
      "text/html": [
       "<div>\n",
       "<style scoped>\n",
       "    .dataframe tbody tr th:only-of-type {\n",
       "        vertical-align: middle;\n",
       "    }\n",
       "\n",
       "    .dataframe tbody tr th {\n",
       "        vertical-align: top;\n",
       "    }\n",
       "\n",
       "    .dataframe thead th {\n",
       "        text-align: right;\n",
       "    }\n",
       "</style>\n",
       "<table border=\"1\" class=\"dataframe\">\n",
       "  <thead>\n",
       "    <tr style=\"text-align: right;\">\n",
       "      <th></th>\n",
       "      <th>name</th>\n",
       "      <th>global_sales</th>\n",
       "      <th>na_sales</th>\n",
       "      <th>eu_sales</th>\n",
       "      <th>jp_sales</th>\n",
       "      <th>other_sales</th>\n",
       "      <th>meta_critic_score</th>\n",
       "      <th>meta_user_score</th>\n",
       "      <th>release_date</th>\n",
       "      <th>series_name</th>\n",
       "    </tr>\n",
       "  </thead>\n",
       "  <tbody>\n",
       "    <tr>\n",
       "      <th>1567</th>\n",
       "      <td>Grand Theft Auto</td>\n",
       "      <td>240000.0</td>\n",
       "      <td>170000.0</td>\n",
       "      <td>60000.0</td>\n",
       "      <td>0.0</td>\n",
       "      <td>0.0</td>\n",
       "      <td>68.0</td>\n",
       "      <td>7.1</td>\n",
       "      <td>2004-10-26</td>\n",
       "      <td>grand theft auto</td>\n",
       "    </tr>\n",
       "    <tr>\n",
       "      <th>1568</th>\n",
       "      <td>Grand Theft Auto 2</td>\n",
       "      <td>3420000.0</td>\n",
       "      <td>1130000.0</td>\n",
       "      <td>2070000.0</td>\n",
       "      <td>0.0</td>\n",
       "      <td>220000.0</td>\n",
       "      <td>70.0</td>\n",
       "      <td>7.9</td>\n",
       "      <td>1999-10-25</td>\n",
       "      <td>grand theft auto</td>\n",
       "    </tr>\n",
       "    <tr>\n",
       "      <th>1569</th>\n",
       "      <td>Grand Theft Auto III</td>\n",
       "      <td>13110000.0</td>\n",
       "      <td>6990000.0</td>\n",
       "      <td>4520000.0</td>\n",
       "      <td>300000.0</td>\n",
       "      <td>1300000.0</td>\n",
       "      <td>95.0</td>\n",
       "      <td>8.4</td>\n",
       "      <td>2001-10-23</td>\n",
       "      <td>grand theft auto</td>\n",
       "    </tr>\n",
       "    <tr>\n",
       "      <th>1570</th>\n",
       "      <td>Grand Theft Auto IV</td>\n",
       "      <td>22530000.0</td>\n",
       "      <td>11600000.0</td>\n",
       "      <td>7640000.0</td>\n",
       "      <td>580000.0</td>\n",
       "      <td>2720000.0</td>\n",
       "      <td>95.3</td>\n",
       "      <td>7.4</td>\n",
       "      <td>2008-04-29</td>\n",
       "      <td>grand theft auto</td>\n",
       "    </tr>\n",
       "    <tr>\n",
       "      <th>1571</th>\n",
       "      <td>Grand Theft Auto Online</td>\n",
       "      <td>10000.0</td>\n",
       "      <td>0.0</td>\n",
       "      <td>10000.0</td>\n",
       "      <td>0.0</td>\n",
       "      <td>0.0</td>\n",
       "      <td>83.0</td>\n",
       "      <td>5.9</td>\n",
       "      <td>2013-10-01</td>\n",
       "      <td>grand theft auto</td>\n",
       "    </tr>\n",
       "    <tr>\n",
       "      <th>1572</th>\n",
       "      <td>Grand Theft Auto V</td>\n",
       "      <td>64290000.0</td>\n",
       "      <td>26190000.0</td>\n",
       "      <td>28140000.0</td>\n",
       "      <td>1660000.0</td>\n",
       "      <td>8320000.0</td>\n",
       "      <td>97.0</td>\n",
       "      <td>8.2</td>\n",
       "      <td>2013-09-17</td>\n",
       "      <td>grand theft auto</td>\n",
       "    </tr>\n",
       "    <tr>\n",
       "      <th>1573</th>\n",
       "      <td>Grand Theft Auto: Chinatown Wars</td>\n",
       "      <td>2410000.0</td>\n",
       "      <td>860000.0</td>\n",
       "      <td>1060000.0</td>\n",
       "      <td>80000.0</td>\n",
       "      <td>410000.0</td>\n",
       "      <td>91.5</td>\n",
       "      <td>7.8</td>\n",
       "      <td>2009-03-17</td>\n",
       "      <td>grand theft auto</td>\n",
       "    </tr>\n",
       "    <tr>\n",
       "      <th>1574</th>\n",
       "      <td>Grand Theft Auto: Episodes from Liberty City</td>\n",
       "      <td>90000.0</td>\n",
       "      <td>0.0</td>\n",
       "      <td>80000.0</td>\n",
       "      <td>0.0</td>\n",
       "      <td>10000.0</td>\n",
       "      <td>63.0</td>\n",
       "      <td>8.2</td>\n",
       "      <td>2010-04-13</td>\n",
       "      <td>grand theft auto</td>\n",
       "    </tr>\n",
       "    <tr>\n",
       "      <th>1575</th>\n",
       "      <td>Grand Theft Auto: Liberty City Stories</td>\n",
       "      <td>11260000.0</td>\n",
       "      <td>4460000.0</td>\n",
       "      <td>4230000.0</td>\n",
       "      <td>310000.0</td>\n",
       "      <td>2240000.0</td>\n",
       "      <td>83.0</td>\n",
       "      <td>7.8</td>\n",
       "      <td>2005-10-25</td>\n",
       "      <td>grand theft auto</td>\n",
       "    </tr>\n",
       "    <tr>\n",
       "      <th>1576</th>\n",
       "      <td>Grand Theft Auto: San Andreas</td>\n",
       "      <td>2920000.0</td>\n",
       "      <td>1260000.0</td>\n",
       "      <td>1540000.0</td>\n",
       "      <td>0.0</td>\n",
       "      <td>130000.0</td>\n",
       "      <td>93.0</td>\n",
       "      <td>8.8</td>\n",
       "      <td>2005-06-07</td>\n",
       "      <td>grand theft auto</td>\n",
       "    </tr>\n",
       "    <tr>\n",
       "      <th>1577</th>\n",
       "      <td>Grand Theft Auto: Vice City</td>\n",
       "      <td>16190000.0</td>\n",
       "      <td>8410000.0</td>\n",
       "      <td>5520000.0</td>\n",
       "      <td>470000.0</td>\n",
       "      <td>1780000.0</td>\n",
       "      <td>94.5</td>\n",
       "      <td>8.8</td>\n",
       "      <td>2002-10-28</td>\n",
       "      <td>grand theft auto</td>\n",
       "    </tr>\n",
       "    <tr>\n",
       "      <th>1578</th>\n",
       "      <td>Grand Theft Auto: Vice City Stories</td>\n",
       "      <td>6050000.0</td>\n",
       "      <td>2480000.0</td>\n",
       "      <td>2060000.0</td>\n",
       "      <td>190000.0</td>\n",
       "      <td>1320000.0</td>\n",
       "      <td>80.5</td>\n",
       "      <td>8.1</td>\n",
       "      <td>2006-10-31</td>\n",
       "      <td>grand theft auto</td>\n",
       "    </tr>\n",
       "  </tbody>\n",
       "</table>\n",
       "</div>"
      ],
      "text/plain": [
       "                                              name  global_sales    na_sales  \\\n",
       "1567                              Grand Theft Auto      240000.0    170000.0   \n",
       "1568                            Grand Theft Auto 2     3420000.0   1130000.0   \n",
       "1569                          Grand Theft Auto III    13110000.0   6990000.0   \n",
       "1570                           Grand Theft Auto IV    22530000.0  11600000.0   \n",
       "1571                       Grand Theft Auto Online       10000.0         0.0   \n",
       "1572                            Grand Theft Auto V    64290000.0  26190000.0   \n",
       "1573              Grand Theft Auto: Chinatown Wars     2410000.0    860000.0   \n",
       "1574  Grand Theft Auto: Episodes from Liberty City       90000.0         0.0   \n",
       "1575        Grand Theft Auto: Liberty City Stories    11260000.0   4460000.0   \n",
       "1576                 Grand Theft Auto: San Andreas     2920000.0   1260000.0   \n",
       "1577                   Grand Theft Auto: Vice City    16190000.0   8410000.0   \n",
       "1578           Grand Theft Auto: Vice City Stories     6050000.0   2480000.0   \n",
       "\n",
       "        eu_sales   jp_sales  other_sales  meta_critic_score  meta_user_score  \\\n",
       "1567     60000.0        0.0          0.0               68.0              7.1   \n",
       "1568   2070000.0        0.0     220000.0               70.0              7.9   \n",
       "1569   4520000.0   300000.0    1300000.0               95.0              8.4   \n",
       "1570   7640000.0   580000.0    2720000.0               95.3              7.4   \n",
       "1571     10000.0        0.0          0.0               83.0              5.9   \n",
       "1572  28140000.0  1660000.0    8320000.0               97.0              8.2   \n",
       "1573   1060000.0    80000.0     410000.0               91.5              7.8   \n",
       "1574     80000.0        0.0      10000.0               63.0              8.2   \n",
       "1575   4230000.0   310000.0    2240000.0               83.0              7.8   \n",
       "1576   1540000.0        0.0     130000.0               93.0              8.8   \n",
       "1577   5520000.0   470000.0    1780000.0               94.5              8.8   \n",
       "1578   2060000.0   190000.0    1320000.0               80.5              8.1   \n",
       "\n",
       "     release_date       series_name  \n",
       "1567   2004-10-26  grand theft auto  \n",
       "1568   1999-10-25  grand theft auto  \n",
       "1569   2001-10-23  grand theft auto  \n",
       "1570   2008-04-29  grand theft auto  \n",
       "1571   2013-10-01  grand theft auto  \n",
       "1572   2013-09-17  grand theft auto  \n",
       "1573   2009-03-17  grand theft auto  \n",
       "1574   2010-04-13  grand theft auto  \n",
       "1575   2005-10-25  grand theft auto  \n",
       "1576   2005-06-07  grand theft auto  \n",
       "1577   2002-10-28  grand theft auto  \n",
       "1578   2006-10-31  grand theft auto  "
      ]
     },
     "execution_count": 78,
     "metadata": {},
     "output_type": "execute_result"
    }
   ],
   "source": [
    "d['grand theft auto']"
   ]
  },
  {
   "cell_type": "markdown",
   "metadata": {},
   "source": [
    "That seemed to work well\n",
    "\n",
    "I now have a dataframe for each series. To simplify things I will join these dataframes together."
   ]
  },
  {
   "cell_type": "code",
   "execution_count": 79,
   "metadata": {},
   "outputs": [],
   "source": [
    "series_df=pd.DataFrame()\n",
    "for name in series_list:\n",
    "    series_df=series_df.append(d[name])"
   ]
  },
  {
   "cell_type": "code",
   "execution_count": 80,
   "metadata": {},
   "outputs": [
    {
     "name": "stdout",
     "output_type": "stream",
     "text": [
      "Number of different games: 709\n",
      "Number of different series: 64\n"
     ]
    }
   ],
   "source": [
    "print('Number of different games:',len(series_df))\n",
    "print('Number of different series:',len(series_df['series_name'].unique()))"
   ]
  },
  {
   "cell_type": "markdown",
   "metadata": {},
   "source": [
    "This dataframe contains over 700 games from over 60 series. This dataset should be sufficent to answer research question 3 'Does video game series get worse over time'."
   ]
  },
  {
   "cell_type": "code",
   "execution_count": 81,
   "metadata": {},
   "outputs": [],
   "source": [
    "series_df['release_date']= pd.to_datetime(series_df['release_date'])\n",
    "series_df['release_year'] = series_df['release_date'].dt.year"
   ]
  },
  {
   "cell_type": "code",
   "execution_count": 82,
   "metadata": {},
   "outputs": [
    {
     "data": {
      "text/html": [
       "<div>\n",
       "<style scoped>\n",
       "    .dataframe tbody tr th:only-of-type {\n",
       "        vertical-align: middle;\n",
       "    }\n",
       "\n",
       "    .dataframe tbody tr th {\n",
       "        vertical-align: top;\n",
       "    }\n",
       "\n",
       "    .dataframe thead th {\n",
       "        text-align: right;\n",
       "    }\n",
       "</style>\n",
       "<table border=\"1\" class=\"dataframe\">\n",
       "  <thead>\n",
       "    <tr style=\"text-align: right;\">\n",
       "      <th></th>\n",
       "      <th>name</th>\n",
       "      <th>global_sales</th>\n",
       "      <th>na_sales</th>\n",
       "      <th>eu_sales</th>\n",
       "      <th>jp_sales</th>\n",
       "      <th>other_sales</th>\n",
       "      <th>meta_critic_score</th>\n",
       "      <th>meta_user_score</th>\n",
       "      <th>release_date</th>\n",
       "      <th>series_name</th>\n",
       "      <th>release_year</th>\n",
       "      <th>length</th>\n",
       "    </tr>\n",
       "  </thead>\n",
       "  <tbody>\n",
       "    <tr>\n",
       "      <th>0</th>\n",
       "      <td>Grand Theft Auto</td>\n",
       "      <td>240000.0</td>\n",
       "      <td>170000.0</td>\n",
       "      <td>60000.0</td>\n",
       "      <td>0.0</td>\n",
       "      <td>0.0</td>\n",
       "      <td>68.0</td>\n",
       "      <td>7.1</td>\n",
       "      <td>2004-10-26</td>\n",
       "      <td>grand theft auto</td>\n",
       "      <td>2004</td>\n",
       "      <td>14</td>\n",
       "    </tr>\n",
       "    <tr>\n",
       "      <th>1</th>\n",
       "      <td>Grand Theft Auto 2</td>\n",
       "      <td>3420000.0</td>\n",
       "      <td>1130000.0</td>\n",
       "      <td>2070000.0</td>\n",
       "      <td>0.0</td>\n",
       "      <td>220000.0</td>\n",
       "      <td>70.0</td>\n",
       "      <td>7.9</td>\n",
       "      <td>1999-10-25</td>\n",
       "      <td>grand theft auto</td>\n",
       "      <td>1999</td>\n",
       "      <td>14</td>\n",
       "    </tr>\n",
       "    <tr>\n",
       "      <th>2</th>\n",
       "      <td>Grand Theft Auto III</td>\n",
       "      <td>13110000.0</td>\n",
       "      <td>6990000.0</td>\n",
       "      <td>4520000.0</td>\n",
       "      <td>300000.0</td>\n",
       "      <td>1300000.0</td>\n",
       "      <td>95.0</td>\n",
       "      <td>8.4</td>\n",
       "      <td>2001-10-23</td>\n",
       "      <td>grand theft auto</td>\n",
       "      <td>2001</td>\n",
       "      <td>14</td>\n",
       "    </tr>\n",
       "    <tr>\n",
       "      <th>3</th>\n",
       "      <td>Grand Theft Auto IV</td>\n",
       "      <td>22530000.0</td>\n",
       "      <td>11600000.0</td>\n",
       "      <td>7640000.0</td>\n",
       "      <td>580000.0</td>\n",
       "      <td>2720000.0</td>\n",
       "      <td>95.3</td>\n",
       "      <td>7.4</td>\n",
       "      <td>2008-04-29</td>\n",
       "      <td>grand theft auto</td>\n",
       "      <td>2008</td>\n",
       "      <td>14</td>\n",
       "    </tr>\n",
       "    <tr>\n",
       "      <th>4</th>\n",
       "      <td>Grand Theft Auto Online</td>\n",
       "      <td>10000.0</td>\n",
       "      <td>0.0</td>\n",
       "      <td>10000.0</td>\n",
       "      <td>0.0</td>\n",
       "      <td>0.0</td>\n",
       "      <td>83.0</td>\n",
       "      <td>5.9</td>\n",
       "      <td>2013-10-01</td>\n",
       "      <td>grand theft auto</td>\n",
       "      <td>2013</td>\n",
       "      <td>14</td>\n",
       "    </tr>\n",
       "  </tbody>\n",
       "</table>\n",
       "</div>"
      ],
      "text/plain": [
       "                      name  global_sales    na_sales   eu_sales  jp_sales  \\\n",
       "0         Grand Theft Auto      240000.0    170000.0    60000.0       0.0   \n",
       "1       Grand Theft Auto 2     3420000.0   1130000.0  2070000.0       0.0   \n",
       "2     Grand Theft Auto III    13110000.0   6990000.0  4520000.0  300000.0   \n",
       "3      Grand Theft Auto IV    22530000.0  11600000.0  7640000.0  580000.0   \n",
       "4  Grand Theft Auto Online       10000.0         0.0    10000.0       0.0   \n",
       "\n",
       "   other_sales  meta_critic_score  meta_user_score release_date  \\\n",
       "0          0.0               68.0              7.1   2004-10-26   \n",
       "1     220000.0               70.0              7.9   1999-10-25   \n",
       "2    1300000.0               95.0              8.4   2001-10-23   \n",
       "3    2720000.0               95.3              7.4   2008-04-29   \n",
       "4          0.0               83.0              5.9   2013-10-01   \n",
       "\n",
       "        series_name  release_year  length  \n",
       "0  grand theft auto          2004      14  \n",
       "1  grand theft auto          1999      14  \n",
       "2  grand theft auto          2001      14  \n",
       "3  grand theft auto          2008      14  \n",
       "4  grand theft auto          2013      14  "
      ]
     },
     "execution_count": 82,
     "metadata": {},
     "output_type": "execute_result"
    }
   ],
   "source": [
    "len_df= series_df.groupby('series_name').max()['release_year']- series_df.groupby('series_name').min()['release_year']\n",
    "len_df= pd.DataFrame(len_df)\n",
    "len_df.columns = ['length']\n",
    "len_df=len_df.reset_index()\n",
    "series_df=series_df.merge(len_df, left_on='series_name', right_on='series_name')\n",
    "series_df.head()"
   ]
  },
  {
   "cell_type": "code",
   "execution_count": 83,
   "metadata": {},
   "outputs": [],
   "source": [
    "series_df=series_df.set_index('series_name')\n",
    "series_df.to_csv('../data/prep/500-game_series.csv')"
   ]
  },
  {
   "cell_type": "code",
   "execution_count": null,
   "metadata": {},
   "outputs": [],
   "source": []
  }
 ],
 "metadata": {
  "kernelspec": {
   "display_name": "Python 3",
   "language": "python",
   "name": "python3"
  },
  "language_info": {
   "codemirror_mode": {
    "name": "ipython",
    "version": 3
   },
   "file_extension": ".py",
   "mimetype": "text/x-python",
   "name": "python",
   "nbconvert_exporter": "python",
   "pygments_lexer": "ipython3",
   "version": "3.7.3"
  }
 },
 "nbformat": 4,
 "nbformat_minor": 4
}
