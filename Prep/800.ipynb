{
 "cells": [
  {
   "cell_type": "markdown",
   "metadata": {},
   "source": [
    "## **Purpose**\n",
    " In this notebook we will explore another option for joining our VGchartz dataset with our Twitch dataset. We are going to see whether using the get_close_matches function, that we used in 500.ipynb would be a good method to use as some games may contain different slightly different game names.\n",
    "\n",
    "## **Datasets**\n",
    "400.csv, final_twitch.csv\n"
   ]
  },
  {
   "cell_type": "code",
   "execution_count": 1,
   "metadata": {},
   "outputs": [],
   "source": [
    "from bs4 import BeautifulSoup\n",
    "import requests\n",
    "import pandas as pd\n",
    "import numpy as np\n",
    "import seaborn as sns\n",
    "import os\n",
    "import sys"
   ]
  },
  {
   "cell_type": "code",
   "execution_count": 2,
   "metadata": {},
   "outputs": [],
   "source": [
    "df2 = pd.read_csv('../data/raw/final_twitch.csv')\n",
    "df=pd.read_csv('../data/prep/400.csv')"
   ]
  },
  {
   "cell_type": "markdown",
   "metadata": {},
   "source": [
    "In the previous notebook we jooined the twitch data with the vg/mets dataset. We done this by joining them by name. In this notebook we are going to explore the idea of using a match function for joining the datasets instead. The reason for doing this is because some games may be stored under a slightly different name in one dataset than the other, for example a game might contain roman numerals in one dataset but contain the numeric figure in the other. "
   ]
  },
  {
   "cell_type": "code",
   "execution_count": 4,
   "metadata": {},
   "outputs": [],
   "source": [
    "name_list=df.name.tolist()\n",
    "date_list=df.release_date.tolist()"
   ]
  },
  {
   "cell_type": "markdown",
   "metadata": {},
   "source": [
    "We are going to use the get_close_match function. we set the cutoff quite high as .95 as a match should only occur if the game names are almost identicle."
   ]
  },
  {
   "cell_type": "code",
   "execution_count": 44,
   "metadata": {},
   "outputs": [],
   "source": [
    "import difflib\n",
    "def find_it(w):\n",
    "    return difflib.get_close_matches(w, df2.Game, n=100000, cutoff=.95)"
   ]
  },
  {
   "cell_type": "code",
   "execution_count": 45,
   "metadata": {},
   "outputs": [],
   "source": [
    "l=[]\n",
    "for i in name_list:\n",
    "    l.append( find_it(i))"
   ]
  },
  {
   "cell_type": "code",
   "execution_count": 46,
   "metadata": {},
   "outputs": [],
   "source": [
    "temp_df = pd.DataFrame()\n",
    "column_values = pd.Series(name_list)\n",
    "temp_df.insert(loc=0, column='name', value=column_values)"
   ]
  },
  {
   "cell_type": "code",
   "execution_count": 47,
   "metadata": {},
   "outputs": [],
   "source": [
    "column_values = pd.Series(date_list)\n",
    "temp_df.insert(loc=0, column='release_date', value=column_values)"
   ]
  },
  {
   "cell_type": "code",
   "execution_count": 48,
   "metadata": {},
   "outputs": [],
   "source": [
    "column_values = pd.Series(l)\n",
    "temp_df.insert(loc=0, column='Matched_Name', value=column_values)"
   ]
  },
  {
   "cell_type": "code",
   "execution_count": 49,
   "metadata": {},
   "outputs": [],
   "source": [
    "mention_list=[]\n",
    "for index, row in temp_df.iterrows():\n",
    "    str1 = \" \".join(str(x) for x in row['Matched_Name'])\n",
    "    mention_list.append(str1)"
   ]
  },
  {
   "cell_type": "code",
   "execution_count": 50,
   "metadata": {},
   "outputs": [
    {
     "data": {
      "text/html": [
       "<div>\n",
       "<style scoped>\n",
       "    .dataframe tbody tr th:only-of-type {\n",
       "        vertical-align: middle;\n",
       "    }\n",
       "\n",
       "    .dataframe tbody tr th {\n",
       "        vertical-align: top;\n",
       "    }\n",
       "\n",
       "    .dataframe thead th {\n",
       "        text-align: right;\n",
       "    }\n",
       "</style>\n",
       "<table border=\"1\" class=\"dataframe\">\n",
       "  <thead>\n",
       "    <tr style=\"text-align: right;\">\n",
       "      <th></th>\n",
       "      <th>Matched_Name</th>\n",
       "      <th>release_date</th>\n",
       "      <th>name</th>\n",
       "    </tr>\n",
       "  </thead>\n",
       "  <tbody>\n",
       "    <tr>\n",
       "      <th>0</th>\n",
       "      <td>.hack//G.U. Last Recode</td>\n",
       "      <td>2017-11-03</td>\n",
       "      <td>.hack//G.U. Last Recode</td>\n",
       "    </tr>\n",
       "    <tr>\n",
       "      <th>1</th>\n",
       "      <td>NaN</td>\n",
       "      <td>2003-02-11</td>\n",
       "      <td>.hack//Infection Part 1</td>\n",
       "    </tr>\n",
       "    <tr>\n",
       "      <th>2</th>\n",
       "      <td>007 Legends</td>\n",
       "      <td>2012-10-16</td>\n",
       "      <td>007 Legends</td>\n",
       "    </tr>\n",
       "    <tr>\n",
       "      <th>3</th>\n",
       "      <td>NaN</td>\n",
       "      <td>2000-11-20</td>\n",
       "      <td>007 Racing</td>\n",
       "    </tr>\n",
       "    <tr>\n",
       "      <th>4</th>\n",
       "      <td>NaN</td>\n",
       "      <td>2008-11-04</td>\n",
       "      <td>007: Quantum of Solace</td>\n",
       "    </tr>\n",
       "    <tr>\n",
       "      <th>5</th>\n",
       "      <td>007: The World is Not Enough</td>\n",
       "      <td>2000-11-06</td>\n",
       "      <td>007: The World is not Enough</td>\n",
       "    </tr>\n",
       "    <tr>\n",
       "      <th>6</th>\n",
       "      <td>1 vs. 100</td>\n",
       "      <td>2008-06-30</td>\n",
       "      <td>1 vs. 100</td>\n",
       "    </tr>\n",
       "    <tr>\n",
       "      <th>7</th>\n",
       "      <td>NaN</td>\n",
       "      <td>2001-11-14</td>\n",
       "      <td>18 Wheeler: American Pro Trucker</td>\n",
       "    </tr>\n",
       "    <tr>\n",
       "      <th>8</th>\n",
       "      <td>NaN</td>\n",
       "      <td>2005-08-23</td>\n",
       "      <td>187: Ride or Die</td>\n",
       "    </tr>\n",
       "    <tr>\n",
       "      <th>9</th>\n",
       "      <td>2002 FIFA World Cup</td>\n",
       "      <td>2002-04-22</td>\n",
       "      <td>2002 FIFA World Cup</td>\n",
       "    </tr>\n",
       "    <tr>\n",
       "      <th>10</th>\n",
       "      <td>NaN</td>\n",
       "      <td>2010-04-27</td>\n",
       "      <td>2010 FIFA World Cup South Africa</td>\n",
       "    </tr>\n",
       "    <tr>\n",
       "      <th>11</th>\n",
       "      <td>2014 FIFA World Cup Brazil</td>\n",
       "      <td>2014-04-15</td>\n",
       "      <td>2014 FIFA World Cup Brazil</td>\n",
       "    </tr>\n",
       "    <tr>\n",
       "      <th>12</th>\n",
       "      <td>24: The Game</td>\n",
       "      <td>2006-02-28</td>\n",
       "      <td>24: The Game</td>\n",
       "    </tr>\n",
       "    <tr>\n",
       "      <th>13</th>\n",
       "      <td>NaN</td>\n",
       "      <td>2006-01-17</td>\n",
       "      <td>25 To Life</td>\n",
       "    </tr>\n",
       "    <tr>\n",
       "      <th>14</th>\n",
       "      <td>NaN</td>\n",
       "      <td>2007-02-27</td>\n",
       "      <td>300: March to Glory</td>\n",
       "    </tr>\n",
       "    <tr>\n",
       "      <th>15</th>\n",
       "      <td>3D Dot Game Heroes</td>\n",
       "      <td>2010-05-11</td>\n",
       "      <td>3D Dot Game Heroes</td>\n",
       "    </tr>\n",
       "    <tr>\n",
       "      <th>16</th>\n",
       "      <td>NaN</td>\n",
       "      <td>2018-09-04</td>\n",
       "      <td>428: Shibuya Scramble</td>\n",
       "    </tr>\n",
       "    <tr>\n",
       "      <th>17</th>\n",
       "      <td>NaN</td>\n",
       "      <td>2001-11-14</td>\n",
       "      <td>4X4 EVO 2</td>\n",
       "    </tr>\n",
       "    <tr>\n",
       "      <th>18</th>\n",
       "      <td>50 Cent: Blood on the Sand</td>\n",
       "      <td>2009-02-24</td>\n",
       "      <td>50 Cent: Blood on the Sand</td>\n",
       "    </tr>\n",
       "    <tr>\n",
       "      <th>19</th>\n",
       "      <td>50 Cent: Bulletproof</td>\n",
       "      <td>2005-11-17</td>\n",
       "      <td>50 Cent: Bulletproof</td>\n",
       "    </tr>\n",
       "  </tbody>\n",
       "</table>\n",
       "</div>"
      ],
      "text/plain": [
       "                    Matched_Name release_date  \\\n",
       "0        .hack//G.U. Last Recode   2017-11-03   \n",
       "1                            NaN   2003-02-11   \n",
       "2                    007 Legends   2012-10-16   \n",
       "3                            NaN   2000-11-20   \n",
       "4                            NaN   2008-11-04   \n",
       "5   007: The World is Not Enough   2000-11-06   \n",
       "6                      1 vs. 100   2008-06-30   \n",
       "7                            NaN   2001-11-14   \n",
       "8                            NaN   2005-08-23   \n",
       "9            2002 FIFA World Cup   2002-04-22   \n",
       "10                           NaN   2010-04-27   \n",
       "11    2014 FIFA World Cup Brazil   2014-04-15   \n",
       "12                  24: The Game   2006-02-28   \n",
       "13                           NaN   2006-01-17   \n",
       "14                           NaN   2007-02-27   \n",
       "15            3D Dot Game Heroes   2010-05-11   \n",
       "16                           NaN   2018-09-04   \n",
       "17                           NaN   2001-11-14   \n",
       "18    50 Cent: Blood on the Sand   2009-02-24   \n",
       "19          50 Cent: Bulletproof   2005-11-17   \n",
       "\n",
       "                                name  \n",
       "0            .hack//G.U. Last Recode  \n",
       "1            .hack//Infection Part 1  \n",
       "2                        007 Legends  \n",
       "3                         007 Racing  \n",
       "4             007: Quantum of Solace  \n",
       "5       007: The World is not Enough  \n",
       "6                          1 vs. 100  \n",
       "7   18 Wheeler: American Pro Trucker  \n",
       "8                   187: Ride or Die  \n",
       "9                2002 FIFA World Cup  \n",
       "10  2010 FIFA World Cup South Africa  \n",
       "11        2014 FIFA World Cup Brazil  \n",
       "12                      24: The Game  \n",
       "13                        25 To Life  \n",
       "14               300: March to Glory  \n",
       "15                3D Dot Game Heroes  \n",
       "16             428: Shibuya Scramble  \n",
       "17                         4X4 EVO 2  \n",
       "18        50 Cent: Blood on the Sand  \n",
       "19              50 Cent: Bulletproof  "
      ]
     },
     "execution_count": 50,
     "metadata": {},
     "output_type": "execute_result"
    }
   ],
   "source": [
    "temp_df['Matched_Name'] = mention_list\n",
    "temp_df['Matched_Name'] = temp_df['Matched_Name'].replace('',np.nan)\n",
    "temp_df.head(20)"
   ]
  },
  {
   "cell_type": "code",
   "execution_count": 100,
   "metadata": {},
   "outputs": [
    {
     "data": {
      "image/png": "[encoded data removed]",
      "text/plain": [
       "<Figure size 720x720 with 1 Axes>"
      ]
     },
     "metadata": {},
     "output_type": "display_data"
    },
    {
     "name": "stdout",
     "output_type": "stream",
     "text": [
      "number of matched games: 4576\n",
      "number of games that didnt match: 1418\n"
     ]
    }
   ],
   "source": [
    "from matplotlib import pyplot as plt\n",
    "from matplotlib import font_manager as fm\n",
    "\n",
    "fig = plt.figure(1, figsize=(10,10))\n",
    "ax = fig.add_axes([0.1, 0.1,0.8,0.8])\n",
    "plt.title('Percentage of games that matched/didnt match',fontsize=18)\n",
    "\n",
    "labels = 'Matched', 'No match'\n",
    "colors= 'green','red'\n",
    "y = temp_df['Matched_Name'].isnull().sum()\n",
    "x = len(temp_df)\n",
    "fracs = [x-y, y]\n",
    "\n",
    "patches, texts, autotexts = ax.pie(fracs, labels=labels, colors=colors, autopct='%1.1f%%')\n",
    "\n",
    "proptease = fm.FontProperties()\n",
    "proptease.set_size('x-large')\n",
    "plt.setp(autotexts, fontproperties=proptease)\n",
    "plt.setp(texts, fontproperties=proptease)\n",
    "\n",
    "plt.show()\n",
    "\n",
    "print('number of matched games:' ,x)\n",
    "print('number of games that didnt match:' ,y)"
   ]
  },
  {
   "cell_type": "markdown",
   "metadata": {},
   "source": [
    "As you can see 69% of the games in the vg/meta dataset matched with a game in the twitch dataset."
   ]
  },
  {
   "cell_type": "markdown",
   "metadata": {},
   "source": [
    "Using the match function we only found a match for 2 more games then if we just joined by name. I have a feeling that these two games shouldnt match either and only did match because they have a very similar name."
   ]
  },
  {
   "cell_type": "code",
   "execution_count": null,
   "metadata": {},
   "outputs": [],
   "source": []
  }
 ],
 "metadata": {
  "kernelspec": {
   "display_name": "Python 3",
   "language": "python",
   "name": "python3"
  },
  "language_info": {
   "codemirror_mode": {
    "name": "ipython",
    "version": 3
   },
   "file_extension": ".py",
   "mimetype": "text/x-python",
   "name": "python",
   "nbconvert_exporter": "python",
   "pygments_lexer": "ipython3",
   "version": "3.7.3"
  }
 },
 "nbformat": 4,
 "nbformat_minor": 4
}
