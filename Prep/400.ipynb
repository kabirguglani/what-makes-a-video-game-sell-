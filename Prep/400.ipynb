{
 "cells": [
  {
   "cell_type": "markdown",
   "metadata": {},
   "source": [
    "## **Purpose**\n",
    " In this notebook we will creating a dataset that will join with the twitch dataset.\n",
    "\n",
    "## **Datasets**\n",
    "300.csv\n"
   ]
  },
  {
   "cell_type": "code",
   "execution_count": 1,
   "metadata": {},
   "outputs": [],
   "source": [
    "from bs4 import BeautifulSoup\n",
    "import requests\n",
    "import pandas as pd\n",
    "import numpy as np\n",
    "import os"
   ]
  },
  {
   "cell_type": "code",
   "execution_count": 2,
   "metadata": {},
   "outputs": [
    {
     "name": "stdout",
     "output_type": "stream",
     "text": [
      "Success!\n"
     ]
    }
   ],
   "source": [
    "if not os.path.exists(\"../data/prep/300.csv\"):\n",
    "    print(\"Missing dataset file\")\n",
    "else:\n",
    "    print(\"Success!\")"
   ]
  },
  {
   "cell_type": "code",
   "execution_count": 3,
   "metadata": {},
   "outputs": [],
   "source": [
    "df = pd.read_csv(\"../data/prep/300.csv\")"
   ]
  },
  {
   "cell_type": "markdown",
   "metadata": {},
   "source": [
    "Many games have many different versions in our datarame. For example Grand Theft Auto V is in our dataframe 4 times as its available on 4 different platforms. I want to add the sales of the game for each platform together to get the overall sales for that particular game. I also want to get the average critic and user ratings for each game."
   ]
  },
  {
   "cell_type": "code",
   "execution_count": 4,
   "metadata": {},
   "outputs": [],
   "source": [
    "salesdf=df.groupby('name')['global_sales','na_sales','eu_sales','jp_sales','other_sales'].apply(sum).reset_index()\n",
    "\n",
    "ratingdf=df.groupby('name')['meta_critic_score','meta_user_score'].mean().reset_index() \n",
    "\n",
    "yeardf=pd.DataFrame()\n",
    "yeardf['release_date']=df['release_date']\n",
    "yeardf['name']=df['name']"
   ]
  },
  {
   "cell_type": "markdown",
   "metadata": {},
   "source": [
    "I want the rarting scores to be rounded to 1 decimal place."
   ]
  },
  {
   "cell_type": "code",
   "execution_count": 5,
   "metadata": {},
   "outputs": [],
   "source": [
    "ratingdf['meta_user_score']=round(ratingdf['meta_user_score'], 1)\n",
    "ratingdf['meta_critic_score']=round(ratingdf['meta_critic_score'], 1)"
   ]
  },
  {
   "cell_type": "markdown",
   "metadata": {},
   "source": [
    "Here I join the dataframe containing the sum of the sales with the dataframe containing the average rating scores."
   ]
  },
  {
   "cell_type": "code",
   "execution_count": 6,
   "metadata": {},
   "outputs": [
    {
     "data": {
      "text/html": [
       "<div>\n",
       "<style scoped>\n",
       "    .dataframe tbody tr th:only-of-type {\n",
       "        vertical-align: middle;\n",
       "    }\n",
       "\n",
       "    .dataframe tbody tr th {\n",
       "        vertical-align: top;\n",
       "    }\n",
       "\n",
       "    .dataframe thead th {\n",
       "        text-align: right;\n",
       "    }\n",
       "</style>\n",
       "<table border=\"1\" class=\"dataframe\">\n",
       "  <thead>\n",
       "    <tr style=\"text-align: right;\">\n",
       "      <th></th>\n",
       "      <th>name</th>\n",
       "      <th>global_sales</th>\n",
       "      <th>na_sales</th>\n",
       "      <th>eu_sales</th>\n",
       "      <th>jp_sales</th>\n",
       "      <th>other_sales</th>\n",
       "      <th>meta_critic_score</th>\n",
       "      <th>meta_user_score</th>\n",
       "    </tr>\n",
       "  </thead>\n",
       "  <tbody>\n",
       "    <tr>\n",
       "      <th>3680</th>\n",
       "      <td>Summon Night: Twin Age</td>\n",
       "      <td>130000.0</td>\n",
       "      <td>70000.0</td>\n",
       "      <td>0.0</td>\n",
       "      <td>50000.0</td>\n",
       "      <td>10000.0</td>\n",
       "      <td>73.0</td>\n",
       "      <td>7.2</td>\n",
       "    </tr>\n",
       "  </tbody>\n",
       "</table>\n",
       "</div>"
      ],
      "text/plain": [
       "                        name  global_sales  na_sales  eu_sales  jp_sales  \\\n",
       "3680  Summon Night: Twin Age      130000.0   70000.0       0.0   50000.0   \n",
       "\n",
       "      other_sales  meta_critic_score  meta_user_score  \n",
       "3680      10000.0               73.0              7.2  "
      ]
     },
     "execution_count": 6,
     "metadata": {},
     "output_type": "execute_result"
    }
   ],
   "source": [
    "salesdf=salesdf.merge(ratingdf, left_on='name', right_on='name')\n",
    "salesdf.sample()"
   ]
  },
  {
   "cell_type": "markdown",
   "metadata": {},
   "source": [
    "Now I join that dataframe with the dataframe containing the release date of games"
   ]
  },
  {
   "cell_type": "code",
   "execution_count": 7,
   "metadata": {},
   "outputs": [
    {
     "data": {
      "text/html": [
       "<div>\n",
       "<style scoped>\n",
       "    .dataframe tbody tr th:only-of-type {\n",
       "        vertical-align: middle;\n",
       "    }\n",
       "\n",
       "    .dataframe tbody tr th {\n",
       "        vertical-align: top;\n",
       "    }\n",
       "\n",
       "    .dataframe thead th {\n",
       "        text-align: right;\n",
       "    }\n",
       "</style>\n",
       "<table border=\"1\" class=\"dataframe\">\n",
       "  <thead>\n",
       "    <tr style=\"text-align: right;\">\n",
       "      <th></th>\n",
       "      <th>name</th>\n",
       "      <th>global_sales</th>\n",
       "      <th>na_sales</th>\n",
       "      <th>eu_sales</th>\n",
       "      <th>jp_sales</th>\n",
       "      <th>other_sales</th>\n",
       "      <th>meta_critic_score</th>\n",
       "      <th>meta_user_score</th>\n",
       "      <th>release_date</th>\n",
       "    </tr>\n",
       "  </thead>\n",
       "  <tbody>\n",
       "    <tr>\n",
       "      <th>312</th>\n",
       "      <td>Astro Bot Rescue Mission</td>\n",
       "      <td>710000.0</td>\n",
       "      <td>220000.0</td>\n",
       "      <td>360000.0</td>\n",
       "      <td>20000.0</td>\n",
       "      <td>110000.0</td>\n",
       "      <td>90.0</td>\n",
       "      <td>8.9</td>\n",
       "      <td>2018-10-02</td>\n",
       "    </tr>\n",
       "  </tbody>\n",
       "</table>\n",
       "</div>"
      ],
      "text/plain": [
       "                         name  global_sales  na_sales  eu_sales  jp_sales  \\\n",
       "312  Astro Bot Rescue Mission      710000.0  220000.0  360000.0   20000.0   \n",
       "\n",
       "     other_sales  meta_critic_score  meta_user_score release_date  \n",
       "312     110000.0               90.0              8.9   2018-10-02  "
      ]
     },
     "execution_count": 7,
     "metadata": {},
     "output_type": "execute_result"
    }
   ],
   "source": [
    "final=salesdf.merge(yeardf, left_on='name', right_on='name')\n",
    "final.sample()"
   ]
  },
  {
   "cell_type": "markdown",
   "metadata": {},
   "source": [
    "Finally I remove the duplicate rows in the dataframe"
   ]
  },
  {
   "cell_type": "code",
   "execution_count": 8,
   "metadata": {},
   "outputs": [],
   "source": [
    "final = final.drop_duplicates(subset='name')"
   ]
  },
  {
   "cell_type": "code",
   "execution_count": 9,
   "metadata": {},
   "outputs": [
    {
     "data": {
      "text/html": [
       "<div>\n",
       "<style scoped>\n",
       "    .dataframe tbody tr th:only-of-type {\n",
       "        vertical-align: middle;\n",
       "    }\n",
       "\n",
       "    .dataframe tbody tr th {\n",
       "        vertical-align: top;\n",
       "    }\n",
       "\n",
       "    .dataframe thead th {\n",
       "        text-align: right;\n",
       "    }\n",
       "</style>\n",
       "<table border=\"1\" class=\"dataframe\">\n",
       "  <thead>\n",
       "    <tr style=\"text-align: right;\">\n",
       "      <th></th>\n",
       "      <th>name</th>\n",
       "      <th>global_sales</th>\n",
       "      <th>na_sales</th>\n",
       "      <th>eu_sales</th>\n",
       "      <th>jp_sales</th>\n",
       "      <th>other_sales</th>\n",
       "      <th>meta_critic_score</th>\n",
       "      <th>meta_user_score</th>\n",
       "      <th>release_date</th>\n",
       "    </tr>\n",
       "  </thead>\n",
       "  <tbody>\n",
       "    <tr>\n",
       "      <th>0</th>\n",
       "      <td>.hack//G.U. Last Recode</td>\n",
       "      <td>240000.0</td>\n",
       "      <td>100000.0</td>\n",
       "      <td>40000.0</td>\n",
       "      <td>80000.0</td>\n",
       "      <td>30000.0</td>\n",
       "      <td>76.0</td>\n",
       "      <td>7.8</td>\n",
       "      <td>2017-11-03</td>\n",
       "    </tr>\n",
       "    <tr>\n",
       "      <th>1</th>\n",
       "      <td>.hack//Infection Part 1</td>\n",
       "      <td>1270000.0</td>\n",
       "      <td>490000.0</td>\n",
       "      <td>380000.0</td>\n",
       "      <td>260000.0</td>\n",
       "      <td>130000.0</td>\n",
       "      <td>75.0</td>\n",
       "      <td>8.3</td>\n",
       "      <td>2003-02-11</td>\n",
       "    </tr>\n",
       "    <tr>\n",
       "      <th>2</th>\n",
       "      <td>007 Legends</td>\n",
       "      <td>340000.0</td>\n",
       "      <td>110000.0</td>\n",
       "      <td>170000.0</td>\n",
       "      <td>0.0</td>\n",
       "      <td>60000.0</td>\n",
       "      <td>41.0</td>\n",
       "      <td>4.1</td>\n",
       "      <td>2012-10-16</td>\n",
       "    </tr>\n",
       "    <tr>\n",
       "      <th>3</th>\n",
       "      <td>007 Racing</td>\n",
       "      <td>530000.0</td>\n",
       "      <td>300000.0</td>\n",
       "      <td>200000.0</td>\n",
       "      <td>0.0</td>\n",
       "      <td>30000.0</td>\n",
       "      <td>51.0</td>\n",
       "      <td>4.6</td>\n",
       "      <td>2000-11-20</td>\n",
       "    </tr>\n",
       "    <tr>\n",
       "      <th>4</th>\n",
       "      <td>007: Quantum of Solace</td>\n",
       "      <td>3300000.0</td>\n",
       "      <td>1550000.0</td>\n",
       "      <td>1310000.0</td>\n",
       "      <td>40000.0</td>\n",
       "      <td>400000.0</td>\n",
       "      <td>63.5</td>\n",
       "      <td>6.7</td>\n",
       "      <td>2008-11-04</td>\n",
       "    </tr>\n",
       "  </tbody>\n",
       "</table>\n",
       "</div>"
      ],
      "text/plain": [
       "                      name  global_sales   na_sales   eu_sales  jp_sales  \\\n",
       "0  .hack//G.U. Last Recode      240000.0   100000.0    40000.0   80000.0   \n",
       "1  .hack//Infection Part 1     1270000.0   490000.0   380000.0  260000.0   \n",
       "2              007 Legends      340000.0   110000.0   170000.0       0.0   \n",
       "3               007 Racing      530000.0   300000.0   200000.0       0.0   \n",
       "4   007: Quantum of Solace     3300000.0  1550000.0  1310000.0   40000.0   \n",
       "\n",
       "   other_sales  meta_critic_score  meta_user_score release_date  \n",
       "0      30000.0               76.0              7.8   2017-11-03  \n",
       "1     130000.0               75.0              8.3   2003-02-11  \n",
       "2      60000.0               41.0              4.1   2012-10-16  \n",
       "3      30000.0               51.0              4.6   2000-11-20  \n",
       "4     400000.0               63.5              6.7   2008-11-04  "
      ]
     },
     "execution_count": 9,
     "metadata": {},
     "output_type": "execute_result"
    }
   ],
   "source": [
    "final.head()"
   ]
  },
  {
   "cell_type": "code",
   "execution_count": 10,
   "metadata": {},
   "outputs": [],
   "source": [
    "final=final.set_index('name')\n",
    "final.to_csv(\"../data/prep/400.csv\",sep=\",\",encoding='utf-8')"
   ]
  },
  {
   "cell_type": "code",
   "execution_count": null,
   "metadata": {},
   "outputs": [],
   "source": []
  },
  {
   "cell_type": "code",
   "execution_count": null,
   "metadata": {},
   "outputs": [],
   "source": []
  },
  {
   "cell_type": "code",
   "execution_count": null,
   "metadata": {},
   "outputs": [],
   "source": []
  },
  {
   "cell_type": "code",
   "execution_count": null,
   "metadata": {},
   "outputs": [],
   "source": []
  },
  {
   "cell_type": "code",
   "execution_count": null,
   "metadata": {},
   "outputs": [],
   "source": []
  },
  {
   "cell_type": "code",
   "execution_count": null,
   "metadata": {},
   "outputs": [],
   "source": []
  }
 ],
 "metadata": {
  "kernelspec": {
   "display_name": "Python 3",
   "language": "python",
   "name": "python3"
  },
  "language_info": {
   "codemirror_mode": {
    "name": "ipython",
    "version": 3
   },
   "file_extension": ".py",
   "mimetype": "text/x-python",
   "name": "python",
   "nbconvert_exporter": "python",
   "pygments_lexer": "ipython3",
   "version": "3.7.3"
  }
 },
 "nbformat": 4,
 "nbformat_minor": 4
}
