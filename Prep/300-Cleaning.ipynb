{
 "cells": [
  {
   "cell_type": "markdown",
   "metadata": {},
   "source": [
    "## **Purpose**\n",
    " In this notebook we will cleaning our VGChartz/MetaCritic dataset.\n",
    "* We will:\n",
    "    * load the data\n",
    "    * Drop Duplicate\n",
    "    * Drop the total_shipped column\n",
    "    * Drop global_sales values that equal 0\n",
    "    * Fix the multiplayer column\n",
    "    * Fill in missing developer values\n",
    "    * Fill in missing critic_count values\n",
    "    * Fix meta_esrb column\n",
    "    * save the cleaned dataset as a dataframe in a specified folder\n",
    "\n",
    "## **Datasets**\n",
    "200.csv\n"
   ]
  },
  {
   "cell_type": "code",
   "execution_count": 1,
   "metadata": {},
   "outputs": [],
   "source": [
    "from bs4 import BeautifulSoup\n",
    "import requests\n",
    "import pandas as pd\n",
    "import numpy as np\n",
    "import os"
   ]
  },
  {
   "cell_type": "code",
   "execution_count": 2,
   "metadata": {},
   "outputs": [
    {
     "name": "stdout",
     "output_type": "stream",
     "text": [
      "Success!\n"
     ]
    }
   ],
   "source": [
    "if not os.path.exists(\"../data/prep/200.csv\"):\n",
    "    print(\"Missing dataset file\")\n",
    "else:\n",
    "    print(\"Success!\")"
   ]
  },
  {
   "cell_type": "code",
   "execution_count": 3,
   "metadata": {},
   "outputs": [
    {
     "data": {
      "text/html": [
       "<div>\n",
       "<style scoped>\n",
       "    .dataframe tbody tr th:only-of-type {\n",
       "        vertical-align: middle;\n",
       "    }\n",
       "\n",
       "    .dataframe tbody tr th {\n",
       "        vertical-align: top;\n",
       "    }\n",
       "\n",
       "    .dataframe thead th {\n",
       "        text-align: right;\n",
       "    }\n",
       "</style>\n",
       "<table border=\"1\" class=\"dataframe\">\n",
       "  <thead>\n",
       "    <tr style=\"text-align: right;\">\n",
       "      <th></th>\n",
       "      <th>name</th>\n",
       "      <th>total_shipped</th>\n",
       "      <th>developer</th>\n",
       "      <th>rank</th>\n",
       "      <th>platform</th>\n",
       "      <th>release_date</th>\n",
       "      <th>publisher</th>\n",
       "      <th>na_sales</th>\n",
       "      <th>eu_sales</th>\n",
       "      <th>jp_sales</th>\n",
       "      <th>...</th>\n",
       "      <th>meta_developer</th>\n",
       "      <th>meta_critic_score</th>\n",
       "      <th>meta_critic_count</th>\n",
       "      <th>meta_user_score</th>\n",
       "      <th>meta_user_count</th>\n",
       "      <th>meta_esrb</th>\n",
       "      <th>meta_genre</th>\n",
       "      <th>meta_multiplayer</th>\n",
       "      <th>meta_full_url</th>\n",
       "      <th>release_year</th>\n",
       "    </tr>\n",
       "  </thead>\n",
       "  <tbody>\n",
       "    <tr>\n",
       "      <th>3269</th>\n",
       "      <td>Bust A Groove 2</td>\n",
       "      <td>N/A</td>\n",
       "      <td>Metro</td>\n",
       "      <td>681</td>\n",
       "      <td>PS</td>\n",
       "      <td>1999-03-31</td>\n",
       "      <td>Enix</td>\n",
       "      <td>40000</td>\n",
       "      <td>30000</td>\n",
       "      <td>180000</td>\n",
       "      <td>...</td>\n",
       "      <td>Metro</td>\n",
       "      <td>66</td>\n",
       "      <td>8.0</td>\n",
       "      <td>8.4</td>\n",
       "      <td>40</td>\n",
       "      <td>E</td>\n",
       "      <td>Miscellaneous</td>\n",
       "      <td>yes</td>\n",
       "      <td>https://www.metacritic.com/game/playstation/bu...</td>\n",
       "      <td>1999</td>\n",
       "    </tr>\n",
       "  </tbody>\n",
       "</table>\n",
       "<p>1 rows × 26 columns</p>\n",
       "</div>"
      ],
      "text/plain": [
       "                 name total_shipped developer  rank platform release_date  \\\n",
       "3269  Bust A Groove 2         N/A     Metro     681       PS   1999-03-31   \n",
       "\n",
       "     publisher  na_sales  eu_sales  jp_sales  ...  meta_developer  \\\n",
       "3269    Enix       40000     30000    180000  ...           Metro   \n",
       "\n",
       "      meta_critic_score meta_critic_count meta_user_score meta_user_count  \\\n",
       "3269                 66               8.0             8.4              40   \n",
       "\n",
       "     meta_esrb     meta_genre  meta_multiplayer  \\\n",
       "3269         E  Miscellaneous               yes   \n",
       "\n",
       "                                          meta_full_url  release_year  \n",
       "3269  https://www.metacritic.com/game/playstation/bu...          1999  \n",
       "\n",
       "[1 rows x 26 columns]"
      ]
     },
     "execution_count": 3,
     "metadata": {},
     "output_type": "execute_result"
    }
   ],
   "source": [
    "df = pd.read_csv(\"../data/prep/200.csv\")\n",
    "df.sample()"
   ]
  },
  {
   "cell_type": "markdown",
   "metadata": {},
   "source": [
    "## **Drop Duplicates**"
   ]
  },
  {
   "cell_type": "markdown",
   "metadata": {},
   "source": [
    "As we know for certain that all meta_full_url's should be unique, any rows with the same url need to be handled.\n",
    "We can easily view duplicated rows using the DataFrame.duplicated() method of pandas. We can pass keep=False to view all duplicated rows, or leave the defaults (keep='first') to skip over the first row and just show the rest of the duplicates. We can also pass a column label into subset if we want to filter by a single column. As we only want to remove the extra rows, we can keep the default behaviour."
   ]
  },
  {
   "cell_type": "code",
   "execution_count": 4,
   "metadata": {},
   "outputs": [
    {
     "name": "stdout",
     "output_type": "stream",
     "text": [
      "Duplicate rows to remove: 99\n"
     ]
    },
    {
     "data": {
      "text/html": [
       "<div>\n",
       "<style scoped>\n",
       "    .dataframe tbody tr th:only-of-type {\n",
       "        vertical-align: middle;\n",
       "    }\n",
       "\n",
       "    .dataframe tbody tr th {\n",
       "        vertical-align: top;\n",
       "    }\n",
       "\n",
       "    .dataframe thead th {\n",
       "        text-align: right;\n",
       "    }\n",
       "</style>\n",
       "<table border=\"1\" class=\"dataframe\">\n",
       "  <thead>\n",
       "    <tr style=\"text-align: right;\">\n",
       "      <th></th>\n",
       "      <th>name</th>\n",
       "      <th>total_shipped</th>\n",
       "      <th>developer</th>\n",
       "      <th>rank</th>\n",
       "      <th>platform</th>\n",
       "      <th>release_date</th>\n",
       "      <th>publisher</th>\n",
       "      <th>na_sales</th>\n",
       "      <th>eu_sales</th>\n",
       "      <th>jp_sales</th>\n",
       "      <th>...</th>\n",
       "      <th>meta_developer</th>\n",
       "      <th>meta_critic_score</th>\n",
       "      <th>meta_critic_count</th>\n",
       "      <th>meta_user_score</th>\n",
       "      <th>meta_user_count</th>\n",
       "      <th>meta_esrb</th>\n",
       "      <th>meta_genre</th>\n",
       "      <th>meta_multiplayer</th>\n",
       "      <th>meta_full_url</th>\n",
       "      <th>release_year</th>\n",
       "    </tr>\n",
       "  </thead>\n",
       "  <tbody>\n",
       "    <tr>\n",
       "      <th>184</th>\n",
       "      <td>Metal Gear Solid HD Collection</td>\n",
       "      <td>N/A</td>\n",
       "      <td>Bluepoint Games</td>\n",
       "      <td>321</td>\n",
       "      <td>PS3</td>\n",
       "      <td>2011-11-08</td>\n",
       "      <td>Konami Digital Entertainment</td>\n",
       "      <td>520000</td>\n",
       "      <td>440000</td>\n",
       "      <td>0</td>\n",
       "      <td>...</td>\n",
       "      <td>Genki, Bluepoint Games</td>\n",
       "      <td>89</td>\n",
       "      <td>50.0</td>\n",
       "      <td>8.9</td>\n",
       "      <td>471</td>\n",
       "      <td>M</td>\n",
       "      <td>Miscellaneous</td>\n",
       "      <td>yes</td>\n",
       "      <td>https://www.metacritic.com/game/playstation-3/...</td>\n",
       "      <td>2011</td>\n",
       "    </tr>\n",
       "    <tr>\n",
       "      <th>185</th>\n",
       "      <td>Metal Gear Solid HD Collection</td>\n",
       "      <td>N/A</td>\n",
       "      <td>Bluepoint Games</td>\n",
       "      <td>659</td>\n",
       "      <td>PS3</td>\n",
       "      <td>2011-11-08</td>\n",
       "      <td>Konami</td>\n",
       "      <td>320000</td>\n",
       "      <td>130000</td>\n",
       "      <td>0</td>\n",
       "      <td>...</td>\n",
       "      <td>Genki, Bluepoint Games</td>\n",
       "      <td>89</td>\n",
       "      <td>50.0</td>\n",
       "      <td>8.9</td>\n",
       "      <td>471</td>\n",
       "      <td>M</td>\n",
       "      <td>Miscellaneous</td>\n",
       "      <td>yes</td>\n",
       "      <td>https://www.metacritic.com/game/playstation-3/...</td>\n",
       "      <td>2011</td>\n",
       "    </tr>\n",
       "    <tr>\n",
       "      <th>186</th>\n",
       "      <td>Metal Gear Solid HD Collection</td>\n",
       "      <td>N/A</td>\n",
       "      <td>Bluepoint Games</td>\n",
       "      <td>659</td>\n",
       "      <td>PS3</td>\n",
       "      <td>2011-11-08</td>\n",
       "      <td>Konami</td>\n",
       "      <td>320000</td>\n",
       "      <td>130000</td>\n",
       "      <td>0</td>\n",
       "      <td>...</td>\n",
       "      <td>Genki, Bluepoint Games</td>\n",
       "      <td>89</td>\n",
       "      <td>50.0</td>\n",
       "      <td>8.9</td>\n",
       "      <td>471</td>\n",
       "      <td>M</td>\n",
       "      <td>Miscellaneous</td>\n",
       "      <td>yes</td>\n",
       "      <td>https://www.metacritic.com/game/playstation-3/...</td>\n",
       "      <td>2011</td>\n",
       "    </tr>\n",
       "    <tr>\n",
       "      <th>234</th>\n",
       "      <td>God of War III Remastered</td>\n",
       "      <td>N/A</td>\n",
       "      <td>SCEA Santa Monica Studio</td>\n",
       "      <td>395</td>\n",
       "      <td>PS4</td>\n",
       "      <td>2015-07-14</td>\n",
       "      <td>Sony Computer Entertainment</td>\n",
       "      <td>400000</td>\n",
       "      <td>330000</td>\n",
       "      <td>20000</td>\n",
       "      <td>...</td>\n",
       "      <td>Wholesale Algorithms</td>\n",
       "      <td>81</td>\n",
       "      <td>67.0</td>\n",
       "      <td>8.1</td>\n",
       "      <td>919</td>\n",
       "      <td>M</td>\n",
       "      <td>Action Adventure</td>\n",
       "      <td>no</td>\n",
       "      <td>https://www.metacritic.com/game/playstation-4/...</td>\n",
       "      <td>2015</td>\n",
       "    </tr>\n",
       "    <tr>\n",
       "      <th>235</th>\n",
       "      <td>God of War III Remastered</td>\n",
       "      <td>N/A</td>\n",
       "      <td>SCEA Santa Monica Studio</td>\n",
       "      <td>2683</td>\n",
       "      <td>PS4</td>\n",
       "      <td>2015-07-15</td>\n",
       "      <td>Sony Computer Entertainment Europe</td>\n",
       "      <td>0</td>\n",
       "      <td>20000</td>\n",
       "      <td>0</td>\n",
       "      <td>...</td>\n",
       "      <td>Wholesale Algorithms</td>\n",
       "      <td>81</td>\n",
       "      <td>67.0</td>\n",
       "      <td>8.1</td>\n",
       "      <td>919</td>\n",
       "      <td>M</td>\n",
       "      <td>Action Adventure</td>\n",
       "      <td>no</td>\n",
       "      <td>https://www.metacritic.com/game/playstation-4/...</td>\n",
       "      <td>2015</td>\n",
       "    </tr>\n",
       "  </tbody>\n",
       "</table>\n",
       "<p>5 rows × 26 columns</p>\n",
       "</div>"
      ],
      "text/plain": [
       "                               name total_shipped                   developer  \\\n",
       "184  Metal Gear Solid HD Collection         N/A             Bluepoint Games     \n",
       "185  Metal Gear Solid HD Collection         N/A             Bluepoint Games     \n",
       "186  Metal Gear Solid HD Collection         N/A             Bluepoint Games     \n",
       "234       God of War III Remastered         N/A    SCEA Santa Monica Studio     \n",
       "235       God of War III Remastered         N/A    SCEA Santa Monica Studio     \n",
       "\n",
       "     rank platform release_date                             publisher  \\\n",
       "184   321      PS3   2011-11-08        Konami Digital Entertainment     \n",
       "185   659      PS3   2011-11-08                              Konami     \n",
       "186   659      PS3   2011-11-08                              Konami     \n",
       "234   395      PS4   2015-07-14         Sony Computer Entertainment     \n",
       "235  2683      PS4   2015-07-15  Sony Computer Entertainment Europe     \n",
       "\n",
       "     na_sales  eu_sales  jp_sales  ...          meta_developer  \\\n",
       "184    520000    440000         0  ...  Genki, Bluepoint Games   \n",
       "185    320000    130000         0  ...  Genki, Bluepoint Games   \n",
       "186    320000    130000         0  ...  Genki, Bluepoint Games   \n",
       "234    400000    330000     20000  ...    Wholesale Algorithms   \n",
       "235         0     20000         0  ...    Wholesale Algorithms   \n",
       "\n",
       "     meta_critic_score meta_critic_count meta_user_score meta_user_count  \\\n",
       "184                 89              50.0             8.9             471   \n",
       "185                 89              50.0             8.9             471   \n",
       "186                 89              50.0             8.9             471   \n",
       "234                 81              67.0             8.1             919   \n",
       "235                 81              67.0             8.1             919   \n",
       "\n",
       "    meta_esrb        meta_genre  meta_multiplayer  \\\n",
       "184         M     Miscellaneous               yes   \n",
       "185         M     Miscellaneous               yes   \n",
       "186         M     Miscellaneous               yes   \n",
       "234         M  Action Adventure                no   \n",
       "235         M  Action Adventure                no   \n",
       "\n",
       "                                         meta_full_url  release_year  \n",
       "184  https://www.metacritic.com/game/playstation-3/...          2011  \n",
       "185  https://www.metacritic.com/game/playstation-3/...          2011  \n",
       "186  https://www.metacritic.com/game/playstation-3/...          2011  \n",
       "234  https://www.metacritic.com/game/playstation-4/...          2015  \n",
       "235  https://www.metacritic.com/game/playstation-4/...          2015  \n",
       "\n",
       "[5 rows x 26 columns]"
      ]
     },
     "execution_count": 4,
     "metadata": {},
     "output_type": "execute_result"
    }
   ],
   "source": [
    "duplicate_rows = df[df.duplicated(subset='meta_full_url')]\n",
    "\n",
    "print('Duplicate rows to remove:', duplicate_rows.shape[0])\n",
    "\n",
    "duplicate_rows.head()"
   ]
  },
  {
   "cell_type": "code",
   "execution_count": 5,
   "metadata": {},
   "outputs": [],
   "source": [
    "df = df.drop_duplicates(subset='meta_full_url')"
   ]
  },
  {
   "cell_type": "markdown",
   "metadata": {},
   "source": [
    "Next I want to see how many values there are missing in each column. I am using a function I found in one of William Koehrsen blogs on Medium."
   ]
  },
  {
   "cell_type": "code",
   "execution_count": 6,
   "metadata": {},
   "outputs": [],
   "source": [
    "# Function to calculate missing values by column\n",
    "def missing_values_table(df):\n",
    "        # Total missing values\n",
    "        mis_val = df.isnull().sum()\n",
    "        \n",
    "        # Percentage of missing values\n",
    "        mis_val_percent = 100 * df.isnull().sum() / len(df)\n",
    "        \n",
    "        # Make a table with the results\n",
    "        mis_val_table = pd.concat([mis_val, mis_val_percent], axis=1)\n",
    "        \n",
    "        # Rename the columns\n",
    "        mis_val_table_ren_columns = mis_val_table.rename(\n",
    "        columns = {0 : \"Missing Values\", 1 : \"% of Total Values\"})\n",
    "        \n",
    "        # Sort the table by percentage of missing descending\n",
    "        mis_val_table_ren_columns = mis_val_table_ren_columns[\n",
    "            mis_val_table_ren_columns.iloc[:,1] != 0].sort_values(\n",
    "        \"% of Total Values\", ascending=False).round(1)\n",
    "        \n",
    "        # Print some summary information\n",
    "        print (\"Your selected dataframe has \" + str(df.shape[1]) + \" columns.\\n\"      \n",
    "            \"There are \" + str(mis_val_table_ren_columns.shape[0]) +\n",
    "              \" columns that have missing values.\")\n",
    "        \n",
    "        # Return the dataframe with missing information\n",
    "        return mis_val_table_ren_columns"
   ]
  },
  {
   "cell_type": "code",
   "execution_count": 7,
   "metadata": {},
   "outputs": [
    {
     "name": "stdout",
     "output_type": "stream",
     "text": [
      "Your selected dataframe has 26 columns.\n",
      "There are 4 columns that have missing values.\n"
     ]
    },
    {
     "data": {
      "text/html": [
       "<div>\n",
       "<style scoped>\n",
       "    .dataframe tbody tr th:only-of-type {\n",
       "        vertical-align: middle;\n",
       "    }\n",
       "\n",
       "    .dataframe tbody tr th {\n",
       "        vertical-align: top;\n",
       "    }\n",
       "\n",
       "    .dataframe thead th {\n",
       "        text-align: right;\n",
       "    }\n",
       "</style>\n",
       "<table border=\"1\" class=\"dataframe\">\n",
       "  <thead>\n",
       "    <tr style=\"text-align: right;\">\n",
       "      <th></th>\n",
       "      <th>Missing Values</th>\n",
       "      <th>% of Total Values</th>\n",
       "    </tr>\n",
       "  </thead>\n",
       "  <tbody>\n",
       "    <tr>\n",
       "      <th>meta_multiplayer</th>\n",
       "      <td>2099</td>\n",
       "      <td>26.0</td>\n",
       "    </tr>\n",
       "    <tr>\n",
       "      <th>meta_critic_count</th>\n",
       "      <td>839</td>\n",
       "      <td>10.4</td>\n",
       "    </tr>\n",
       "    <tr>\n",
       "      <th>meta_esrb</th>\n",
       "      <td>80</td>\n",
       "      <td>1.0</td>\n",
       "    </tr>\n",
       "    <tr>\n",
       "      <th>meta_developer</th>\n",
       "      <td>13</td>\n",
       "      <td>0.2</td>\n",
       "    </tr>\n",
       "  </tbody>\n",
       "</table>\n",
       "</div>"
      ],
      "text/plain": [
       "                   Missing Values  % of Total Values\n",
       "meta_multiplayer             2099               26.0\n",
       "meta_critic_count             839               10.4\n",
       "meta_esrb                      80                1.0\n",
       "meta_developer                 13                0.2"
      ]
     },
     "execution_count": 7,
     "metadata": {},
     "output_type": "execute_result"
    }
   ],
   "source": [
    "missing_values_table(df)"
   ]
  },
  {
   "cell_type": "markdown",
   "metadata": {},
   "source": [
    "## **Drop total_shipped column**\n",
    "\n",
    "The total_shipped column seems to have a lot of missing values but isnt coming up on our missing values table because its null values are stored as 'N/A' strings instead of np.nan values."
   ]
  },
  {
   "cell_type": "code",
   "execution_count": 8,
   "metadata": {},
   "outputs": [],
   "source": [
    "df['total_shipped'] = df['total_shipped'].replace('N/A', np.nan, regex=True)"
   ]
  },
  {
   "cell_type": "code",
   "execution_count": 9,
   "metadata": {},
   "outputs": [
    {
     "name": "stdout",
     "output_type": "stream",
     "text": [
      "Your selected dataframe has 26 columns.\n",
      "There are 5 columns that have missing values.\n"
     ]
    },
    {
     "data": {
      "text/html": [
       "<div>\n",
       "<style scoped>\n",
       "    .dataframe tbody tr th:only-of-type {\n",
       "        vertical-align: middle;\n",
       "    }\n",
       "\n",
       "    .dataframe tbody tr th {\n",
       "        vertical-align: top;\n",
       "    }\n",
       "\n",
       "    .dataframe thead th {\n",
       "        text-align: right;\n",
       "    }\n",
       "</style>\n",
       "<table border=\"1\" class=\"dataframe\">\n",
       "  <thead>\n",
       "    <tr style=\"text-align: right;\">\n",
       "      <th></th>\n",
       "      <th>Missing Values</th>\n",
       "      <th>% of Total Values</th>\n",
       "    </tr>\n",
       "  </thead>\n",
       "  <tbody>\n",
       "    <tr>\n",
       "      <th>total_shipped</th>\n",
       "      <td>7719</td>\n",
       "      <td>95.6</td>\n",
       "    </tr>\n",
       "    <tr>\n",
       "      <th>meta_multiplayer</th>\n",
       "      <td>2099</td>\n",
       "      <td>26.0</td>\n",
       "    </tr>\n",
       "    <tr>\n",
       "      <th>meta_critic_count</th>\n",
       "      <td>839</td>\n",
       "      <td>10.4</td>\n",
       "    </tr>\n",
       "    <tr>\n",
       "      <th>meta_esrb</th>\n",
       "      <td>80</td>\n",
       "      <td>1.0</td>\n",
       "    </tr>\n",
       "    <tr>\n",
       "      <th>meta_developer</th>\n",
       "      <td>13</td>\n",
       "      <td>0.2</td>\n",
       "    </tr>\n",
       "  </tbody>\n",
       "</table>\n",
       "</div>"
      ],
      "text/plain": [
       "                   Missing Values  % of Total Values\n",
       "total_shipped                7719               95.6\n",
       "meta_multiplayer             2099               26.0\n",
       "meta_critic_count             839               10.4\n",
       "meta_esrb                      80                1.0\n",
       "meta_developer                 13                0.2"
      ]
     },
     "execution_count": 9,
     "metadata": {},
     "output_type": "execute_result"
    }
   ],
   "source": [
    "missing_values_table(df)"
   ]
  },
  {
   "cell_type": "markdown",
   "metadata": {},
   "source": [
    "Now we can see how much of the total_shipped column is missing values.It has over 95% of its values missing so I dont think that this column is useful to us. We will just drop the whole column."
   ]
  },
  {
   "cell_type": "code",
   "execution_count": 10,
   "metadata": {},
   "outputs": [],
   "source": [
    "df=df.drop(['total_shipped'], axis = 1)"
   ]
  },
  {
   "cell_type": "markdown",
   "metadata": {},
   "source": [
    "## **Drop missing global sales**"
   ]
  },
  {
   "cell_type": "code",
   "execution_count": 11,
   "metadata": {},
   "outputs": [
    {
     "data": {
      "text/html": [
       "<div>\n",
       "<style scoped>\n",
       "    .dataframe tbody tr th:only-of-type {\n",
       "        vertical-align: middle;\n",
       "    }\n",
       "\n",
       "    .dataframe tbody tr th {\n",
       "        vertical-align: top;\n",
       "    }\n",
       "\n",
       "    .dataframe thead th {\n",
       "        text-align: right;\n",
       "    }\n",
       "</style>\n",
       "<table border=\"1\" class=\"dataframe\">\n",
       "  <thead>\n",
       "    <tr style=\"text-align: right;\">\n",
       "      <th></th>\n",
       "      <th>name</th>\n",
       "      <th>developer</th>\n",
       "      <th>rank</th>\n",
       "      <th>platform</th>\n",
       "      <th>release_date</th>\n",
       "      <th>publisher</th>\n",
       "      <th>na_sales</th>\n",
       "      <th>eu_sales</th>\n",
       "      <th>jp_sales</th>\n",
       "      <th>other_sales</th>\n",
       "      <th>...</th>\n",
       "      <th>meta_developer</th>\n",
       "      <th>meta_critic_score</th>\n",
       "      <th>meta_critic_count</th>\n",
       "      <th>meta_user_score</th>\n",
       "      <th>meta_user_count</th>\n",
       "      <th>meta_esrb</th>\n",
       "      <th>meta_genre</th>\n",
       "      <th>meta_multiplayer</th>\n",
       "      <th>meta_full_url</th>\n",
       "      <th>release_year</th>\n",
       "    </tr>\n",
       "  </thead>\n",
       "  <tbody>\n",
       "    <tr>\n",
       "      <th>1624</th>\n",
       "      <td>Garshasp: The Monster Slayer</td>\n",
       "      <td>Dead Mage Studio</td>\n",
       "      <td>3017</td>\n",
       "      <td>PC</td>\n",
       "      <td>2011-05-09</td>\n",
       "      <td>Unknown</td>\n",
       "      <td>0</td>\n",
       "      <td>0</td>\n",
       "      <td>0</td>\n",
       "      <td>0</td>\n",
       "      <td>...</td>\n",
       "      <td>Dead Mage Studio</td>\n",
       "      <td>49</td>\n",
       "      <td>19.0</td>\n",
       "      <td>6.2</td>\n",
       "      <td>55</td>\n",
       "      <td>NaN</td>\n",
       "      <td>Action Adventure</td>\n",
       "      <td>no</td>\n",
       "      <td>https://www.metacritic.com/game/pc/garshasp-th...</td>\n",
       "      <td>2011</td>\n",
       "    </tr>\n",
       "    <tr>\n",
       "      <th>1625</th>\n",
       "      <td>Metal Gear Online</td>\n",
       "      <td>Kojima Productions</td>\n",
       "      <td>3018</td>\n",
       "      <td>PS3</td>\n",
       "      <td>2008-06-12</td>\n",
       "      <td>Konami Digital Entertainment</td>\n",
       "      <td>0</td>\n",
       "      <td>0</td>\n",
       "      <td>0</td>\n",
       "      <td>0</td>\n",
       "      <td>...</td>\n",
       "      <td>Kojima Productions</td>\n",
       "      <td>81</td>\n",
       "      <td>10.0</td>\n",
       "      <td>7.7</td>\n",
       "      <td>69</td>\n",
       "      <td>M</td>\n",
       "      <td>Action Adventure</td>\n",
       "      <td>NaN</td>\n",
       "      <td>https://www.metacritic.com/game/playstation-3/...</td>\n",
       "      <td>2008</td>\n",
       "    </tr>\n",
       "    <tr>\n",
       "      <th>1626</th>\n",
       "      <td>Of Orcs and Men</td>\n",
       "      <td>Cyanide Studio</td>\n",
       "      <td>3020</td>\n",
       "      <td>PS3</td>\n",
       "      <td>2012-10-11</td>\n",
       "      <td>Focus Home Interactive</td>\n",
       "      <td>0</td>\n",
       "      <td>0</td>\n",
       "      <td>0</td>\n",
       "      <td>0</td>\n",
       "      <td>...</td>\n",
       "      <td>Cyanide, Spiders</td>\n",
       "      <td>57</td>\n",
       "      <td>8.0</td>\n",
       "      <td>6.3</td>\n",
       "      <td>43</td>\n",
       "      <td>M</td>\n",
       "      <td>Role-Playing</td>\n",
       "      <td>NaN</td>\n",
       "      <td>https://www.metacritic.com/game/playstation-3/...</td>\n",
       "      <td>2012</td>\n",
       "    </tr>\n",
       "    <tr>\n",
       "      <th>1627</th>\n",
       "      <td>Big Bumpin'</td>\n",
       "      <td>Blitz Games</td>\n",
       "      <td>3022</td>\n",
       "      <td>X360</td>\n",
       "      <td>2006-11-19</td>\n",
       "      <td>King Games</td>\n",
       "      <td>0</td>\n",
       "      <td>0</td>\n",
       "      <td>0</td>\n",
       "      <td>0</td>\n",
       "      <td>...</td>\n",
       "      <td>Blitz Games</td>\n",
       "      <td>63</td>\n",
       "      <td>16.0</td>\n",
       "      <td>5.8</td>\n",
       "      <td>13</td>\n",
       "      <td>E</td>\n",
       "      <td>Driving</td>\n",
       "      <td>yes</td>\n",
       "      <td>https://www.metacritic.com/game/xbox-360/big-b...</td>\n",
       "      <td>2006</td>\n",
       "    </tr>\n",
       "    <tr>\n",
       "      <th>1628</th>\n",
       "      <td>Resident Evil 5: Gold Edition</td>\n",
       "      <td>Capcom</td>\n",
       "      <td>3023</td>\n",
       "      <td>X360</td>\n",
       "      <td>2010-03-09</td>\n",
       "      <td>Capcom</td>\n",
       "      <td>0</td>\n",
       "      <td>0</td>\n",
       "      <td>0</td>\n",
       "      <td>0</td>\n",
       "      <td>...</td>\n",
       "      <td>Capcom</td>\n",
       "      <td>63</td>\n",
       "      <td>NaN</td>\n",
       "      <td>8.9</td>\n",
       "      <td>29</td>\n",
       "      <td>M</td>\n",
       "      <td>Miscellaneous</td>\n",
       "      <td>NaN</td>\n",
       "      <td>https://www.metacritic.com/game/xbox-360/resid...</td>\n",
       "      <td>2010</td>\n",
       "    </tr>\n",
       "  </tbody>\n",
       "</table>\n",
       "<p>5 rows × 25 columns</p>\n",
       "</div>"
      ],
      "text/plain": [
       "                               name             developer  rank platform  \\\n",
       "1624   Garshasp: The Monster Slayer    Dead Mage Studio    3017       PC   \n",
       "1625              Metal Gear Online  Kojima Productions    3018      PS3   \n",
       "1626                Of Orcs and Men      Cyanide Studio    3020      PS3   \n",
       "1627                    Big Bumpin'         Blitz Games    3022     X360   \n",
       "1628  Resident Evil 5: Gold Edition              Capcom    3023     X360   \n",
       "\n",
       "     release_date                       publisher  na_sales  eu_sales  \\\n",
       "1624   2011-05-09                       Unknown           0         0   \n",
       "1625   2008-06-12  Konami Digital Entertainment           0         0   \n",
       "1626   2012-10-11        Focus Home Interactive           0         0   \n",
       "1627   2006-11-19                    King Games           0         0   \n",
       "1628   2010-03-09                        Capcom           0         0   \n",
       "\n",
       "      jp_sales  other_sales  ...      meta_developer meta_critic_score  \\\n",
       "1624         0            0  ...    Dead Mage Studio                49   \n",
       "1625         0            0  ...  Kojima Productions                81   \n",
       "1626         0            0  ...    Cyanide, Spiders                57   \n",
       "1627         0            0  ...         Blitz Games                63   \n",
       "1628         0            0  ...              Capcom                63   \n",
       "\n",
       "     meta_critic_count meta_user_score meta_user_count meta_esrb  \\\n",
       "1624              19.0             6.2              55       NaN   \n",
       "1625              10.0             7.7              69         M   \n",
       "1626               8.0             6.3              43         M   \n",
       "1627              16.0             5.8              13         E   \n",
       "1628               NaN             8.9              29         M   \n",
       "\n",
       "            meta_genre  meta_multiplayer  \\\n",
       "1624  Action Adventure                no   \n",
       "1625  Action Adventure               NaN   \n",
       "1626      Role-Playing               NaN   \n",
       "1627           Driving               yes   \n",
       "1628     Miscellaneous               NaN   \n",
       "\n",
       "                                          meta_full_url  release_year  \n",
       "1624  https://www.metacritic.com/game/pc/garshasp-th...          2011  \n",
       "1625  https://www.metacritic.com/game/playstation-3/...          2008  \n",
       "1626  https://www.metacritic.com/game/playstation-3/...          2012  \n",
       "1627  https://www.metacritic.com/game/xbox-360/big-b...          2006  \n",
       "1628  https://www.metacritic.com/game/xbox-360/resid...          2010  \n",
       "\n",
       "[5 rows x 25 columns]"
      ]
     },
     "execution_count": 11,
     "metadata": {},
     "output_type": "execute_result"
    }
   ],
   "source": [
    "df[df['global_sales']==0].head()"
   ]
  },
  {
   "cell_type": "code",
   "execution_count": 12,
   "metadata": {},
   "outputs": [],
   "source": [
    "df['global_sales'] = df['global_sales'].replace(0, np.nan)"
   ]
  },
  {
   "cell_type": "code",
   "execution_count": 13,
   "metadata": {},
   "outputs": [],
   "source": [
    "df=df.dropna(subset = ['global_sales'])"
   ]
  },
  {
   "cell_type": "markdown",
   "metadata": {},
   "source": [
    "## **Fix meta_multiplayer column**\n",
    "When scraping multiplayer data from the metacritic website over 25% of the games had no information on whether it was a multiplayer or single player game. I think its fair to assume that all these games are single player as the website would highlight if it was a multiplayer."
   ]
  },
  {
   "cell_type": "code",
   "execution_count": 14,
   "metadata": {},
   "outputs": [],
   "source": [
    "df['meta_multiplayer'] = df['meta_multiplayer'].replace(np.nan, 'no')"
   ]
  },
  {
   "cell_type": "markdown",
   "metadata": {},
   "source": [
    "## **Fix meta_developer column**\n",
    "When I was collecting the data I decided to collect the developer name from both the VGChartz and MetaCritic website just incase one of the websites was missing values and I could replace them missing values with the developer name from the other website. It looks like the the developer column is missing no values however it contains 'unknown' values."
   ]
  },
  {
   "cell_type": "code",
   "execution_count": 15,
   "metadata": {},
   "outputs": [],
   "source": [
    "df['developer'] = df['developer'].replace('Unknown', np.nan, regex=True)"
   ]
  },
  {
   "cell_type": "code",
   "execution_count": 16,
   "metadata": {},
   "outputs": [
    {
     "name": "stdout",
     "output_type": "stream",
     "text": [
      "Your selected dataframe has 25 columns.\n",
      "There are 4 columns that have missing values.\n"
     ]
    },
    {
     "data": {
      "text/html": [
       "<div>\n",
       "<style scoped>\n",
       "    .dataframe tbody tr th:only-of-type {\n",
       "        vertical-align: middle;\n",
       "    }\n",
       "\n",
       "    .dataframe tbody tr th {\n",
       "        vertical-align: top;\n",
       "    }\n",
       "\n",
       "    .dataframe thead th {\n",
       "        text-align: right;\n",
       "    }\n",
       "</style>\n",
       "<table border=\"1\" class=\"dataframe\">\n",
       "  <thead>\n",
       "    <tr style=\"text-align: right;\">\n",
       "      <th></th>\n",
       "      <th>Missing Values</th>\n",
       "      <th>% of Total Values</th>\n",
       "    </tr>\n",
       "  </thead>\n",
       "  <tbody>\n",
       "    <tr>\n",
       "      <th>meta_critic_count</th>\n",
       "      <td>767</td>\n",
       "      <td>10.0</td>\n",
       "    </tr>\n",
       "    <tr>\n",
       "      <th>developer</th>\n",
       "      <td>97</td>\n",
       "      <td>1.3</td>\n",
       "    </tr>\n",
       "    <tr>\n",
       "      <th>meta_esrb</th>\n",
       "      <td>57</td>\n",
       "      <td>0.7</td>\n",
       "    </tr>\n",
       "    <tr>\n",
       "      <th>meta_developer</th>\n",
       "      <td>9</td>\n",
       "      <td>0.1</td>\n",
       "    </tr>\n",
       "  </tbody>\n",
       "</table>\n",
       "</div>"
      ],
      "text/plain": [
       "                   Missing Values  % of Total Values\n",
       "meta_critic_count             767               10.0\n",
       "developer                      97                1.3\n",
       "meta_esrb                      57                0.7\n",
       "meta_developer                  9                0.1"
      ]
     },
     "execution_count": 16,
     "metadata": {},
     "output_type": "execute_result"
    }
   ],
   "source": [
    "missing_values_table(df)"
   ]
  },
  {
   "cell_type": "markdown",
   "metadata": {},
   "source": [
    "As you can see there is a few missing developer names. I will replace the missing VGChatrz developer name with the metacritic developer name. If neither have the developer name then I will just drop the row"
   ]
  },
  {
   "cell_type": "code",
   "execution_count": 17,
   "metadata": {},
   "outputs": [],
   "source": [
    "df['developer'] = df['developer'].replace(np.nan, df['meta_developer'], regex=True)"
   ]
  },
  {
   "cell_type": "code",
   "execution_count": 18,
   "metadata": {},
   "outputs": [],
   "source": [
    "df['developer'] = df['developer'].dropna()"
   ]
  },
  {
   "cell_type": "markdown",
   "metadata": {},
   "source": [
    "Now I will just drop the meta_developer column as there is no need for it."
   ]
  },
  {
   "cell_type": "code",
   "execution_count": 19,
   "metadata": {},
   "outputs": [],
   "source": [
    "df=df.drop(['meta_developer'], axis = 1)"
   ]
  },
  {
   "cell_type": "markdown",
   "metadata": {},
   "source": [
    "## **Fill in missing meta_critic_count values**"
   ]
  },
  {
   "cell_type": "code",
   "execution_count": 20,
   "metadata": {},
   "outputs": [
    {
     "data": {
      "text/html": [
       "<div>\n",
       "<style scoped>\n",
       "    .dataframe tbody tr th:only-of-type {\n",
       "        vertical-align: middle;\n",
       "    }\n",
       "\n",
       "    .dataframe tbody tr th {\n",
       "        vertical-align: top;\n",
       "    }\n",
       "\n",
       "    .dataframe thead th {\n",
       "        text-align: right;\n",
       "    }\n",
       "</style>\n",
       "<table border=\"1\" class=\"dataframe\">\n",
       "  <thead>\n",
       "    <tr style=\"text-align: right;\">\n",
       "      <th></th>\n",
       "      <th>developer</th>\n",
       "      <th>game_genre</th>\n",
       "      <th>new_meta_critic_count</th>\n",
       "    </tr>\n",
       "  </thead>\n",
       "  <tbody>\n",
       "    <tr>\n",
       "      <th>453</th>\n",
       "      <td>Capcom</td>\n",
       "      <td>Racing</td>\n",
       "      <td>18.0</td>\n",
       "    </tr>\n",
       "    <tr>\n",
       "      <th>2169</th>\n",
       "      <td>Square Enix</td>\n",
       "      <td>Strategy</td>\n",
       "      <td>39.0</td>\n",
       "    </tr>\n",
       "    <tr>\n",
       "      <th>634</th>\n",
       "      <td>Data Design Interactive</td>\n",
       "      <td>Racing</td>\n",
       "      <td>NaN</td>\n",
       "    </tr>\n",
       "    <tr>\n",
       "      <th>1282</th>\n",
       "      <td>Koei/Inis</td>\n",
       "      <td>Sports</td>\n",
       "      <td>12.0</td>\n",
       "    </tr>\n",
       "  </tbody>\n",
       "</table>\n",
       "</div>"
      ],
      "text/plain": [
       "                      developer game_genre  new_meta_critic_count\n",
       "453                    Capcom       Racing                   18.0\n",
       "2169              Square Enix     Strategy                   39.0\n",
       "634   Data Design Interactive       Racing                    NaN\n",
       "1282                Koei/Inis       Sports                   12.0"
      ]
     },
     "execution_count": 20,
     "metadata": {},
     "output_type": "execute_result"
    }
   ],
   "source": [
    "df2=df.groupby(['developer','game_genre'])['meta_critic_count'].mean().reset_index() \n",
    "df2['meta_critic_count']=df2['meta_critic_count'].round()\n",
    "df2.columns=['developer','game_genre','new_meta_critic_count']\n",
    "df2.sample(4)"
   ]
  },
  {
   "cell_type": "code",
   "execution_count": 21,
   "metadata": {},
   "outputs": [
    {
     "data": {
      "text/html": [
       "<div>\n",
       "<style scoped>\n",
       "    .dataframe tbody tr th:only-of-type {\n",
       "        vertical-align: middle;\n",
       "    }\n",
       "\n",
       "    .dataframe tbody tr th {\n",
       "        vertical-align: top;\n",
       "    }\n",
       "\n",
       "    .dataframe thead th {\n",
       "        text-align: right;\n",
       "    }\n",
       "</style>\n",
       "<table border=\"1\" class=\"dataframe\">\n",
       "  <thead>\n",
       "    <tr style=\"text-align: right;\">\n",
       "      <th></th>\n",
       "      <th>name</th>\n",
       "      <th>developer</th>\n",
       "      <th>rank</th>\n",
       "      <th>platform</th>\n",
       "      <th>release_date</th>\n",
       "      <th>publisher</th>\n",
       "      <th>na_sales</th>\n",
       "      <th>eu_sales</th>\n",
       "      <th>jp_sales</th>\n",
       "      <th>other_sales</th>\n",
       "      <th>...</th>\n",
       "      <th>meta_critic_score</th>\n",
       "      <th>meta_critic_count</th>\n",
       "      <th>meta_user_score</th>\n",
       "      <th>meta_user_count</th>\n",
       "      <th>meta_esrb</th>\n",
       "      <th>meta_genre</th>\n",
       "      <th>meta_multiplayer</th>\n",
       "      <th>meta_full_url</th>\n",
       "      <th>release_year</th>\n",
       "      <th>new_meta_critic_count</th>\n",
       "    </tr>\n",
       "  </thead>\n",
       "  <tbody>\n",
       "    <tr>\n",
       "      <th>7533</th>\n",
       "      <td>Lock's Quest</td>\n",
       "      <td>5TH Cell</td>\n",
       "      <td>503</td>\n",
       "      <td>DS</td>\n",
       "      <td>2008-09-08</td>\n",
       "      <td>THQ</td>\n",
       "      <td>80000</td>\n",
       "      <td>0</td>\n",
       "      <td>0</td>\n",
       "      <td>10000</td>\n",
       "      <td>...</td>\n",
       "      <td>80</td>\n",
       "      <td>32.0</td>\n",
       "      <td>8.3</td>\n",
       "      <td>33</td>\n",
       "      <td>E</td>\n",
       "      <td>Strategy</td>\n",
       "      <td>yes</td>\n",
       "      <td>https://www.metacritic.com/game/ds/locks-quest</td>\n",
       "      <td>2008</td>\n",
       "      <td>32.0</td>\n",
       "    </tr>\n",
       "    <tr>\n",
       "      <th>5046</th>\n",
       "      <td>Naruto: Path of the Ninja 2</td>\n",
       "      <td>TOSE</td>\n",
       "      <td>819</td>\n",
       "      <td>DS</td>\n",
       "      <td>2008-10-15</td>\n",
       "      <td>D3 Publisher</td>\n",
       "      <td>220000</td>\n",
       "      <td>0</td>\n",
       "      <td>0</td>\n",
       "      <td>20000</td>\n",
       "      <td>...</td>\n",
       "      <td>62</td>\n",
       "      <td>18.0</td>\n",
       "      <td>7.4</td>\n",
       "      <td>7</td>\n",
       "      <td>E10+</td>\n",
       "      <td>Role-Playing</td>\n",
       "      <td>yes</td>\n",
       "      <td>https://www.metacritic.com/game/ds/naruto-path...</td>\n",
       "      <td>2008</td>\n",
       "      <td>17.0</td>\n",
       "    </tr>\n",
       "    <tr>\n",
       "      <th>6533</th>\n",
       "      <td>NHL 14</td>\n",
       "      <td>EA Canada</td>\n",
       "      <td>676</td>\n",
       "      <td>X360</td>\n",
       "      <td>2013-09-10</td>\n",
       "      <td>EA Sports</td>\n",
       "      <td>400000</td>\n",
       "      <td>90000</td>\n",
       "      <td>0</td>\n",
       "      <td>50000</td>\n",
       "      <td>...</td>\n",
       "      <td>81</td>\n",
       "      <td>30.0</td>\n",
       "      <td>6.0</td>\n",
       "      <td>95</td>\n",
       "      <td>E10+</td>\n",
       "      <td>Sports</td>\n",
       "      <td>no</td>\n",
       "      <td>https://www.metacritic.com/game/xbox-360/nhl-14</td>\n",
       "      <td>2013</td>\n",
       "      <td>25.0</td>\n",
       "    </tr>\n",
       "    <tr>\n",
       "      <th>5231</th>\n",
       "      <td>Dokapon Kingdom</td>\n",
       "      <td>Sting</td>\n",
       "      <td>1131</td>\n",
       "      <td>Wii</td>\n",
       "      <td>2008-10-14</td>\n",
       "      <td>Atlus</td>\n",
       "      <td>120000</td>\n",
       "      <td>0</td>\n",
       "      <td>0</td>\n",
       "      <td>10000</td>\n",
       "      <td>...</td>\n",
       "      <td>73</td>\n",
       "      <td>11.0</td>\n",
       "      <td>8.1</td>\n",
       "      <td>20</td>\n",
       "      <td>E10+</td>\n",
       "      <td>Role-Playing</td>\n",
       "      <td>no</td>\n",
       "      <td>https://www.metacritic.com/game/wii/dokapon-ki...</td>\n",
       "      <td>2008</td>\n",
       "      <td>16.0</td>\n",
       "    </tr>\n",
       "  </tbody>\n",
       "</table>\n",
       "<p>4 rows × 25 columns</p>\n",
       "</div>"
      ],
      "text/plain": [
       "                             name    developer  rank platform release_date  \\\n",
       "7533                 Lock's Quest   5TH Cell     503       DS   2008-09-08   \n",
       "5046  Naruto: Path of the Ninja 2       TOSE     819       DS   2008-10-15   \n",
       "6533                       NHL 14  EA Canada     676     X360   2013-09-10   \n",
       "5231              Dokapon Kingdom      Sting    1131      Wii   2008-10-14   \n",
       "\n",
       "           publisher  na_sales  eu_sales  jp_sales  other_sales  ...  \\\n",
       "7533           THQ       80000         0         0        10000  ...   \n",
       "5046  D3 Publisher      220000         0         0        20000  ...   \n",
       "6533     EA Sports      400000     90000         0        50000  ...   \n",
       "5231         Atlus      120000         0         0        10000  ...   \n",
       "\n",
       "      meta_critic_score meta_critic_count meta_user_score meta_user_count  \\\n",
       "7533                 80              32.0             8.3              33   \n",
       "5046                 62              18.0             7.4               7   \n",
       "6533                 81              30.0             6.0              95   \n",
       "5231                 73              11.0             8.1              20   \n",
       "\n",
       "     meta_esrb    meta_genre  meta_multiplayer  \\\n",
       "7533         E      Strategy               yes   \n",
       "5046      E10+  Role-Playing               yes   \n",
       "6533      E10+        Sports                no   \n",
       "5231      E10+  Role-Playing                no   \n",
       "\n",
       "                                          meta_full_url  release_year  \\\n",
       "7533     https://www.metacritic.com/game/ds/locks-quest          2008   \n",
       "5046  https://www.metacritic.com/game/ds/naruto-path...          2008   \n",
       "6533    https://www.metacritic.com/game/xbox-360/nhl-14          2013   \n",
       "5231  https://www.metacritic.com/game/wii/dokapon-ki...          2008   \n",
       "\n",
       "     new_meta_critic_count  \n",
       "7533                  32.0  \n",
       "5046                  17.0  \n",
       "6533                  25.0  \n",
       "5231                  16.0  \n",
       "\n",
       "[4 rows x 25 columns]"
      ]
     },
     "execution_count": 21,
     "metadata": {},
     "output_type": "execute_result"
    }
   ],
   "source": [
    "df=df.merge(df2,left_on=['developer','game_genre'], right_on=['developer','game_genre'])\n",
    "df.sample(4)"
   ]
  },
  {
   "cell_type": "markdown",
   "metadata": {},
   "source": [
    "Lets check and see if our expected meta_critic_count is a good estimate"
   ]
  },
  {
   "cell_type": "code",
   "execution_count": 22,
   "metadata": {},
   "outputs": [
    {
     "name": "stdout",
     "output_type": "stream",
     "text": [
      "The highest difference is: 69.0\n",
      "The average difference is: 8.359197907585004\n"
     ]
    }
   ],
   "source": [
    "diff_df=pd.DataFrame()\n",
    "diff_df['name'] =  df['name']\n",
    "diff_df['Score_diff'] = df['meta_critic_count'] - df['new_meta_critic_count'] \n",
    "diff_df['Score_diff']= abs(diff_df['Score_diff'])\n",
    "print('The highest difference is:' , diff_df['Score_diff'].max())\n",
    "print('The average difference is:', diff_df['Score_diff'].mean())"
   ]
  },
  {
   "cell_type": "code",
   "execution_count": 23,
   "metadata": {},
   "outputs": [
    {
     "data": {
      "text/plain": [
       "20.669368544907833"
      ]
     },
     "execution_count": 23,
     "metadata": {},
     "output_type": "execute_result"
    }
   ],
   "source": [
    "(len(diff_df[diff_df['Score_diff'] == 0])/len(diff_df) )* 100"
   ]
  },
  {
   "cell_type": "markdown",
   "metadata": {},
   "source": [
    "We have correctly predicted the critic count Over 20% of the time."
   ]
  },
  {
   "cell_type": "code",
   "execution_count": 24,
   "metadata": {},
   "outputs": [
    {
     "data": {
      "text/plain": [
       "9.60909922865734"
      ]
     },
     "execution_count": 24,
     "metadata": {},
     "output_type": "execute_result"
    }
   ],
   "source": [
    "(len(diff_df[diff_df['Score_diff']> 20])/len(diff_df) )* 100"
   ]
  },
  {
   "cell_type": "markdown",
   "metadata": {},
   "source": [
    "Only about 9% of the dataset got a predicted score of over 20 people wrong. This means most of the datasets predicted score is quite close to its actually one. I am quite happy with these stats and I feel that using this mean score to will in missing values is pretty accurate."
   ]
  },
  {
   "cell_type": "code",
   "execution_count": 25,
   "metadata": {},
   "outputs": [],
   "source": [
    "df['meta_critic_count'] = df['meta_critic_count'].replace(np.nan, df['new_meta_critic_count'], regex=True)\n",
    "df=df.drop('new_meta_critic_count',axis=1)"
   ]
  },
  {
   "cell_type": "markdown",
   "metadata": {},
   "source": [
    "## **Fix meta_esrb values**"
   ]
  },
  {
   "cell_type": "code",
   "execution_count": 26,
   "metadata": {},
   "outputs": [
    {
     "data": {
      "text/plain": [
       "array(['M', 'AO', 'T', 'E10+', 'E', nan, 'EC', 'K-A', 'RP'], dtype=object)"
      ]
     },
     "execution_count": 26,
     "metadata": {},
     "output_type": "execute_result"
    }
   ],
   "source": [
    "df.meta_esrb.unique()"
   ]
  },
  {
   "cell_type": "markdown",
   "metadata": {},
   "source": [
    "There are only 5 main esrb rating - M,T,E10+,EC and E, however we have 7. K-A means its suitable for kids to adults, this means it can be changed to E which stands for everybody. AO stands for adults only, this means it can be changed to M which stands for mature. Finally Titles listed as RP (Rating Pending) have not yet been assigned a final ESRB rating so i will just leave this as RP."
   ]
  },
  {
   "cell_type": "code",
   "execution_count": 27,
   "metadata": {},
   "outputs": [],
   "source": [
    "df['meta_esrb'] = df['meta_esrb'].replace('AO', 'M')\n",
    "df['meta_esrb'] = df['meta_esrb'].replace('K-A', 'E')"
   ]
  },
  {
   "cell_type": "code",
   "execution_count": 28,
   "metadata": {},
   "outputs": [
    {
     "data": {
      "text/plain": [
       "meta_esrb\n",
       "E       2295\n",
       "E10+    1196\n",
       "EC         2\n",
       "M       1558\n",
       "RP         1\n",
       "T       2540\n",
       "Name: name, dtype: int64"
      ]
     },
     "execution_count": 28,
     "metadata": {},
     "output_type": "execute_result"
    }
   ],
   "source": [
    "df.groupby('meta_esrb').count()['name']"
   ]
  },
  {
   "cell_type": "code",
   "execution_count": 29,
   "metadata": {},
   "outputs": [
    {
     "data": {
      "text/html": [
       "<div>\n",
       "<style scoped>\n",
       "    .dataframe tbody tr th:only-of-type {\n",
       "        vertical-align: middle;\n",
       "    }\n",
       "\n",
       "    .dataframe tbody tr th {\n",
       "        vertical-align: top;\n",
       "    }\n",
       "\n",
       "    .dataframe thead th {\n",
       "        text-align: right;\n",
       "    }\n",
       "</style>\n",
       "<table border=\"1\" class=\"dataframe\">\n",
       "  <thead>\n",
       "    <tr style=\"text-align: right;\">\n",
       "      <th></th>\n",
       "      <th>name</th>\n",
       "      <th>developer</th>\n",
       "      <th>rank</th>\n",
       "      <th>platform</th>\n",
       "      <th>release_date</th>\n",
       "      <th>publisher</th>\n",
       "      <th>na_sales</th>\n",
       "      <th>eu_sales</th>\n",
       "      <th>jp_sales</th>\n",
       "      <th>other_sales</th>\n",
       "      <th>...</th>\n",
       "      <th>meta_game_name</th>\n",
       "      <th>meta_critic_score</th>\n",
       "      <th>meta_critic_count</th>\n",
       "      <th>meta_user_score</th>\n",
       "      <th>meta_user_count</th>\n",
       "      <th>meta_esrb</th>\n",
       "      <th>meta_genre</th>\n",
       "      <th>meta_multiplayer</th>\n",
       "      <th>meta_full_url</th>\n",
       "      <th>release_year</th>\n",
       "    </tr>\n",
       "  </thead>\n",
       "  <tbody>\n",
       "    <tr>\n",
       "      <th>7530</th>\n",
       "      <td>Supreme Ruler: Cold War</td>\n",
       "      <td>Paradox Interactive</td>\n",
       "      <td>690</td>\n",
       "      <td>PC</td>\n",
       "      <td>2011-07-19</td>\n",
       "      <td>Paradox Interactive</td>\n",
       "      <td>0</td>\n",
       "      <td>30000</td>\n",
       "      <td>0</td>\n",
       "      <td>0</td>\n",
       "      <td>...</td>\n",
       "      <td>Supreme Ruler: Cold War</td>\n",
       "      <td>63</td>\n",
       "      <td>12.0</td>\n",
       "      <td>6.7</td>\n",
       "      <td>28</td>\n",
       "      <td>RP</td>\n",
       "      <td>Strategy</td>\n",
       "      <td>yes</td>\n",
       "      <td>https://www.metacritic.com/game/pc/supreme-rul...</td>\n",
       "      <td>2011</td>\n",
       "    </tr>\n",
       "  </tbody>\n",
       "</table>\n",
       "<p>1 rows × 24 columns</p>\n",
       "</div>"
      ],
      "text/plain": [
       "                         name              developer  rank platform  \\\n",
       "7530  Supreme Ruler: Cold War  Paradox Interactive     690       PC   \n",
       "\n",
       "     release_date               publisher  na_sales  eu_sales  jp_sales  \\\n",
       "7530   2011-07-19  Paradox Interactive            0     30000         0   \n",
       "\n",
       "      other_sales  ...           meta_game_name meta_critic_score  \\\n",
       "7530            0  ...  Supreme Ruler: Cold War                63   \n",
       "\n",
       "     meta_critic_count meta_user_score meta_user_count  meta_esrb  meta_genre  \\\n",
       "7530              12.0             6.7              28         RP    Strategy   \n",
       "\n",
       "      meta_multiplayer                                      meta_full_url  \\\n",
       "7530               yes  https://www.metacritic.com/game/pc/supreme-rul...   \n",
       "\n",
       "     release_year  \n",
       "7530         2011  \n",
       "\n",
       "[1 rows x 24 columns]"
      ]
     },
     "execution_count": 29,
     "metadata": {},
     "output_type": "execute_result"
    }
   ],
   "source": [
    "df[df['meta_esrb']=='RP']"
   ]
  },
  {
   "cell_type": "markdown",
   "metadata": {},
   "source": [
    "Because there was only one game with a RP rating I decided to look that game up. It has actually been given a rating og E10+ according to this website: https://www.esrb.org/ratings/31253/Supreme+Ruler+Cold+War/. I will fill in this value for the game 'Supreme Ruler: Cold War' meta_esrb."
   ]
  },
  {
   "cell_type": "code",
   "execution_count": 30,
   "metadata": {},
   "outputs": [],
   "source": [
    "df['meta_esrb'] = df['meta_esrb'].replace('RP', 'E10+', regex=True)"
   ]
  },
  {
   "cell_type": "markdown",
   "metadata": {},
   "source": [
    "## **Drop remaining empty values**"
   ]
  },
  {
   "cell_type": "code",
   "execution_count": 31,
   "metadata": {},
   "outputs": [],
   "source": [
    "df = df.dropna()"
   ]
  },
  {
   "cell_type": "code",
   "execution_count": 32,
   "metadata": {},
   "outputs": [
    {
     "name": "stdout",
     "output_type": "stream",
     "text": [
      "Your selected dataframe has 24 columns.\n",
      "There are 0 columns that have missing values.\n"
     ]
    },
    {
     "data": {
      "text/html": [
       "<div>\n",
       "<style scoped>\n",
       "    .dataframe tbody tr th:only-of-type {\n",
       "        vertical-align: middle;\n",
       "    }\n",
       "\n",
       "    .dataframe tbody tr th {\n",
       "        vertical-align: top;\n",
       "    }\n",
       "\n",
       "    .dataframe thead th {\n",
       "        text-align: right;\n",
       "    }\n",
       "</style>\n",
       "<table border=\"1\" class=\"dataframe\">\n",
       "  <thead>\n",
       "    <tr style=\"text-align: right;\">\n",
       "      <th></th>\n",
       "      <th>Missing Values</th>\n",
       "      <th>% of Total Values</th>\n",
       "    </tr>\n",
       "  </thead>\n",
       "  <tbody>\n",
       "  </tbody>\n",
       "</table>\n",
       "</div>"
      ],
      "text/plain": [
       "Empty DataFrame\n",
       "Columns: [Missing Values, % of Total Values]\n",
       "Index: []"
      ]
     },
     "execution_count": 32,
     "metadata": {},
     "output_type": "execute_result"
    }
   ],
   "source": [
    "missing_values_table(df)"
   ]
  },
  {
   "cell_type": "markdown",
   "metadata": {},
   "source": [
    "## **Save to csv file**"
   ]
  },
  {
   "cell_type": "code",
   "execution_count": 33,
   "metadata": {},
   "outputs": [],
   "source": [
    "df=df.set_index('name')\n",
    "df.to_csv('../data/prep/300.csv')"
   ]
  },
  {
   "cell_type": "code",
   "execution_count": null,
   "metadata": {},
   "outputs": [],
   "source": []
  }
 ],
 "metadata": {
  "kernelspec": {
   "display_name": "Python 3",
   "language": "python",
   "name": "python3"
  },
  "language_info": {
   "codemirror_mode": {
    "name": "ipython",
    "version": 3
   },
   "file_extension": ".py",
   "mimetype": "text/x-python",
   "name": "python",
   "nbconvert_exporter": "python",
   "pygments_lexer": "ipython3",
   "version": "3.7.3"
  }
 },
 "nbformat": 4,
 "nbformat_minor": 4
}
