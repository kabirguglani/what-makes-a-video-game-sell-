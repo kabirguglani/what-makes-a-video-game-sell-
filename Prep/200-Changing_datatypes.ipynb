{
 "cells": [
  {
   "cell_type": "markdown",
   "metadata": {},
   "source": [
    "## **Purpose**\n",
    "In this notebook we will be changing the datatypes of some of the columns in our dataset.\n",
    "## **Datasets**\n",
    "100.csv\n"
   ]
  },
  {
   "cell_type": "code",
   "execution_count": 7,
   "metadata": {},
   "outputs": [],
   "source": [
    "from bs4 import BeautifulSoup\n",
    "import requests\n",
    "import pandas as pd\n",
    "import numpy as np\n",
    "import os"
   ]
  },
  {
   "cell_type": "code",
   "execution_count": 8,
   "metadata": {},
   "outputs": [
    {
     "name": "stdout",
     "output_type": "stream",
     "text": [
      "Success!\n"
     ]
    }
   ],
   "source": [
    "if not os.path.exists(\"../data/prep/100.csv\"):\n",
    "    print(\"Missing dataset file\")\n",
    "else:\n",
    "    print(\"Success!\")"
   ]
  },
  {
   "cell_type": "code",
   "execution_count": 5,
   "metadata": {},
   "outputs": [],
   "source": [
    "df= pd.read_csv(\"../data/prep/100.csv\", low_memory = False)"
   ]
  },
  {
   "cell_type": "markdown",
   "metadata": {},
   "source": [
    "Firtly, lets look at each columns data type"
   ]
  },
  {
   "cell_type": "code",
   "execution_count": 5,
   "metadata": {},
   "outputs": [
    {
     "name": "stdout",
     "output_type": "stream",
     "text": [
      "<class 'pandas.core.frame.DataFrame'>\n",
      "RangeIndex: 8183 entries, 0 to 8182\n",
      "Data columns (total 25 columns):\n",
      "name                 8183 non-null object\n",
      "total_shipped        8183 non-null object\n",
      "developer            8183 non-null object\n",
      "rank                 8183 non-null int64\n",
      "platform             8183 non-null object\n",
      "release_date         8183 non-null object\n",
      "publisher            8183 non-null object\n",
      "na_sales             7055 non-null object\n",
      "eu_sales             7171 non-null object\n",
      "jp_sales             2169 non-null object\n",
      "other_sales          7912 non-null object\n",
      "global_sales         8183 non-null object\n",
      "game_genre           8183 non-null object\n",
      "game_url             8183 non-null object\n",
      "game_url_string      8183 non-null object\n",
      "meta_game_name       8183 non-null object\n",
      "meta_developer       8170 non-null object\n",
      "meta_critic_score    8183 non-null int64\n",
      "meta_critic_count    7338 non-null float64\n",
      "meta_user_score      8183 non-null float64\n",
      "meta_user_count      8183 non-null int64\n",
      "meta_esrb            8100 non-null object\n",
      "meta_genre           8183 non-null object\n",
      "meta_multiplayer     6052 non-null object\n",
      "meta_full_url        8183 non-null object\n",
      "dtypes: float64(2), int64(3), object(20)\n",
      "memory usage: 1.6+ MB\n"
     ]
    }
   ],
   "source": [
    "df.info()"
   ]
  },
  {
   "cell_type": "markdown",
   "metadata": {},
   "source": [
    "Most of the columns seem to be the correct data type. The only columns that seem wrong is the sales columns and the release date column"
   ]
  },
  {
   "cell_type": "markdown",
   "metadata": {},
   "source": [
    "## **Change Data Type of release_date column**\n",
    "We must change the release_date from a string to datetime. This is easy as the pandas library has a function called to_datetime(). Currently the date is in a format like this - 17th Sep 13. We will convert this to the following format - 2017-09-13"
   ]
  },
  {
   "cell_type": "code",
   "execution_count": 6,
   "metadata": {},
   "outputs": [],
   "source": [
    "df['release_date'] = df['release_date'].replace('N/A', np.nan, regex=True)\n",
    "df= df.dropna(subset=['release_date'])\n",
    "df['release_date']=pd.to_datetime(df['release_date'])"
   ]
  },
  {
   "cell_type": "code",
   "execution_count": 7,
   "metadata": {},
   "outputs": [
    {
     "data": {
      "text/html": [
       "<div>\n",
       "<style scoped>\n",
       "    .dataframe tbody tr th:only-of-type {\n",
       "        vertical-align: middle;\n",
       "    }\n",
       "\n",
       "    .dataframe tbody tr th {\n",
       "        vertical-align: top;\n",
       "    }\n",
       "\n",
       "    .dataframe thead th {\n",
       "        text-align: right;\n",
       "    }\n",
       "</style>\n",
       "<table border=\"1\" class=\"dataframe\">\n",
       "  <thead>\n",
       "    <tr style=\"text-align: right;\">\n",
       "      <th></th>\n",
       "      <th>name</th>\n",
       "      <th>total_shipped</th>\n",
       "      <th>developer</th>\n",
       "      <th>rank</th>\n",
       "      <th>platform</th>\n",
       "      <th>release_date</th>\n",
       "      <th>publisher</th>\n",
       "      <th>na_sales</th>\n",
       "      <th>eu_sales</th>\n",
       "      <th>jp_sales</th>\n",
       "      <th>...</th>\n",
       "      <th>meta_game_name</th>\n",
       "      <th>meta_developer</th>\n",
       "      <th>meta_critic_score</th>\n",
       "      <th>meta_critic_count</th>\n",
       "      <th>meta_user_score</th>\n",
       "      <th>meta_user_count</th>\n",
       "      <th>meta_esrb</th>\n",
       "      <th>meta_genre</th>\n",
       "      <th>meta_multiplayer</th>\n",
       "      <th>meta_full_url</th>\n",
       "    </tr>\n",
       "  </thead>\n",
       "  <tbody>\n",
       "    <tr>\n",
       "      <th>7887</th>\n",
       "      <td>XCOM 2</td>\n",
       "      <td>N/A</td>\n",
       "      <td>Firaxis Games</td>\n",
       "      <td>217</td>\n",
       "      <td>PS4</td>\n",
       "      <td>2016-09-27</td>\n",
       "      <td>2K Games</td>\n",
       "      <td>0.16m</td>\n",
       "      <td>0.10m</td>\n",
       "      <td>NaN</td>\n",
       "      <td>...</td>\n",
       "      <td>XCOM 2</td>\n",
       "      <td>Firaxis Games</td>\n",
       "      <td>87</td>\n",
       "      <td>29.0</td>\n",
       "      <td>7.3</td>\n",
       "      <td>364</td>\n",
       "      <td>T</td>\n",
       "      <td>Strategy</td>\n",
       "      <td>yes</td>\n",
       "      <td>https://www.metacritic.com/game/playstation-4/...</td>\n",
       "    </tr>\n",
       "  </tbody>\n",
       "</table>\n",
       "<p>1 rows × 25 columns</p>\n",
       "</div>"
      ],
      "text/plain": [
       "        name total_shipped        developer  rank platform release_date  \\\n",
       "7887  XCOM 2         N/A    Firaxis Games     217      PS4   2016-09-27   \n",
       "\n",
       "       publisher na_sales eu_sales jp_sales  ... meta_game_name  \\\n",
       "7887  2K Games      0.16m    0.10m      NaN  ...         XCOM 2   \n",
       "\n",
       "     meta_developer meta_critic_score meta_critic_count meta_user_score  \\\n",
       "7887  Firaxis Games                87              29.0             7.3   \n",
       "\n",
       "     meta_user_count meta_esrb  meta_genre  meta_multiplayer  \\\n",
       "7887             364         T    Strategy               yes   \n",
       "\n",
       "                                          meta_full_url  \n",
       "7887  https://www.metacritic.com/game/playstation-4/...  \n",
       "\n",
       "[1 rows x 25 columns]"
      ]
     },
     "execution_count": 7,
     "metadata": {},
     "output_type": "execute_result"
    }
   ],
   "source": [
    "df.sample()"
   ]
  },
  {
   "cell_type": "markdown",
   "metadata": {},
   "source": [
    "I also want to add a column for the year of release instead of just having a release date for my analysis"
   ]
  },
  {
   "cell_type": "code",
   "execution_count": 8,
   "metadata": {},
   "outputs": [],
   "source": [
    "df['release_year'] = df['release_date'].dt.year"
   ]
  },
  {
   "cell_type": "markdown",
   "metadata": {},
   "source": [
    "## **Change Data Type of sales columns**"
   ]
  },
  {
   "cell_type": "code",
   "execution_count": 9,
   "metadata": {},
   "outputs": [
    {
     "data": {
      "text/plain": [
       "0    20.32m\n",
       "1    19.39m\n",
       "2    16.15m\n",
       "Name: global_sales, dtype: object"
      ]
     },
     "execution_count": 9,
     "metadata": {},
     "output_type": "execute_result"
    }
   ],
   "source": [
    "df['global_sales'].head(3)"
   ]
  },
  {
   "cell_type": "markdown",
   "metadata": {},
   "source": [
    "As you can see the sales columns contain 'm' to represent million. This wont work for our analysis. To convert theses columns to an integer we must first remove the 'm'."
   ]
  },
  {
   "cell_type": "code",
   "execution_count": 10,
   "metadata": {},
   "outputs": [],
   "source": [
    "# take off the 'm' so we can convert to floats\n",
    "df['global_sales'] = df['global_sales'].str.replace('m','')\n",
    "df['na_sales'] = df['na_sales'].str.replace('m','')\n",
    "df['eu_sales'] = df['eu_sales'].str.replace('m','')\n",
    "df['jp_sales'] = df['jp_sales'].str.replace('m','')\n",
    "df['other_sales'] = df['other_sales'].str.replace('m','')\n",
    "df['total_shipped'] = df['total_shipped'].str.replace('m','')"
   ]
  },
  {
   "cell_type": "code",
   "execution_count": 11,
   "metadata": {},
   "outputs": [],
   "source": [
    "# function to convert and format string to float\n",
    "def convert_to_int(s):\n",
    "    return round(float(s) * 1000000)"
   ]
  },
  {
   "cell_type": "markdown",
   "metadata": {},
   "source": [
    "A lot of the sales columns have empty values, apart from the global sales columns as we filtered these out earlier on. We could just remove rows with empty sales values however I feel that as long as we have no rows with global_sales value empty the data will be useful for us. However, we will have to do something with these empty value to convert the column to an int. I decided to just make these values 0. If we decide to do some regional sales analysis then we can just remove rows with 0 in one of their sales columns."
   ]
  },
  {
   "cell_type": "code",
   "execution_count": 12,
   "metadata": {},
   "outputs": [],
   "source": [
    "df['jp_sales'] = df['jp_sales'].replace(np.nan,0)\n",
    "df['global_sales'] = df['global_sales'].replace(np.nan,0)\n",
    "df['na_sales'] = df['na_sales'].replace(np.nan,0)\n",
    "df['eu_sales'] = df['eu_sales'].replace(np.nan,0)\n",
    "df['other_sales'] = df['other_sales'].replace(np.nan,0)"
   ]
  },
  {
   "cell_type": "code",
   "execution_count": 13,
   "metadata": {},
   "outputs": [],
   "source": [
    "df['global_sales'] = df['global_sales'].apply(convert_to_int)\n",
    "df['na_sales'] = df['na_sales'].apply(convert_to_int)\n",
    "df['eu_sales'] = df['eu_sales'].apply(convert_to_int)\n",
    "df['jp_sales'] = df['jp_sales'].apply(convert_to_int)\n",
    "df['other_sales'] = df['other_sales'].apply(convert_to_int)"
   ]
  },
  {
   "cell_type": "code",
   "execution_count": 14,
   "metadata": {},
   "outputs": [
    {
     "name": "stdout",
     "output_type": "stream",
     "text": [
      "<class 'pandas.core.frame.DataFrame'>\n",
      "Int64Index: 8172 entries, 0 to 8182\n",
      "Data columns (total 26 columns):\n",
      "name                 8172 non-null object\n",
      "total_shipped        8172 non-null object\n",
      "developer            8172 non-null object\n",
      "rank                 8172 non-null int64\n",
      "platform             8172 non-null object\n",
      "release_date         8172 non-null datetime64[ns]\n",
      "publisher            8172 non-null object\n",
      "na_sales             8172 non-null int64\n",
      "eu_sales             8172 non-null int64\n",
      "jp_sales             8172 non-null int64\n",
      "other_sales          8172 non-null int64\n",
      "global_sales         8172 non-null int64\n",
      "game_genre           8172 non-null object\n",
      "game_url             8172 non-null object\n",
      "game_url_string      8172 non-null object\n",
      "meta_game_name       8172 non-null object\n",
      "meta_developer       8159 non-null object\n",
      "meta_critic_score    8172 non-null int64\n",
      "meta_critic_count    7330 non-null float64\n",
      "meta_user_score      8172 non-null float64\n",
      "meta_user_count      8172 non-null int64\n",
      "meta_esrb            8092 non-null object\n",
      "meta_genre           8172 non-null object\n",
      "meta_multiplayer     6048 non-null object\n",
      "meta_full_url        8172 non-null object\n",
      "release_year         8172 non-null int64\n",
      "dtypes: datetime64[ns](1), float64(2), int64(9), object(14)\n",
      "memory usage: 1.7+ MB\n"
     ]
    }
   ],
   "source": [
    "df.info()"
   ]
  },
  {
   "cell_type": "markdown",
   "metadata": {},
   "source": [
    "Now all our data has the correct data types"
   ]
  },
  {
   "cell_type": "code",
   "execution_count": 15,
   "metadata": {},
   "outputs": [],
   "source": [
    "df=df.set_index('name')\n",
    "df.to_csv(\"../data/prep/200.csv\",sep=\",\",encoding='utf-8')"
   ]
  },
  {
   "cell_type": "code",
   "execution_count": null,
   "metadata": {},
   "outputs": [],
   "source": []
  }
 ],
 "metadata": {
  "kernelspec": {
   "display_name": "Python 3",
   "language": "python",
   "name": "python3"
  },
  "language_info": {
   "codemirror_mode": {
    "name": "ipython",
    "version": 3
   },
   "file_extension": ".py",
   "mimetype": "text/x-python",
   "name": "python",
   "nbconvert_exporter": "python",
   "pygments_lexer": "ipython3",
   "version": "3.7.3"
  }
 },
 "nbformat": 4,
 "nbformat_minor": 4
}
