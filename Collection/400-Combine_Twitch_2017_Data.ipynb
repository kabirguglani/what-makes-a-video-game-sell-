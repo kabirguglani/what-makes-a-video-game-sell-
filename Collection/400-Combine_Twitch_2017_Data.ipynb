{
 "cells": [
  {
   "cell_type": "code",
   "execution_count": 1,
   "metadata": {},
   "outputs": [],
   "source": [
    "import pandas as pd\n",
    "import glob\n",
    "import csv\n",
    "import os\n",
    "from os import chdir"
   ]
  },
  {
   "cell_type": "code",
   "execution_count": 2,
   "metadata": {},
   "outputs": [
    {
     "name": "stdout",
     "output_type": "stream",
     "text": [
      "Success!\n"
     ]
    }
   ],
   "source": [
    "if not os.path.exists(\"../data/raw/Twitch_2017/Twitch_2017/\"):\n",
    "    print(\"Missing dataset file\")\n",
    "    exisit=False\n",
    "else:\n",
    "    print(\"Success!\")\n",
    "    exists=True"
   ]
  },
  {
   "cell_type": "code",
   "execution_count": 3,
   "metadata": {},
   "outputs": [],
   "source": [
    "csv_file_path = '../data/raw/Twitch_2017/Twitch_2017/'\n",
    "chdir(csv_file_path)"
   ]
  },
  {
   "cell_type": "code",
   "execution_count": 4,
   "metadata": {},
   "outputs": [],
   "source": [
    "extension = 'csv'\n",
    "all_filenames = [i for i in glob.glob('*.{}'.format(extension))]"
   ]
  },
  {
   "cell_type": "code",
   "execution_count": 5,
   "metadata": {},
   "outputs": [
    {
     "name": "stderr",
     "output_type": "stream",
     "text": [
      "C:\\Users\\Sean Harkin\\Anaconda3\\lib\\site-packages\\ipykernel_launcher.py:1: FutureWarning: Sorting because non-concatenation axis is not aligned. A future version\n",
      "of pandas will change to not sort by default.\n",
      "\n",
      "To accept the future behavior, pass 'sort=False'.\n",
      "\n",
      "To retain the current behavior and silence the warning, pass 'sort=True'.\n",
      "\n",
      "  \"\"\"Entry point for launching an IPython kernel.\n"
     ]
    }
   ],
   "source": [
    "combined_csv = pd.concat([pd.read_csv(f) for f in all_filenames ])\n",
    "#export to csv\n",
    "combined_csv.to_csv( \"twitch2017.csv\", index=False, encoding='utf-8-sig')"
   ]
  },
  {
   "cell_type": "code",
   "execution_count": 6,
   "metadata": {},
   "outputs": [
    {
     "data": {
      "text/html": [
       "<div>\n",
       "<style scoped>\n",
       "    .dataframe tbody tr th:only-of-type {\n",
       "        vertical-align: middle;\n",
       "    }\n",
       "\n",
       "    .dataframe tbody tr th {\n",
       "        vertical-align: top;\n",
       "    }\n",
       "\n",
       "    .dataframe thead th {\n",
       "        text-align: right;\n",
       "    }\n",
       "</style>\n",
       "<table border=\"1\" class=\"dataframe\">\n",
       "  <thead>\n",
       "    <tr style=\"text-align: right;\">\n",
       "      <th></th>\n",
       "      <th>Average channels</th>\n",
       "      <th>Average viewer ratio</th>\n",
       "      <th>Average viewers</th>\n",
       "      <th>Game</th>\n",
       "      <th>Peak channels</th>\n",
       "      <th>Peak viewers</th>\n",
       "      <th>Stream time</th>\n",
       "      <th>Streamers</th>\n",
       "      <th>Unnamed: 0</th>\n",
       "      <th>Unnamed: 0.1</th>\n",
       "      <th>Unnamed: 1</th>\n",
       "      <th>Unnamed: 11</th>\n",
       "      <th>Watch time</th>\n",
       "    </tr>\n",
       "  </thead>\n",
       "  <tbody>\n",
       "    <tr>\n",
       "      <th>0</th>\n",
       "      <td>88</td>\n",
       "      <td>8.21</td>\n",
       "      <td>723</td>\n",
       "      <td>Fallout 4</td>\n",
       "      <td>205</td>\n",
       "      <td>15224</td>\n",
       "      <td>46317300</td>\n",
       "      <td>84832</td>\n",
       "      <td>Fallout 4</td>\n",
       "      <td>NaN</td>\n",
       "      <td>101</td>\n",
       "      <td>Fallout 4</td>\n",
       "      <td>380311440</td>\n",
       "    </tr>\n",
       "    <tr>\n",
       "      <th>1</th>\n",
       "      <td>44</td>\n",
       "      <td>15.61</td>\n",
       "      <td>688</td>\n",
       "      <td>Tom Clancy's Ghost Recon: Wildlands</td>\n",
       "      <td>1193</td>\n",
       "      <td>87165</td>\n",
       "      <td>23172060</td>\n",
       "      <td>77468</td>\n",
       "      <td>Tom Clancy's Ghost Recon: Wildlands</td>\n",
       "      <td>NaN</td>\n",
       "      <td>102</td>\n",
       "      <td>Tom Clancy's Ghost Recon: Wildlands</td>\n",
       "      <td>361714800</td>\n",
       "    </tr>\n",
       "    <tr>\n",
       "      <th>2</th>\n",
       "      <td>23</td>\n",
       "      <td>29.24</td>\n",
       "      <td>677</td>\n",
       "      <td>The Legend of Zelda: A Link to the Past</td>\n",
       "      <td>158</td>\n",
       "      <td>182559</td>\n",
       "      <td>12184980</td>\n",
       "      <td>6345</td>\n",
       "      <td>The Legend of Zelda: A Link to the Past</td>\n",
       "      <td>NaN</td>\n",
       "      <td>103</td>\n",
       "      <td>The Legend of Zelda: A Link to the Past</td>\n",
       "      <td>356250240</td>\n",
       "    </tr>\n",
       "    <tr>\n",
       "      <th>3</th>\n",
       "      <td>14</td>\n",
       "      <td>47.08</td>\n",
       "      <td>670</td>\n",
       "      <td>The Legend of Zelda: Ocarina of Time</td>\n",
       "      <td>84</td>\n",
       "      <td>8484</td>\n",
       "      <td>7480800</td>\n",
       "      <td>6484</td>\n",
       "      <td>The Legend of Zelda: Ocarina of Time</td>\n",
       "      <td>NaN</td>\n",
       "      <td>104</td>\n",
       "      <td>The Legend of Zelda: Ocarina of Time</td>\n",
       "      <td>352184880</td>\n",
       "    </tr>\n",
       "    <tr>\n",
       "      <th>4</th>\n",
       "      <td>5</td>\n",
       "      <td>124.04</td>\n",
       "      <td>668</td>\n",
       "      <td>They Are Billions</td>\n",
       "      <td>248</td>\n",
       "      <td>66322</td>\n",
       "      <td>2830380</td>\n",
       "      <td>260</td>\n",
       "      <td>They Are Billions</td>\n",
       "      <td>NaN</td>\n",
       "      <td>105</td>\n",
       "      <td>They Are Billions</td>\n",
       "      <td>351079920</td>\n",
       "    </tr>\n",
       "  </tbody>\n",
       "</table>\n",
       "</div>"
      ],
      "text/plain": [
       "   Average channels  Average viewer ratio  Average viewers  \\\n",
       "0                88                  8.21              723   \n",
       "1                44                 15.61              688   \n",
       "2                23                 29.24              677   \n",
       "3                14                 47.08              670   \n",
       "4                 5                124.04              668   \n",
       "\n",
       "                                      Game  Peak channels  Peak viewers  \\\n",
       "0                                Fallout 4            205         15224   \n",
       "1      Tom Clancy's Ghost Recon: Wildlands           1193         87165   \n",
       "2  The Legend of Zelda: A Link to the Past            158        182559   \n",
       "3     The Legend of Zelda: Ocarina of Time             84          8484   \n",
       "4                        They Are Billions            248         66322   \n",
       "\n",
       "   Stream time  Streamers                               Unnamed: 0  \\\n",
       "0     46317300      84832                                Fallout 4   \n",
       "1     23172060      77468      Tom Clancy's Ghost Recon: Wildlands   \n",
       "2     12184980       6345  The Legend of Zelda: A Link to the Past   \n",
       "3      7480800       6484     The Legend of Zelda: Ocarina of Time   \n",
       "4      2830380        260                        They Are Billions   \n",
       "\n",
       "  Unnamed: 0.1  Unnamed: 1                              Unnamed: 11  \\\n",
       "0          NaN         101                                Fallout 4   \n",
       "1          NaN         102      Tom Clancy's Ghost Recon: Wildlands   \n",
       "2          NaN         103  The Legend of Zelda: A Link to the Past   \n",
       "3          NaN         104     The Legend of Zelda: Ocarina of Time   \n",
       "4          NaN         105                        They Are Billions   \n",
       "\n",
       "   Watch time  \n",
       "0   380311440  \n",
       "1   361714800  \n",
       "2   356250240  \n",
       "3   352184880  \n",
       "4   351079920  "
      ]
     },
     "execution_count": 6,
     "metadata": {},
     "output_type": "execute_result"
    }
   ],
   "source": [
    "twitch_df_17 = pd.read_csv('twitch2017.csv')\n",
    "twitch_df_17.head()"
   ]
  },
  {
   "cell_type": "code",
   "execution_count": 7,
   "metadata": {},
   "outputs": [
    {
     "name": "stdout",
     "output_type": "stream",
     "text": [
      "<class 'pandas.core.frame.DataFrame'>\n",
      "RangeIndex: 43500 entries, 0 to 43499\n",
      "Data columns (total 13 columns):\n",
      "Average channels        43500 non-null int64\n",
      "Average viewer ratio    43500 non-null float64\n",
      "Average viewers         43500 non-null int64\n",
      "Game                    43500 non-null object\n",
      "Peak channels           43500 non-null int64\n",
      "Peak viewers            43500 non-null int64\n",
      "Stream time             43500 non-null int64\n",
      "Streamers               43500 non-null int64\n",
      "Unnamed: 0              43500 non-null object\n",
      "Unnamed: 0.1            29000 non-null object\n",
      "Unnamed: 1              43500 non-null int64\n",
      "Unnamed: 11             43500 non-null object\n",
      "Watch time              43500 non-null int64\n",
      "dtypes: float64(1), int64(8), object(4)\n",
      "memory usage: 4.3+ MB\n"
     ]
    }
   ],
   "source": [
    "twitch_df_17.info()"
   ]
  },
  {
   "cell_type": "code",
   "execution_count": null,
   "metadata": {},
   "outputs": [],
   "source": [
    "twitch_df_17.to_csv(\"twitch_2017.csv\")"
   ]
  }
 ],
 "metadata": {
  "kernelspec": {
   "display_name": "Python 3",
   "language": "python",
   "name": "python3"
  },
  "language_info": {
   "codemirror_mode": {
    "name": "ipython",
    "version": 3
   },
   "file_extension": ".py",
   "mimetype": "text/x-python",
   "name": "python",
   "nbconvert_exporter": "python",
   "pygments_lexer": "ipython3",
   "version": "3.7.3"
  }
 },
 "nbformat": 4,
 "nbformat_minor": 4
}
