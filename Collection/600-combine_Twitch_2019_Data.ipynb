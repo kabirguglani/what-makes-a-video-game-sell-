{
 "cells": [
  {
   "cell_type": "markdown",
   "metadata": {},
   "source": [
    "<b> Importing all the required packages</b>"
   ]
  },
  {
   "cell_type": "code",
   "execution_count": null,
   "metadata": {},
   "outputs": [],
   "source": [
    "import pandas as pd\n",
    "import glob\n",
    "import csv\n",
    "import os\n",
    "from os import chdir"
   ]
  },
  {
   "cell_type": "code",
   "execution_count": 2,
   "metadata": {},
   "outputs": [
    {
     "name": "stdout",
     "output_type": "stream",
     "text": [
      "Success!\n"
     ]
    }
   ],
   "source": [
    "if not os.path.exists(\"../data/raw/Twitch_2019/Twitch_2019/\"):\n",
    "    print(\"Missing dataset file\")\n",
    "    exisit=False\n",
    "else:\n",
    "    print(\"Success!\")\n",
    "    exists=True"
   ]
  },
  {
   "cell_type": "code",
   "execution_count": 3,
   "metadata": {},
   "outputs": [],
   "source": [
    "csv_file_path = '../data/raw/Twitch_2019/Twitch_2019/'\n",
    "chdir(csv_file_path)"
   ]
  },
  {
   "cell_type": "markdown",
   "metadata": {},
   "source": [
    "<b>To combine all the CSV files in the folder all together, I found a method online which I am going to use in the following notebook. This method is used by calling the \"glob\" library.</b>  "
   ]
  },
  {
   "cell_type": "code",
   "execution_count": 4,
   "metadata": {},
   "outputs": [],
   "source": [
    "extension = 'csv'\n",
    "all_filenames = [i for i in glob.glob('*.{}'.format(extension))]"
   ]
  },
  {
   "cell_type": "code",
   "execution_count": 5,
   "metadata": {},
   "outputs": [
    {
     "name": "stderr",
     "output_type": "stream",
     "text": [
      "C:\\Users\\Sean Harkin\\Anaconda3\\lib\\site-packages\\IPython\\core\\interactiveshell.py:3248: DtypeWarning: Columns (8,9,10) have mixed types. Specify dtype option on import or set low_memory=False.\n",
      "  if (await self.run_code(code, result,  async_=asy)):\n",
      "C:\\Users\\Sean Harkin\\Anaconda3\\lib\\site-packages\\IPython\\core\\interactiveshell.py:3248: DtypeWarning: Columns (9,10,11) have mixed types. Specify dtype option on import or set low_memory=False.\n",
      "  if (await self.run_code(code, result,  async_=asy)):\n",
      "C:\\Users\\Sean Harkin\\Anaconda3\\lib\\site-packages\\ipykernel_launcher.py:1: FutureWarning: Sorting because non-concatenation axis is not aligned. A future version\n",
      "of pandas will change to not sort by default.\n",
      "\n",
      "To accept the future behavior, pass 'sort=False'.\n",
      "\n",
      "To retain the current behavior and silence the warning, pass 'sort=True'.\n",
      "\n",
      "  \"\"\"Entry point for launching an IPython kernel.\n"
     ]
    }
   ],
   "source": [
    "combined_csv = pd.concat([pd.read_csv(f) for f in all_filenames ])\n",
    "#export to csv\n",
    "combined_csv.to_csv( \"twitch2019.csv\", index=False, encoding='utf-8-sig')"
   ]
  },
  {
   "cell_type": "code",
   "execution_count": 7,
   "metadata": {},
   "outputs": [
    {
     "data": {
      "text/html": [
       "<div>\n",
       "<style scoped>\n",
       "    .dataframe tbody tr th:only-of-type {\n",
       "        vertical-align: middle;\n",
       "    }\n",
       "\n",
       "    .dataframe tbody tr th {\n",
       "        vertical-align: top;\n",
       "    }\n",
       "\n",
       "    .dataframe thead th {\n",
       "        text-align: right;\n",
       "    }\n",
       "</style>\n",
       "<table border=\"1\" class=\"dataframe\">\n",
       "  <thead>\n",
       "    <tr style=\"text-align: right;\">\n",
       "      <th></th>\n",
       "      <th>Average channels</th>\n",
       "      <th>Average viewer ratio</th>\n",
       "      <th>Average viewers</th>\n",
       "      <th>Game</th>\n",
       "      <th>Peak channels</th>\n",
       "      <th>Peak viewers</th>\n",
       "      <th>Stream time</th>\n",
       "      <th>Streamers</th>\n",
       "      <th>Unnamed: 0</th>\n",
       "      <th>Unnamed: 0.1</th>\n",
       "      <th>Unnamed: 0.1.1</th>\n",
       "      <th>Unnamed: 0.1.1.1</th>\n",
       "      <th>Unnamed: 1</th>\n",
       "      <th>Unnamed: 11</th>\n",
       "      <th>Watch time</th>\n",
       "    </tr>\n",
       "  </thead>\n",
       "  <tbody>\n",
       "    <tr>\n",
       "      <th>0</th>\n",
       "      <td>13</td>\n",
       "      <td>78.59</td>\n",
       "      <td>1070</td>\n",
       "      <td>They Are Billions</td>\n",
       "      <td>156</td>\n",
       "      <td>48479</td>\n",
       "      <td>7158180</td>\n",
       "      <td>8582</td>\n",
       "      <td>They Are Billions</td>\n",
       "      <td>NaN</td>\n",
       "      <td>NaN</td>\n",
       "      <td>NaN</td>\n",
       "      <td>101</td>\n",
       "      <td>They Are Billions</td>\n",
       "      <td>562559940</td>\n",
       "    </tr>\n",
       "    <tr>\n",
       "      <th>1</th>\n",
       "      <td>75</td>\n",
       "      <td>14.03</td>\n",
       "      <td>1061</td>\n",
       "      <td>The Witcher 3: Wild Hunt</td>\n",
       "      <td>587</td>\n",
       "      <td>31898</td>\n",
       "      <td>39764640</td>\n",
       "      <td>72668</td>\n",
       "      <td>The Witcher 3: Wild Hunt</td>\n",
       "      <td>NaN</td>\n",
       "      <td>NaN</td>\n",
       "      <td>NaN</td>\n",
       "      <td>102</td>\n",
       "      <td>The Witcher 3: Wild Hunt</td>\n",
       "      <td>557882880</td>\n",
       "    </tr>\n",
       "    <tr>\n",
       "      <th>2</th>\n",
       "      <td>23</td>\n",
       "      <td>44.23</td>\n",
       "      <td>1055</td>\n",
       "      <td>Slay the Spire</td>\n",
       "      <td>105</td>\n",
       "      <td>26142</td>\n",
       "      <td>12541980</td>\n",
       "      <td>26091</td>\n",
       "      <td>Slay the Spire</td>\n",
       "      <td>NaN</td>\n",
       "      <td>NaN</td>\n",
       "      <td>NaN</td>\n",
       "      <td>103</td>\n",
       "      <td>Slay the Spire</td>\n",
       "      <td>554713320</td>\n",
       "    </tr>\n",
       "    <tr>\n",
       "      <th>3</th>\n",
       "      <td>50</td>\n",
       "      <td>20.65</td>\n",
       "      <td>1046</td>\n",
       "      <td>Kingdom Hearts III</td>\n",
       "      <td>3855</td>\n",
       "      <td>127041</td>\n",
       "      <td>26626080</td>\n",
       "      <td>34095</td>\n",
       "      <td>Kingdom Hearts III</td>\n",
       "      <td>NaN</td>\n",
       "      <td>NaN</td>\n",
       "      <td>NaN</td>\n",
       "      <td>104</td>\n",
       "      <td>Kingdom Hearts III</td>\n",
       "      <td>549841440</td>\n",
       "    </tr>\n",
       "    <tr>\n",
       "      <th>4</th>\n",
       "      <td>64</td>\n",
       "      <td>16.09</td>\n",
       "      <td>1034</td>\n",
       "      <td>Halo: The Master Chief Collection</td>\n",
       "      <td>3441</td>\n",
       "      <td>136672</td>\n",
       "      <td>33798420</td>\n",
       "      <td>66075</td>\n",
       "      <td>Halo: The Master Chief Collection</td>\n",
       "      <td>NaN</td>\n",
       "      <td>NaN</td>\n",
       "      <td>NaN</td>\n",
       "      <td>105</td>\n",
       "      <td>Halo: The Master Chief Collection</td>\n",
       "      <td>543847560</td>\n",
       "    </tr>\n",
       "  </tbody>\n",
       "</table>\n",
       "</div>"
      ],
      "text/plain": [
       "   Average channels  Average viewer ratio  Average viewers  \\\n",
       "0                13                 78.59             1070   \n",
       "1                75                 14.03             1061   \n",
       "2                23                 44.23             1055   \n",
       "3                50                 20.65             1046   \n",
       "4                64                 16.09             1034   \n",
       "\n",
       "                                Game  Peak channels  Peak viewers  \\\n",
       "0                  They Are Billions            156         48479   \n",
       "1           The Witcher 3: Wild Hunt            587         31898   \n",
       "2                     Slay the Spire            105         26142   \n",
       "3                 Kingdom Hearts III           3855        127041   \n",
       "4  Halo: The Master Chief Collection           3441        136672   \n",
       "\n",
       "   Stream time  Streamers                         Unnamed: 0 Unnamed: 0.1  \\\n",
       "0      7158180       8582                  They Are Billions          NaN   \n",
       "1     39764640      72668           The Witcher 3: Wild Hunt          NaN   \n",
       "2     12541980      26091                     Slay the Spire          NaN   \n",
       "3     26626080      34095                 Kingdom Hearts III          NaN   \n",
       "4     33798420      66075  Halo: The Master Chief Collection          NaN   \n",
       "\n",
       "  Unnamed: 0.1.1 Unnamed: 0.1.1.1  Unnamed: 1  \\\n",
       "0            NaN              NaN         101   \n",
       "1            NaN              NaN         102   \n",
       "2            NaN              NaN         103   \n",
       "3            NaN              NaN         104   \n",
       "4            NaN              NaN         105   \n",
       "\n",
       "                         Unnamed: 11  Watch time  \n",
       "0                  They Are Billions   562559940  \n",
       "1           The Witcher 3: Wild Hunt   557882880  \n",
       "2                     Slay the Spire   554713320  \n",
       "3                 Kingdom Hearts III   549841440  \n",
       "4  Halo: The Master Chief Collection   543847560  "
      ]
     },
     "execution_count": 7,
     "metadata": {},
     "output_type": "execute_result"
    }
   ],
   "source": [
    "twitch_df_19 = pd.read_csv('twitch2019.csv')\n",
    "twitch_df_19.head()"
   ]
  },
  {
   "cell_type": "code",
   "execution_count": 8,
   "metadata": {},
   "outputs": [
    {
     "name": "stdout",
     "output_type": "stream",
     "text": [
      "<class 'pandas.core.frame.DataFrame'>\n",
      "RangeIndex: 594500 entries, 0 to 594499\n",
      "Data columns (total 15 columns):\n",
      "Average channels        594500 non-null int64\n",
      "Average viewer ratio    594500 non-null float64\n",
      "Average viewers         594500 non-null int64\n",
      "Game                    594459 non-null object\n",
      "Peak channels           594500 non-null int64\n",
      "Peak viewers            594500 non-null int64\n",
      "Stream time             594500 non-null int64\n",
      "Streamers               594500 non-null int64\n",
      "Unnamed: 0              594495 non-null object\n",
      "Unnamed: 0.1            521988 non-null object\n",
      "Unnamed: 0.1.1          347984 non-null object\n",
      "Unnamed: 0.1.1.1        115992 non-null object\n",
      "Unnamed: 1              594500 non-null int64\n",
      "Unnamed: 11             594459 non-null object\n",
      "Watch time              594500 non-null int64\n",
      "dtypes: float64(1), int64(8), object(6)\n",
      "memory usage: 68.0+ MB\n"
     ]
    }
   ],
   "source": [
    "twitch_df_19.info()"
   ]
  },
  {
   "cell_type": "code",
   "execution_count": 9,
   "metadata": {},
   "outputs": [],
   "source": [
    "twitch_df_19.to_csv(\"twitch_2019.csv\")"
   ]
  },
  {
   "cell_type": "code",
   "execution_count": null,
   "metadata": {},
   "outputs": [],
   "source": []
  },
  {
   "cell_type": "code",
   "execution_count": null,
   "metadata": {},
   "outputs": [],
   "source": []
  }
 ],
 "metadata": {
  "kernelspec": {
   "display_name": "Python 3",
   "language": "python",
   "name": "python3"
  },
  "language_info": {
   "codemirror_mode": {
    "name": "ipython",
    "version": 3
   },
   "file_extension": ".py",
   "mimetype": "text/x-python",
   "name": "python",
   "nbconvert_exporter": "python",
   "pygments_lexer": "ipython3",
   "version": "3.7.3"
  }
 },
 "nbformat": 4,
 "nbformat_minor": 4
}
