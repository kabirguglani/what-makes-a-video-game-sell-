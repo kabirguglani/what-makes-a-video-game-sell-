{
 "cells": [
  {
   "cell_type": "markdown",
   "metadata": {},
   "source": [
    "## **Purpose**\n",
    " In this notebook we will scrape video game data from the MetaCritic website (https://www.metacritic.com/)\n",
    "* We will collect the following information:\n",
    "    * Game name\n",
    "    * Developer name\n",
    "    * Critic score\n",
    "    * Number of critic that rated the game\n",
    "    * User score\n",
    "    * Number of users that rated the game\n",
    "    * The games ESRB rating\n",
    "    * Whether the game in multiplayer of not\n",
    "    * Genre of the game\n",
    "\n"
   ]
  },
  {
   "cell_type": "code",
   "execution_count": 2,
   "metadata": {},
   "outputs": [],
   "source": [
    "from bs4 import BeautifulSoup\n",
    "import requests\n",
    "import pandas as pd\n",
    "import numpy as np\n",
    "import csv\n",
    "import os"
   ]
  },
  {
   "cell_type": "markdown",
   "metadata": {},
   "source": [
    "Load in csv file we created in the notebook (\"100-Collecting_VGChartz.ipynb\")"
   ]
  },
  {
   "cell_type": "code",
   "execution_count": 3,
   "metadata": {},
   "outputs": [],
   "source": [
    "vg_df= pd.read_csv(\"../data/prep/100-Collecting_VGChartz.csv\", low_memory = False)"
   ]
  },
  {
   "cell_type": "code",
   "execution_count": 4,
   "metadata": {},
   "outputs": [],
   "source": [
    "meta_full_url_list=vg_df.meta_url.tolist()"
   ]
  },
  {
   "cell_type": "markdown",
   "metadata": {},
   "source": [
    "To prevent scraping data that we already collected I will read in the csv file. I will check it the metaCritic url is already in the csv file. If that url is already in the csv file then it means that we have already collected the data associated with that url and there is no need to collect it again. If the url is not in the csv file then it will be passed into the scraper and we will collect the data for that url.\n",
    "\n",
    "Check if the csv file already exists"
   ]
  },
  {
   "cell_type": "code",
   "execution_count": 5,
   "metadata": {},
   "outputs": [
    {
     "name": "stdout",
     "output_type": "stream",
     "text": [
      "Success!\n"
     ]
    }
   ],
   "source": [
    "if not os.path.exists(\"../data/raw/Original_MetaCritic.csv\"):\n",
    "    print(\"Missing dataset file\")\n",
    "    exisit=False\n",
    "else:\n",
    "    print(\"Success!\")\n",
    "    exists=True"
   ]
  },
  {
   "cell_type": "markdown",
   "metadata": {},
   "source": [
    "If the file doesnt already exist then create it."
   ]
  },
  {
   "cell_type": "code",
   "execution_count": 25,
   "metadata": {},
   "outputs": [],
   "source": [
    "if exists==False:\n",
    "    with open('../data/raw/Original_MetaCritic.csv', 'w', newline='') as file:\n",
    "        writer = csv.writer(file)\n",
    "        writer.writerow(['','meta_game_name','meta_developer','meta_critic_score','meta_critic_count','meta_user_score','meta_user_count','meta_esrb','meta_genre','meta_multiplayer','meta_full_url'])"
   ]
  },
  {
   "cell_type": "markdown",
   "metadata": {},
   "source": [
    "This function checks if a value (url) is in a dataframe. I will convert the csv file to a dataframe and this function will check if a certain url is in that dataframe hence, checking if the url is in the csv file"
   ]
  },
  {
   "cell_type": "code",
   "execution_count": 6,
   "metadata": {},
   "outputs": [
    {
     "name": "stdout",
     "output_type": "stream",
     "text": [
      "We have already collected: 8115\n"
     ]
    }
   ],
   "source": [
    "df= pd.read_csv(\"../data/raw/Original_MetaCritic.csv\", low_memory = False)\n",
    "obtained_meta_full_url_list=df.meta_full_url.tolist()\n",
    "print('We have already collected: ' + str(len(obtained_meta_full_url_list)))"
   ]
  },
  {
   "cell_type": "code",
   "execution_count": 7,
   "metadata": {},
   "outputs": [],
   "source": [
    "get_meta_full_url_list= [x for x in meta_full_url_list if x not in obtained_meta_full_url_list]"
   ]
  },
  {
   "cell_type": "code",
   "execution_count": 8,
   "metadata": {},
   "outputs": [
    {
     "data": {
      "text/plain": [
       "10217"
      ]
     },
     "execution_count": 8,
     "metadata": {},
     "output_type": "execute_result"
    }
   ],
   "source": [
    "len(get_meta_full_url_list)"
   ]
  },
  {
   "cell_type": "code",
   "execution_count": 19,
   "metadata": {},
   "outputs": [
    {
     "data": {
      "text/plain": [
       "['https://www.metacritic.com/game/playstation-3/grand-theft-auto-v']"
      ]
     },
     "execution_count": 19,
     "metadata": {},
     "output_type": "execute_result"
    }
   ],
   "source": [
    "get_meta_full_url_list[:1]"
   ]
  },
  {
   "cell_type": "markdown",
   "metadata": {},
   "source": [
    "I will now scrape the necessary data from MetaCritic."
   ]
  },
  {
   "cell_type": "code",
   "execution_count": 25,
   "metadata": {},
   "outputs": [
    {
     "name": "stdout",
     "output_type": "stream",
     "text": [
      "https://www.metacritic.com/game/xbox-one/middle-earth-shadow-of-mordor\n",
      "0\n",
      "https://www.metacritic.com/game/playstation-2/yu-gi-oh-the-duelists-of-the-roses\n",
      "0\n",
      "https://www.metacritic.com/game/gamecube/lego-star-wars-the-video-game\n",
      "1\n",
      "https://www.metacritic.com/game/psp/lego-star-wars-ii-the-original-trilogy\n",
      "2\n",
      "https://www.metacritic.com/game/xbox/spider-man-the-movie\n",
      "2\n",
      "https://www.metacritic.com/game/wii/toy-story-3-the-video-game\n",
      "2\n",
      "https://www.metacritic.com/game/wii/hannah-montana-spotlight-world-tour\n",
      "3\n",
      "https://www.metacritic.com/game/ds/bakugan-battle-brawlers\n",
      "3\n",
      "https://www.metacritic.com/game/xbox/true-crime-streets-of-la\n",
      "3\n",
      "https://www.metacritic.com/game/playstation-3/dead-rising-2\n",
      "3\n",
      "https://www.metacritic.com/game/wii/metroid-other-m\n",
      "3\n",
      "https://www.metacritic.com/game/xbox-one/watch-dogs-2\n",
      "3\n",
      "https://www.metacritic.com/game/xbox-360/devil-may-cry-4\n",
      "3\n",
      "https://www.metacritic.com/game/playstation-3/saints-row-iv\n",
      "3\n",
      "https://www.metacritic.com/game/xbox-360/alan-wake\n",
      "3\n",
      "https://www.metacritic.com/game/playstation/fighting-force\n",
      "3\n",
      "https://www.metacritic.com/game/xbox-360/prototype\n",
      "4\n",
      "https://www.metacritic.com/game/playstation-3/assassins-creed-rogue\n",
      "4\n",
      "https://www.metacritic.com/game/playstation/army-men-3d\n",
      "4\n",
      "https://www.metacritic.com/game/playstation-2/manhunt\n",
      "5\n",
      "https://www.metacritic.com/game/playstation-2/silent-hill-2\n",
      "5\n",
      "https://www.metacritic.com/game/playstation-2/jet-li-rise-to-honor\n",
      "5\n",
      "https://www.metacritic.com/game/wii/lego-harry-potter-years-5-7\n",
      "6\n",
      "https://www.metacritic.com/game/psp/assassins-creed-bloodlines\n",
      "6\n",
      "https://www.metacritic.com/game/playstation-2/star-wars-the-force-unleashed\n",
      "6\n",
      "https://www.metacritic.com/game/playstation-2/lara-croft-tomb-raider-the-angel-of-darkness\n",
      "6\n",
      "https://www.metacritic.com/game/playstation-2/tom-clancys-splinter-cell-pandora-tomorrow\n",
      "6\n",
      "https://www.metacritic.com/game/playstation-3/prototype\n",
      "6\n",
      "https://www.metacritic.com/game/xbox/star-wars-episode-iii-revenge-of-the-sith\n",
      "6\n",
      "https://www.metacritic.com/game/ds/transformers-autobots-decepticons\n",
      "6\n",
      "metacritic count = 23\n",
      "metacricic fails = 7\n"
     ]
    }
   ],
   "source": [
    "headers = {'User-Agent': 'Mozilla/5.0 (Windows NT 10.0; Win64; x64) AppleWebKit/537.36 (KHTML, like Gecko) Chrome/72.0.3626.121 Safari/537.36'}\n",
    "meta_game_name=[]\n",
    "meta_developer=[]\n",
    "meta_user_score=[]\n",
    "meta_user_count=[]\n",
    "meta_critic_score=[]\n",
    "meta_critic_count=[]\n",
    "meta_esrb=[]\n",
    "meta_full_url=[]\n",
    "meta_genre=[]\n",
    "meta_error_url=[]\n",
    "meta_multiplayer=[]\n",
    "data = []\n",
    "count=0\n",
    "fails=0\n",
    "for url in get_meta_full_url_list:\n",
    "    print(url)\n",
    "    r = requests.get(url, headers=headers)\n",
    "    r = r.text\n",
    "    soup = BeautifulSoup(r,'html.parser')\n",
    "    multiplayer_data='no'\n",
    "    print(fails)\n",
    "    try:\n",
    "        title=soup.find('div',class_='product_title')\n",
    "        title_a_tag=title.find('a')\n",
    "        title_data=title_a_tag.text.strip()\n",
    "      \n",
    "        user_score_div_tag=soup.find('div',class_=\"userscore_wrap feature_userscore\")\n",
    "        user_score=user_score_div_tag.find('a')\n",
    "        user_score_data=user_score.text.strip()\n",
    "    \n",
    "        \n",
    "        user_count_div_tag=soup.find('div',class_=\"userscore_wrap feature_userscore\")\n",
    "        user_count_d_tag= user_count_div_tag.find('div',class_='summary')\n",
    "        user_count=user_count_d_tag.find('a')\n",
    "        user_count_data=user_count.text.replace('Ratings','')\n",
    "        user_count_data= user_count_data.strip()\n",
    "        \n",
    "        try:\n",
    "            developer_li=soup.find(\"li\",class_=\"summary_detail developer\")\n",
    "            developer=developer_li.find('span',class_='data')\n",
    "            developer_data=developer.text.strip()\n",
    "            \n",
    "        except:\n",
    "            developer_data=np.nan\n",
    "            \n",
    "        try:\n",
    "            rating_li=soup.find(\"li\",class_=\"summary_detail product_rating\")\n",
    "            rating=rating_li.find('span',class_='data')\n",
    "            rating_data=rating.text.strip()\n",
    "            \n",
    "        except:\n",
    "            rating_data=np.nan\n",
    "                   \n",
    "        try:\n",
    "            genre_li=soup.find('li',class_=\"summary_detail product_genre\")\n",
    "            genre=genre_li.find('span',class_='data')\n",
    "            genre_data=genre.text.strip()\n",
    "           \n",
    "        except:\n",
    "            genre_data=np.nan\n",
    "       \n",
    "        try:\n",
    "            player_li=soup.find('li',class_=\"summary_detail product_players\")\n",
    "            number=player_li.find('span',class_='data')        \n",
    "            if ('1 Player' not in number)&('No Online Multiplayer' not in number):\n",
    "                multiplayer_data='yes'\n",
    "        except:\n",
    "            multiplayer_data=np.nan\n",
    "            \n",
    "        try:\n",
    "            critic_score_a_tag = soup.find('a',class_=\"metascore_anchor\")\n",
    "            critic_score=critic_score_a_tag.find('span')\n",
    "            critic_score_data=critic_score.text.strip()\n",
    "        except:\n",
    "            crtic_score_data=np.nan\n",
    "            \n",
    "        try:\n",
    "            critic_count_a_tag = soup.find('a',class_=\"metascore_anchor\")\n",
    "            critic_count_div_tag=soup.find('div',class_=\"summary\")\n",
    "            critic_count=critic_count_div_tag.find('a')\n",
    "            critic_count_data=critic_count.text.replace('Critic Reviews','')\n",
    "            critic_count_data= critic_count_data.strip()\n",
    "        except:\n",
    "            critic_count_data=np.nan\n",
    "        \n",
    "            \n",
    "        \n",
    "        meta_game_name.append(title_data)\n",
    "        meta_developer.append(developer_data)\n",
    "        meta_critic_score.append(critic_score_data)\n",
    "        meta_critic_count.append(critic_count_data)\n",
    "        meta_user_score.append(user_score_data)\n",
    "        meta_user_count.append(user_count_data)\n",
    "        meta_esrb.append(rating_data)\n",
    "        meta_genre.append(genre_data)\n",
    "        meta_full_url.append(url)\n",
    "        meta_multiplayer.append(multiplayer_data)\n",
    "        get_meta_full_url_list.remove(url)\n",
    "        count+=1\n",
    "    except:\n",
    "        get_meta_full_url_list.remove(url)\n",
    "        fails+=1\n",
    "\n",
    "print('metacritic count = '+str(count))\n",
    "print('metacricic fails = '+str(fails))\n",
    "\n",
    "meta_columns ={'meta_game_name':meta_game_name,\n",
    "          'meta_developer':meta_developer,\n",
    "          'meta_critic_score':meta_critic_score,\n",
    "          'meta_critic_count':meta_critic_count,\n",
    "          'meta_user_score':meta_user_score,\n",
    "          'meta_user_count':meta_user_count,\n",
    "          'meta_esrb':meta_esrb,\n",
    "          'meta_genre':meta_genre,\n",
    "          'meta_multiplayer':meta_multiplayer,\n",
    "          'meta_full_url':meta_full_url}\n",
    "\n",
    "\n",
    "meta_df = pd.DataFrame(meta_columns)\n",
    "meta_df = meta_df[['meta_game_name','meta_developer','meta_critic_score','meta_critic_count','meta_user_score','meta_user_count','meta_esrb','meta_genre','meta_multiplayer','meta_full_url']]\n",
    "del meta_df.index.name\n",
    "meta_df.to_csv(\"../data/raw/Original_MetaCritic.csv\",sep=\",\",encoding='utf-8', mode='a', header=False)"
   ]
  },
  {
   "cell_type": "code",
   "execution_count": null,
   "metadata": {},
   "outputs": [],
   "source": []
  }
 ],
 "metadata": {
  "kernelspec": {
   "display_name": "Python 3",
   "language": "python",
   "name": "python3"
  },
  "language_info": {
   "codemirror_mode": {
    "name": "ipython",
    "version": 3
   },
   "file_extension": ".py",
   "mimetype": "text/x-python",
   "name": "python",
   "nbconvert_exporter": "python",
   "pygments_lexer": "ipython3",
   "version": "3.7.3"
  }
 },
 "nbformat": 4,
 "nbformat_minor": 4
}
