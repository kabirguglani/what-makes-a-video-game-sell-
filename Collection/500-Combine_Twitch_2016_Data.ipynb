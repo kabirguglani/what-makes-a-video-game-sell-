{
 "cells": [
  {
   "cell_type": "code",
   "execution_count": 1,
   "metadata": {},
   "outputs": [],
   "source": [
    "import pandas as pd\n",
    "import glob\n",
    "import csv\n",
    "import os\n",
    "from os import chdir"
   ]
  },
  {
   "cell_type": "code",
   "execution_count": 2,
   "metadata": {},
   "outputs": [
    {
     "name": "stdout",
     "output_type": "stream",
     "text": [
      "Success!\n"
     ]
    }
   ],
   "source": [
    "if not os.path.exists(\"../data/raw/Twitch_2016/Twitch_2016/\"):\n",
    "    print(\"Missing dataset file\")\n",
    "    exisit=False\n",
    "else:\n",
    "    print(\"Success!\")\n",
    "    exists=True"
   ]
  },
  {
   "cell_type": "code",
   "execution_count": 3,
   "metadata": {},
   "outputs": [],
   "source": [
    "csv_file_path = '../data/raw/Twitch_2016/Twitch_2016/'\n",
    "chdir(csv_file_path)"
   ]
  },
  {
   "cell_type": "code",
   "execution_count": 4,
   "metadata": {},
   "outputs": [],
   "source": [
    "extension = 'csv'\n",
    "all_filenames = [i for i in glob.glob('*.{}'.format(extension))]"
   ]
  },
  {
   "cell_type": "code",
   "execution_count": 5,
   "metadata": {},
   "outputs": [
    {
     "name": "stderr",
     "output_type": "stream",
     "text": [
      "C:\\Users\\Sean Harkin\\Anaconda3\\lib\\site-packages\\ipykernel_launcher.py:1: FutureWarning: Sorting because non-concatenation axis is not aligned. A future version\n",
      "of pandas will change to not sort by default.\n",
      "\n",
      "To accept the future behavior, pass 'sort=False'.\n",
      "\n",
      "To retain the current behavior and silence the warning, pass 'sort=True'.\n",
      "\n",
      "  \"\"\"Entry point for launching an IPython kernel.\n"
     ]
    }
   ],
   "source": [
    "combined_csv = pd.concat([pd.read_csv(f) for f in all_filenames ])\n",
    "#export to csv\n",
    "combined_csv.to_csv( \"twitch2016.csv\", index=False, encoding='utf-8-sig')"
   ]
  },
  {
   "cell_type": "code",
   "execution_count": 6,
   "metadata": {},
   "outputs": [
    {
     "data": {
      "text/html": [
       "<div>\n",
       "<style scoped>\n",
       "    .dataframe tbody tr th:only-of-type {\n",
       "        vertical-align: middle;\n",
       "    }\n",
       "\n",
       "    .dataframe tbody tr th {\n",
       "        vertical-align: top;\n",
       "    }\n",
       "\n",
       "    .dataframe thead th {\n",
       "        text-align: right;\n",
       "    }\n",
       "</style>\n",
       "<table border=\"1\" class=\"dataframe\">\n",
       "  <thead>\n",
       "    <tr style=\"text-align: right;\">\n",
       "      <th></th>\n",
       "      <th>Average channels</th>\n",
       "      <th>Average viewer ratio</th>\n",
       "      <th>Average viewers</th>\n",
       "      <th>Game</th>\n",
       "      <th>Peak channels</th>\n",
       "      <th>Peak viewers</th>\n",
       "      <th>Stream time</th>\n",
       "      <th>Streamers</th>\n",
       "      <th>Unnamed: 0</th>\n",
       "      <th>Unnamed: 0.1</th>\n",
       "      <th>Unnamed: 1</th>\n",
       "      <th>Unnamed: 11</th>\n",
       "      <th>Watch time</th>\n",
       "    </tr>\n",
       "  </thead>\n",
       "  <tbody>\n",
       "    <tr>\n",
       "      <th>0</th>\n",
       "      <td>14</td>\n",
       "      <td>30.55</td>\n",
       "      <td>437</td>\n",
       "      <td>Sid Meier's Civilization V</td>\n",
       "      <td>54</td>\n",
       "      <td>22764</td>\n",
       "      <td>7540020</td>\n",
       "      <td>17212</td>\n",
       "      <td>Sid Meier's Civilization V</td>\n",
       "      <td>NaN</td>\n",
       "      <td>101</td>\n",
       "      <td>Sid Meier's Civilization V</td>\n",
       "      <td>230325420</td>\n",
       "    </tr>\n",
       "    <tr>\n",
       "      <th>1</th>\n",
       "      <td>18</td>\n",
       "      <td>23.54</td>\n",
       "      <td>432</td>\n",
       "      <td>American Truck Simulator</td>\n",
       "      <td>363</td>\n",
       "      <td>47163</td>\n",
       "      <td>9681600</td>\n",
       "      <td>15447</td>\n",
       "      <td>American Truck Simulator</td>\n",
       "      <td>NaN</td>\n",
       "      <td>102</td>\n",
       "      <td>American Truck Simulator</td>\n",
       "      <td>227861940</td>\n",
       "    </tr>\n",
       "    <tr>\n",
       "      <th>2</th>\n",
       "      <td>29</td>\n",
       "      <td>14.70</td>\n",
       "      <td>427</td>\n",
       "      <td>Guild Wars 2</td>\n",
       "      <td>84</td>\n",
       "      <td>6577</td>\n",
       "      <td>15305280</td>\n",
       "      <td>16494</td>\n",
       "      <td>Guild Wars 2</td>\n",
       "      <td>NaN</td>\n",
       "      <td>103</td>\n",
       "      <td>Guild Wars 2</td>\n",
       "      <td>225037680</td>\n",
       "    </tr>\n",
       "    <tr>\n",
       "      <th>3</th>\n",
       "      <td>10</td>\n",
       "      <td>38.96</td>\n",
       "      <td>425</td>\n",
       "      <td>Subnautica</td>\n",
       "      <td>63</td>\n",
       "      <td>32141</td>\n",
       "      <td>5750340</td>\n",
       "      <td>14986</td>\n",
       "      <td>Subnautica</td>\n",
       "      <td>NaN</td>\n",
       "      <td>104</td>\n",
       "      <td>Subnautica</td>\n",
       "      <td>224039700</td>\n",
       "    </tr>\n",
       "    <tr>\n",
       "      <th>4</th>\n",
       "      <td>6</td>\n",
       "      <td>63.93</td>\n",
       "      <td>421</td>\n",
       "      <td>Watch Dogs 2</td>\n",
       "      <td>220</td>\n",
       "      <td>60009</td>\n",
       "      <td>3471900</td>\n",
       "      <td>23817</td>\n",
       "      <td>Watch Dogs 2</td>\n",
       "      <td>NaN</td>\n",
       "      <td>105</td>\n",
       "      <td>Watch Dogs 2</td>\n",
       "      <td>221952420</td>\n",
       "    </tr>\n",
       "  </tbody>\n",
       "</table>\n",
       "</div>"
      ],
      "text/plain": [
       "   Average channels  Average viewer ratio  Average viewers  \\\n",
       "0                14                 30.55              437   \n",
       "1                18                 23.54              432   \n",
       "2                29                 14.70              427   \n",
       "3                10                 38.96              425   \n",
       "4                 6                 63.93              421   \n",
       "\n",
       "                         Game  Peak channels  Peak viewers  Stream time  \\\n",
       "0  Sid Meier's Civilization V             54         22764      7540020   \n",
       "1    American Truck Simulator            363         47163      9681600   \n",
       "2                Guild Wars 2             84          6577     15305280   \n",
       "3                  Subnautica             63         32141      5750340   \n",
       "4                Watch Dogs 2            220         60009      3471900   \n",
       "\n",
       "   Streamers                  Unnamed: 0 Unnamed: 0.1  Unnamed: 1  \\\n",
       "0      17212  Sid Meier's Civilization V          NaN         101   \n",
       "1      15447    American Truck Simulator          NaN         102   \n",
       "2      16494                Guild Wars 2          NaN         103   \n",
       "3      14986                  Subnautica          NaN         104   \n",
       "4      23817                Watch Dogs 2          NaN         105   \n",
       "\n",
       "                  Unnamed: 11  Watch time  \n",
       "0  Sid Meier's Civilization V   230325420  \n",
       "1    American Truck Simulator   227861940  \n",
       "2                Guild Wars 2   225037680  \n",
       "3                  Subnautica   224039700  \n",
       "4                Watch Dogs 2   221952420  "
      ]
     },
     "execution_count": 6,
     "metadata": {},
     "output_type": "execute_result"
    }
   ],
   "source": [
    "twitch_df_16 = pd.read_csv('twitch2016.csv')\n",
    "twitch_df_16.head()"
   ]
  },
  {
   "cell_type": "code",
   "execution_count": 7,
   "metadata": {},
   "outputs": [
    {
     "name": "stdout",
     "output_type": "stream",
     "text": [
      "<class 'pandas.core.frame.DataFrame'>\n",
      "RangeIndex: 43500 entries, 0 to 43499\n",
      "Data columns (total 13 columns):\n",
      "Average channels        43500 non-null int64\n",
      "Average viewer ratio    43500 non-null float64\n",
      "Average viewers         43500 non-null int64\n",
      "Game                    43500 non-null object\n",
      "Peak channels           43500 non-null int64\n",
      "Peak viewers            43500 non-null int64\n",
      "Stream time             43500 non-null int64\n",
      "Streamers               43500 non-null int64\n",
      "Unnamed: 0              43500 non-null object\n",
      "Unnamed: 0.1            29000 non-null object\n",
      "Unnamed: 1              43500 non-null int64\n",
      "Unnamed: 11             43500 non-null object\n",
      "Watch time              43500 non-null int64\n",
      "dtypes: float64(1), int64(8), object(4)\n",
      "memory usage: 4.3+ MB\n"
     ]
    }
   ],
   "source": [
    "twitch_df_16.info()"
   ]
  },
  {
   "cell_type": "code",
   "execution_count": 8,
   "metadata": {},
   "outputs": [],
   "source": [
    "twitch_df_16.to_csv(\"twitch_2016.csv\")"
   ]
  },
  {
   "cell_type": "code",
   "execution_count": null,
   "metadata": {},
   "outputs": [],
   "source": []
  }
 ],
 "metadata": {
  "kernelspec": {
   "display_name": "Python 3",
   "language": "python",
   "name": "python3"
  },
  "language_info": {
   "codemirror_mode": {
    "name": "ipython",
    "version": 3
   },
   "file_extension": ".py",
   "mimetype": "text/x-python",
   "name": "python",
   "nbconvert_exporter": "python",
   "pygments_lexer": "ipython3",
   "version": "3.7.3"
  }
 },
 "nbformat": 4,
 "nbformat_minor": 4
}
