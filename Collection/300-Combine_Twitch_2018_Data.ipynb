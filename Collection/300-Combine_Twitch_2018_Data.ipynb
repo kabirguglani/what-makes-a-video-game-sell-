{
 "cells": [
  {
   "cell_type": "code",
   "execution_count": 1,
   "metadata": {},
   "outputs": [],
   "source": [
    "import pandas as pd\n",
    "import glob\n",
    "import csv\n",
    "import os\n",
    "from os import chdir"
   ]
  },
  {
   "cell_type": "code",
   "execution_count": 2,
   "metadata": {},
   "outputs": [
    {
     "name": "stdout",
     "output_type": "stream",
     "text": [
      "Success!\n"
     ]
    }
   ],
   "source": [
    "if not os.path.exists(\"../data/raw/Twitch_2018/Twitch_2018/\"):\n",
    "    print(\"Missing dataset file\")\n",
    "    exisit=False\n",
    "else:\n",
    "    print(\"Success!\")\n",
    "    exists=True"
   ]
  },
  {
   "cell_type": "code",
   "execution_count": 3,
   "metadata": {},
   "outputs": [],
   "source": [
    "csv_file_path = '../data/raw/Twitch_2018/Twitch_2018/'\n",
    "chdir(csv_file_path)"
   ]
  },
  {
   "cell_type": "code",
   "execution_count": 4,
   "metadata": {},
   "outputs": [],
   "source": [
    "extension = 'csv'\n",
    "all_filenames = [i for i in glob.glob('*.{}'.format(extension))]"
   ]
  },
  {
   "cell_type": "code",
   "execution_count": 5,
   "metadata": {},
   "outputs": [
    {
     "name": "stderr",
     "output_type": "stream",
     "text": [
      "C:\\Users\\Sean Harkin\\Anaconda3\\lib\\site-packages\\ipykernel_launcher.py:1: FutureWarning: Sorting because non-concatenation axis is not aligned. A future version\n",
      "of pandas will change to not sort by default.\n",
      "\n",
      "To accept the future behavior, pass 'sort=False'.\n",
      "\n",
      "To retain the current behavior and silence the warning, pass 'sort=True'.\n",
      "\n",
      "  \"\"\"Entry point for launching an IPython kernel.\n"
     ]
    }
   ],
   "source": [
    "combined_csv = pd.concat([pd.read_csv(f) for f in all_filenames ])\n",
    "#export to csv\n",
    "combined_csv.to_csv( \"twitch2018.csv\", index=False, encoding='utf-8-sig')"
   ]
  },
  {
   "cell_type": "code",
   "execution_count": 7,
   "metadata": {},
   "outputs": [
    {
     "data": {
      "text/html": [
       "<div>\n",
       "<style scoped>\n",
       "    .dataframe tbody tr th:only-of-type {\n",
       "        vertical-align: middle;\n",
       "    }\n",
       "\n",
       "    .dataframe tbody tr th {\n",
       "        vertical-align: top;\n",
       "    }\n",
       "\n",
       "    .dataframe thead th {\n",
       "        text-align: right;\n",
       "    }\n",
       "</style>\n",
       "<table border=\"1\" class=\"dataframe\">\n",
       "  <thead>\n",
       "    <tr style=\"text-align: right;\">\n",
       "      <th></th>\n",
       "      <th>Average channels</th>\n",
       "      <th>Average viewer ratio</th>\n",
       "      <th>Average viewers</th>\n",
       "      <th>Game</th>\n",
       "      <th>Peak channels</th>\n",
       "      <th>Peak viewers</th>\n",
       "      <th>Stream time</th>\n",
       "      <th>Streamers</th>\n",
       "      <th>Unnamed: 0</th>\n",
       "      <th>Unnamed: 0.1</th>\n",
       "      <th>Unnamed: 1</th>\n",
       "      <th>Unnamed: 11</th>\n",
       "      <th>Watch time</th>\n",
       "    </tr>\n",
       "  </thead>\n",
       "  <tbody>\n",
       "    <tr>\n",
       "      <th>0</th>\n",
       "      <td>14</td>\n",
       "      <td>71.25</td>\n",
       "      <td>1041</td>\n",
       "      <td>Artifact</td>\n",
       "      <td>1590</td>\n",
       "      <td>67321</td>\n",
       "      <td>7679280</td>\n",
       "      <td>12899</td>\n",
       "      <td>Artifact</td>\n",
       "      <td>NaN</td>\n",
       "      <td>101</td>\n",
       "      <td>Artifact</td>\n",
       "      <td>547156380</td>\n",
       "    </tr>\n",
       "    <tr>\n",
       "      <th>1</th>\n",
       "      <td>85</td>\n",
       "      <td>12.13</td>\n",
       "      <td>1039</td>\n",
       "      <td>Ring Of Elysium</td>\n",
       "      <td>937</td>\n",
       "      <td>51585</td>\n",
       "      <td>45019140</td>\n",
       "      <td>88485</td>\n",
       "      <td>Ring Of Elysium</td>\n",
       "      <td>NaN</td>\n",
       "      <td>102</td>\n",
       "      <td>Ring Of Elysium</td>\n",
       "      <td>546117720</td>\n",
       "    </tr>\n",
       "    <tr>\n",
       "      <th>2</th>\n",
       "      <td>59</td>\n",
       "      <td>17.37</td>\n",
       "      <td>1037</td>\n",
       "      <td>World of Warships</td>\n",
       "      <td>152</td>\n",
       "      <td>18204</td>\n",
       "      <td>31383420</td>\n",
       "      <td>26577</td>\n",
       "      <td>World of Warships</td>\n",
       "      <td>NaN</td>\n",
       "      <td>103</td>\n",
       "      <td>World of Warships</td>\n",
       "      <td>545052120</td>\n",
       "    </tr>\n",
       "    <tr>\n",
       "      <th>3</th>\n",
       "      <td>18</td>\n",
       "      <td>56.33</td>\n",
       "      <td>1035</td>\n",
       "      <td>Age of Empires II</td>\n",
       "      <td>53</td>\n",
       "      <td>45645</td>\n",
       "      <td>9658200</td>\n",
       "      <td>13603</td>\n",
       "      <td>Age of Empires II</td>\n",
       "      <td>NaN</td>\n",
       "      <td>104</td>\n",
       "      <td>Age of Empires II</td>\n",
       "      <td>544093140</td>\n",
       "    </tr>\n",
       "    <tr>\n",
       "      <th>4</th>\n",
       "      <td>25</td>\n",
       "      <td>40.74</td>\n",
       "      <td>1033</td>\n",
       "      <td>The Legend of Zelda: Ocarina of Time</td>\n",
       "      <td>141</td>\n",
       "      <td>152961</td>\n",
       "      <td>13330980</td>\n",
       "      <td>10669</td>\n",
       "      <td>The Legend of Zelda: Ocarina of Time</td>\n",
       "      <td>NaN</td>\n",
       "      <td>105</td>\n",
       "      <td>The Legend of Zelda: Ocarina of Time</td>\n",
       "      <td>543097980</td>\n",
       "    </tr>\n",
       "  </tbody>\n",
       "</table>\n",
       "</div>"
      ],
      "text/plain": [
       "   Average channels  Average viewer ratio  Average viewers  \\\n",
       "0                14                 71.25             1041   \n",
       "1                85                 12.13             1039   \n",
       "2                59                 17.37             1037   \n",
       "3                18                 56.33             1035   \n",
       "4                25                 40.74             1033   \n",
       "\n",
       "                                   Game  Peak channels  Peak viewers  \\\n",
       "0                              Artifact           1590         67321   \n",
       "1                       Ring Of Elysium            937         51585   \n",
       "2                     World of Warships            152         18204   \n",
       "3                     Age of Empires II             53         45645   \n",
       "4  The Legend of Zelda: Ocarina of Time            141        152961   \n",
       "\n",
       "   Stream time  Streamers                            Unnamed: 0 Unnamed: 0.1  \\\n",
       "0      7679280      12899                              Artifact          NaN   \n",
       "1     45019140      88485                       Ring Of Elysium          NaN   \n",
       "2     31383420      26577                     World of Warships          NaN   \n",
       "3      9658200      13603                     Age of Empires II          NaN   \n",
       "4     13330980      10669  The Legend of Zelda: Ocarina of Time          NaN   \n",
       "\n",
       "   Unnamed: 1                           Unnamed: 11  Watch time  \n",
       "0         101                              Artifact   547156380  \n",
       "1         102                       Ring Of Elysium   546117720  \n",
       "2         103                     World of Warships   545052120  \n",
       "3         104                     Age of Empires II   544093140  \n",
       "4         105  The Legend of Zelda: Ocarina of Time   543097980  "
      ]
     },
     "execution_count": 7,
     "metadata": {},
     "output_type": "execute_result"
    }
   ],
   "source": [
    "twitch_df_18 = pd.read_csv('twitch2018.csv')\n",
    "twitch_df_18.head()"
   ]
  },
  {
   "cell_type": "code",
   "execution_count": 8,
   "metadata": {},
   "outputs": [
    {
     "name": "stdout",
     "output_type": "stream",
     "text": [
      "<class 'pandas.core.frame.DataFrame'>\n",
      "RangeIndex: 43500 entries, 0 to 43499\n",
      "Data columns (total 13 columns):\n",
      "Average channels        43500 non-null int64\n",
      "Average viewer ratio    43500 non-null float64\n",
      "Average viewers         43500 non-null int64\n",
      "Game                    43500 non-null object\n",
      "Peak channels           43500 non-null int64\n",
      "Peak viewers            43500 non-null int64\n",
      "Stream time             43500 non-null int64\n",
      "Streamers               43500 non-null int64\n",
      "Unnamed: 0              43500 non-null object\n",
      "Unnamed: 0.1            29000 non-null object\n",
      "Unnamed: 1              43500 non-null int64\n",
      "Unnamed: 11             43500 non-null object\n",
      "Watch time              43500 non-null int64\n",
      "dtypes: float64(1), int64(8), object(4)\n",
      "memory usage: 4.3+ MB\n"
     ]
    }
   ],
   "source": [
    "twitch_df_18.info()"
   ]
  },
  {
   "cell_type": "code",
   "execution_count": 10,
   "metadata": {},
   "outputs": [],
   "source": [
    "twitch_df_18.to_csv(\"twitch_2018.csv\")"
   ]
  },
  {
   "cell_type": "code",
   "execution_count": null,
   "metadata": {},
   "outputs": [],
   "source": []
  }
 ],
 "metadata": {
  "kernelspec": {
   "display_name": "Python 3",
   "language": "python",
   "name": "python3"
  },
  "language_info": {
   "codemirror_mode": {
    "name": "ipython",
    "version": 3
   },
   "file_extension": ".py",
   "mimetype": "text/x-python",
   "name": "python",
   "nbconvert_exporter": "python",
   "pygments_lexer": "ipython3",
   "version": "3.7.3"
  }
 },
 "nbformat": 4,
 "nbformat_minor": 4
}
