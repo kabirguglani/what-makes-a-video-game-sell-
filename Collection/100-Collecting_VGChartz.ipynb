{
 "cells": [
  {
   "cell_type": "markdown",
   "metadata": {},
   "source": [
    "## **Purpose**\n",
    " In this notebook we will scrape video game data from the VGChartz website (https://www.vgchartz.com/)\n",
    "* We will collect the following information:\n",
    "    * Game name\n",
    "    * total_shipped\n",
    "    * Developer name\n",
    "    * Number of copies shipped\n",
    "    * rank\n",
    "    * platform the game is on\n",
    "    * release_date\n",
    "    * publisher name\n",
    "    * number of sales in North America (na_sales)\n",
    "    * Number of sales in Europe (eu_sales)\n",
    "    * Number of Sales in Japan (jp_sales)\n",
    "    * Number of sales in rest of the world (other_sales)\n",
    "    * Overall Global sales\n",
    "    * Genre of the game\n",
    "\n"
   ]
  },
  {
   "cell_type": "code",
   "execution_count": 1,
   "metadata": {},
   "outputs": [],
   "source": [
    "from bs4 import BeautifulSoup\n",
    "import requests\n",
    "import pandas as pd\n",
    "import numpy as np\n",
    "import csv\n",
    "import os"
   ]
  },
  {
   "cell_type": "markdown",
   "metadata": {},
   "source": [
    "To prevent scraping data that we already collected I will check if the csv file already exisits. If it does then there is no need to scrape the data again. If it doesnt already exist then it will scrape the data.\n",
    "\n",
    "Check if the csv file already exists"
   ]
  },
  {
   "cell_type": "code",
   "execution_count": 8,
   "metadata": {},
   "outputs": [
    {
     "name": "stdout",
     "output_type": "stream",
     "text": [
      "Success!\n"
     ]
    }
   ],
   "source": [
    "if not os.path.exists(\"../data/raw/Original_VGChartz.csv\"):\n",
    "    print(\"Missing dataset file\")\n",
    "    exisit=False\n",
    "else:\n",
    "    print(\"Success!\")\n",
    "    exists=True\n",
    "    df= pd.read_csv(\"../data/raw/Original_VGChartz.csv\", low_memory = False)"
   ]
  },
  {
   "cell_type": "markdown",
   "metadata": {},
   "source": [
    "I will now scrape the necessary data from VGChartz."
   ]
  },
  {
   "cell_type": "code",
   "execution_count": 12,
   "metadata": {},
   "outputs": [],
   "source": [
    "if exists==False:\n",
    "    pd.set_option('display.max_rows', 500)\n",
    "    pd.set_option('display.max_columns', 500)\n",
    "    pd.set_option('display.width', 1000)\n",
    "\n",
    "    pages = 55\n",
    "    genres=['Action', 'Action-Adventure', 'Adventure', 'Board+Game', 'Education', 'Fighting', 'Misc', 'MMO', 'Music', 'Party', 'Platform', 'Puzzle', 'Racing', 'Role-Playing', 'Sandbox', 'Shooter', 'Simulation', 'Sports', 'Strategy', 'Visual+Novel']\n",
    "    rank = []\n",
    "    gname = []\n",
    "    platform = []\n",
    "    release_date = []\n",
    "    publisher = []\n",
    "    sales_na = []\n",
    "    sales_eu = []\n",
    "    sales_jp = []\n",
    "    sales_ot = []\n",
    "    sales_gl = []\n",
    "    developer= []\n",
    "    total_shipped=[]\n",
    "    game_url=[]\n",
    "    game_genre=[]\n",
    "    game_url_string=[]\n",
    "    count=0\n",
    "    fails=0\n",
    "\n",
    "    urlhead = 'http://www.vgchartz.com/games/games.php?page='\n",
    "    urlmid = '&results=200&name=&console=&keyword=&publisher=&genre='\n",
    "    urltail = '&order=Sales&ownership=Both&boxart=Both&banner=Both&showdeleted=&region=All&goty_year=&developer=&direction=DESC&showtotalsales=1&shownasales=1&showpalsales=1&showjapansales=1&showothersales=1&showpublisher=1&showdeveloper=1&showreleasedate=1&showlastupdate=1&showvgchartzscore=1&showcriticscore=1&showuserscore=1&showshipped=1&alphasort=&showmultiplat=No'\n",
    "\n",
    "    for genre in genres:\n",
    "        for page in range(1,pages):\n",
    "            surl = urlhead + str(page) +urlmid +genre + urltail    \n",
    "            r = requests.get(surl)\n",
    "            r = r.text\n",
    "            soup = BeautifulSoup(r,'html.parser')\n",
    "            for row in soup.find_all('tr'):\n",
    "                try:\n",
    "                    col=row.find_all('td')\n",
    "                    col_0=col[0].text\n",
    "                    col_4=col[4].text\n",
    "                    col_5=col[5].text\n",
    "                    col_9=col[6].text\n",
    "                    col_10=col[10].text\n",
    "                    col_11=col[11].text\n",
    "                    col_12=col[12].text\n",
    "                    col_13=col[13].text\n",
    "                    col_14=col[14].text\n",
    "                    col_15=col[15].text\n",
    "                    img = col[3].find('img')\n",
    "                    col_3=img['alt']\n",
    "                    a_tag=col[2].find('a')\n",
    "                    url_col=a_tag['href']\n",
    "                    col_2=(a_tag.text)\n",
    "                    url_string=url_col.rsplit('/', 2)[1]\n",
    "\n",
    "                    if len(col_0)<6:\n",
    "                        rank.append(col_0)\n",
    "                        gname.append(col_2)\n",
    "                        publisher.append(col_4)\n",
    "                        developer.append(col_5)\n",
    "                        total_shipped.append(col_9)\n",
    "                        sales_gl.append(col_10)\n",
    "                        sales_na.append(col_11)\n",
    "                        sales_eu.append(col_12)\n",
    "                        sales_jp.append(col_13)\n",
    "                        sales_ot.append(col_14)\n",
    "                        release_date.append(col_15)\n",
    "                        platform.append(col_3)\n",
    "                        game_url.append(url_col)\n",
    "                        game_genre.append(genre)\n",
    "                        game_url_string.append(url_string)\n",
    "                        count+=1\n",
    "                except:\n",
    "                    fails+=1\n",
    "                    continue\n",
    "    print('vg_chartz count = '+str(count))\n",
    "    print('vg_chartz fails = '+str(fails))\n",
    "        \n",
    "    columns = {'total_shipped' : total_shipped,\n",
    "           'developer' : developer,\n",
    "           'rank': rank,\n",
    "           'name': gname,\n",
    "           'platform': platform,\n",
    "           'release_date': release_date,\n",
    "           'publisher': publisher,\n",
    "           'na_sales':sales_na,\n",
    "           'eu_sales': sales_eu,\n",
    "           'jp_sales': sales_jp,\n",
    "           'other_sales':sales_ot,\n",
    "           'global_sales':sales_gl,\n",
    "           'game_genre':game_genre,\n",
    "           'game_url':game_url,\n",
    "           'game_url_string':game_url_string}\n",
    "\n",
    "    df = pd.DataFrame(columns)\n",
    "    df = df[['total_shipped','developer','rank','name','platform','release_date','publisher','na_sales','eu_sales','jp_sales','other_sales','global_sales','game_genre','game_url','game_url_string']]\n",
    "    df.to_csv(\"VGChartz.csv\",sep=\",\",encoding='utf-8')\n"
   ]
  },
  {
   "cell_type": "markdown",
   "metadata": {},
   "source": [
    "This maps VGChartz Platform names to MetaCritic Platform names. VGChartz has sales data for nearly every platform including some of the older ones(NES, Atari, etc...). But, unfortunately MetaCritic does not keep track of some of those older platforms, so in that case, the MetaCritic data will be blank. So I decided to only include video games on platforms that MetaCritic keeps track of."
   ]
  },
  {
   "cell_type": "code",
   "execution_count": 13,
   "metadata": {},
   "outputs": [],
   "source": [
    "#Rewording platforms from vgchartz wording to metacritic wording for use in url\n",
    "platform_rewording_dict = {'PS3': 'playstation-3',\n",
    "                           'X360': 'xbox-360',\n",
    "                           'PC': 'pc', 'WiiU': 'wii-u',\n",
    "                           '3DS': '3ds',\n",
    "                           'PSV': 'playstation-vita',\n",
    "                           'iOS': 'ios',\n",
    "                           'Wii': 'wii',\n",
    "                           'DS': 'ds',\n",
    "                           'PSP': 'psp',\n",
    "                           'PS2': 'playstation-2',\n",
    "                           'PS': 'playstation',\n",
    "                           'XB': 'xbox', \n",
    "                           'GC': 'gamecube',\n",
    "                           'GBA': 'game-boy-advance',\n",
    "                           'DC': 'dreamcast',\n",
    "                           'PS4':'playstation-4',\n",
    "                           'XOne':'xbox-one',\n",
    "                           'NS':'switch'\n",
    "                          }"
   ]
  },
  {
   "cell_type": "markdown",
   "metadata": {},
   "source": [
    "I Remove games from the data frame that arent on these platforms\n",
    "\n",
    "This function turns the keys in the platform_rewording_dict into a list"
   ]
  },
  {
   "cell_type": "code",
   "execution_count": 14,
   "metadata": {},
   "outputs": [],
   "source": [
    "def getList(dict): \n",
    "    list = [] \n",
    "    for key in dict.keys(): \n",
    "        list.append(key) \n",
    "          \n",
    "    return list"
   ]
  },
  {
   "cell_type": "code",
   "execution_count": 15,
   "metadata": {},
   "outputs": [],
   "source": [
    "platform_list=getList(platform_rewording_dict) "
   ]
  },
  {
   "cell_type": "code",
   "execution_count": 16,
   "metadata": {},
   "outputs": [
    {
     "data": {
      "text/plain": [
       "39613"
      ]
     },
     "execution_count": 16,
     "metadata": {},
     "output_type": "execute_result"
    }
   ],
   "source": [
    "df1=df[df['platform'].isin(platform_list)]\n",
    "len(df1.index)"
   ]
  },
  {
   "cell_type": "markdown",
   "metadata": {},
   "source": [
    "Many games have no value for global sales. These games arent useful to us so I get rid of them."
   ]
  },
  {
   "cell_type": "code",
   "execution_count": 17,
   "metadata": {},
   "outputs": [
    {
     "data": {
      "text/plain": [
       "18336"
      ]
     },
     "execution_count": 17,
     "metadata": {},
     "output_type": "execute_result"
    }
   ],
   "source": [
    "#filtering for games that have at least 10,000 sales \n",
    "df1 = df1.replace('N/A', np.nan)\n",
    "df2 = df1.dropna(subset=['global_sales'])\n",
    "len(df2.index)"
   ]
  },
  {
   "cell_type": "markdown",
   "metadata": {},
   "source": [
    "I create a list of metacritic urls using game url string and platform. This url can be used to scrape MetaCritic for user score and further data "
   ]
  },
  {
   "cell_type": "code",
   "execution_count": 18,
   "metadata": {},
   "outputs": [],
   "source": [
    "#creating a list of metacritic urls  using game url string and platform to scrape for user score and further data \n",
    "meta_full_url_list=[]\n",
    "meta_url= None\n",
    "index=list(range(0,len(df2)))\n",
    "df2.index=index\n",
    "\n",
    "for row in range(0,len(df2)):\n",
    "    plat_temp=df2.loc[row,'platform']\n",
    "    url_string_temp=df2.loc[row,'game_url_string']\n",
    "    if plat_temp in platform_rewording_dict.keys():\n",
    "        meta_url='https://www.metacritic.com/game/'+ platform_rewording_dict[plat_temp]+'/'+url_string_temp\n",
    "        meta_full_url_list.append(meta_url)"
   ]
  },
  {
   "cell_type": "code",
   "execution_count": 19,
   "metadata": {},
   "outputs": [
    {
     "data": {
      "text/html": [
       "<div>\n",
       "<style scoped>\n",
       "    .dataframe tbody tr th:only-of-type {\n",
       "        vertical-align: middle;\n",
       "    }\n",
       "\n",
       "    .dataframe tbody tr th {\n",
       "        vertical-align: top;\n",
       "    }\n",
       "\n",
       "    .dataframe thead th {\n",
       "        text-align: right;\n",
       "    }\n",
       "</style>\n",
       "<table border=\"1\" class=\"dataframe\">\n",
       "  <thead>\n",
       "    <tr style=\"text-align: right;\">\n",
       "      <th></th>\n",
       "      <th>Unnamed: 0</th>\n",
       "      <th>total_shipped</th>\n",
       "      <th>developer</th>\n",
       "      <th>rank</th>\n",
       "      <th>name</th>\n",
       "      <th>platform</th>\n",
       "      <th>release_date</th>\n",
       "      <th>publisher</th>\n",
       "      <th>na_sales</th>\n",
       "      <th>eu_sales</th>\n",
       "      <th>jp_sales</th>\n",
       "      <th>other_sales</th>\n",
       "      <th>global_sales</th>\n",
       "      <th>game_genre</th>\n",
       "      <th>game_url</th>\n",
       "      <th>game_url_string</th>\n",
       "    </tr>\n",
       "  </thead>\n",
       "  <tbody>\n",
       "    <tr>\n",
       "      <th>4146</th>\n",
       "      <td>10053</td>\n",
       "      <td>N/A</td>\n",
       "      <td>Ubisoft Montreal</td>\n",
       "      <td>1330</td>\n",
       "      <td>Prince of Persia (2008)</td>\n",
       "      <td>PC</td>\n",
       "      <td>09th Dec 08</td>\n",
       "      <td>Ubisoft</td>\n",
       "      <td>NaN</td>\n",
       "      <td>0.02m</td>\n",
       "      <td>NaN</td>\n",
       "      <td>0.00m</td>\n",
       "      <td>0.03m</td>\n",
       "      <td>Adventure</td>\n",
       "      <td>https://www.vgchartz.com/game/24854/prince-of-...</td>\n",
       "      <td>prince-of-persia-2008</td>\n",
       "    </tr>\n",
       "  </tbody>\n",
       "</table>\n",
       "</div>"
      ],
      "text/plain": [
       "      Unnamed: 0 total_shipped           developer  rank  \\\n",
       "4146       10053         N/A    Ubisoft Montreal    1330   \n",
       "\n",
       "                             name platform   release_date  publisher na_sales  \\\n",
       "4146  Prince of Persia (2008)           PC  09th Dec 08    Ubisoft        NaN   \n",
       "\n",
       "     eu_sales jp_sales other_sales global_sales game_genre  \\\n",
       "4146    0.02m      NaN       0.00m        0.03m  Adventure   \n",
       "\n",
       "                                               game_url        game_url_string  \n",
       "4146  https://www.vgchartz.com/game/24854/prince-of-...  prince-of-persia-2008  "
      ]
     },
     "execution_count": 19,
     "metadata": {},
     "output_type": "execute_result"
    }
   ],
   "source": [
    "df2.sample()"
   ]
  },
  {
   "cell_type": "markdown",
   "metadata": {},
   "source": [
    "I add the MetaCritic url to the dataframe. This will be used to combine the VGChartz data and the MetaCritic data."
   ]
  },
  {
   "cell_type": "code",
   "execution_count": 60,
   "metadata": {},
   "outputs": [],
   "source": [
    "column_values = pd.Series(meta_full_url_list)\n",
    "df2.insert(loc=0, column='meta_url', value=column_values)\n",
    "df2.name=df2.name.str.strip()\n",
    "df2=df2.set_index('name')\n",
    "df2.to_csv(\"100-Collecting_VGChartz.csv\",sep=\",\",encoding='utf-8')"
   ]
  },
  {
   "cell_type": "code",
   "execution_count": null,
   "metadata": {},
   "outputs": [],
   "source": []
  },
  {
   "cell_type": "code",
   "execution_count": null,
   "metadata": {},
   "outputs": [],
   "source": []
  },
  {
   "cell_type": "code",
   "execution_count": null,
   "metadata": {},
   "outputs": [],
   "source": []
  }
 ],
 "metadata": {
  "kernelspec": {
   "display_name": "Python 3",
   "language": "python",
   "name": "python3"
  },
  "language_info": {
   "codemirror_mode": {
    "name": "ipython",
    "version": 3
   },
   "file_extension": ".py",
   "mimetype": "text/x-python",
   "name": "python",
   "nbconvert_exporter": "python",
   "pygments_lexer": "ipython3",
   "version": "3.7.3"
  }
 },
 "nbformat": 4,
 "nbformat_minor": 4
}
